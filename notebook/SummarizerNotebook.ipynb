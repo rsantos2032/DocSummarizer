{
 "cells": [
  {
   "cell_type": "markdown",
   "id": "fb3c3ebd-76dd-4b44-b19b-2e644f77b177",
   "metadata": {},
   "source": [
    "# Deep Learning Summarizer"
   ]
  },
  {
   "cell_type": "code",
   "execution_count": 1,
   "id": "04981e37-1ddb-44a4-b62b-d230d74bcdb3",
   "metadata": {},
   "outputs": [],
   "source": [
    "import numpy as np\n",
    "import pandas as pd\n",
    "import tensorflow as tf\n",
    "from datasets import load_dataset\n",
    "import opendatasets as od\n",
    "from attention import AttentionLayer\n",
    "import re\n",
    "import contractions\n",
    "import pickle\n",
    "from tensorflow.keras.preprocessing.text import Tokenizer\n",
    "from tensorflow.keras.preprocessing.sequence import pad_sequences\n",
    "from nltk.corpus import stopwords\n",
    "from tensorflow.keras.models import Model\n",
    "from tensorflow.keras.layers import Input, LSTM, Embedding, Dense, Concatenate, TimeDistributed, Bidirectional\n",
    "from tensorflow.keras.callbacks import EarlyStopping\n",
    "import warnings\n",
    "import tensorflow.keras.backend as K\n",
    "pd.set_option(\"display.max_colwidth\", 200)\n",
    "warnings.filterwarnings(\"ignore\")"
   ]
  },
  {
   "cell_type": "code",
   "execution_count": 2,
   "id": "7849f0a1",
   "metadata": {},
   "outputs": [
    {
     "name": "stdout",
     "output_type": "stream",
     "text": [
      "Skipping, found downloaded files in \"./data/newspaper-text-summarization-cnn-dailymail\" (use force=True to force download)\n"
     ]
    }
   ],
   "source": [
    "od.download('https://www.kaggle.com/datasets/gowrishankarp/newspaper-text-summarization-cnn-dailymail', data_dir='./data/')"
   ]
  },
  {
   "cell_type": "code",
   "execution_count": 30,
   "id": "507bad3e",
   "metadata": {},
   "outputs": [],
   "source": [
    "np.random.seed(128)\n",
    "total_rows = 287113\n",
    "skip_size = int(total_rows * 0.8)\n",
    "skip_sample = np.random.choice(range(1, total_rows+1), size=skip_size, replace=False).tolist()"
   ]
  },
  {
   "cell_type": "code",
   "execution_count": 31,
   "id": "0bfa6be4-524f-4a97-a863-b4d26c068654",
   "metadata": {},
   "outputs": [
    {
     "name": "stdout",
     "output_type": "stream",
     "text": [
      "(57423, 3)\n",
      "(13368, 3)\n",
      "(11490, 3)\n"
     ]
    }
   ],
   "source": [
    "train_df = pd.read_csv('./data/newspaper-text-summarization-cnn-dailymail/cnn_dailymail/train.csv', skiprows=skip_sample)\n",
    "validation_df = pd.read_csv('./data/newspaper-text-summarization-cnn-dailymail/cnn_dailymail/validation.csv')\n",
    "test_df = pd.read_csv('./data/newspaper-text-summarization-cnn-dailymail/cnn_dailymail/test.csv')\n",
    "\n",
    "print(train_df.shape)\n",
    "print(validation_df.shape)\n",
    "print(test_df.shape)"
   ]
  },
  {
   "cell_type": "code",
   "execution_count": 32,
   "id": "f1f709c3",
   "metadata": {},
   "outputs": [],
   "source": [
    "df = pd.concat([train_df, validation_df, test_df], keys=['train', 'validation', 'test'], ignore_index=False)"
   ]
  },
  {
   "cell_type": "code",
   "execution_count": 33,
   "id": "e21e4106",
   "metadata": {},
   "outputs": [
    {
     "data": {
      "text/plain": [
       "train  0    By . Associated Press . PUBLISHED: . 14:11 EST, 25 October 2013 . | . UPDATED: . 15:36 EST, 25 October 2013 . The bishop of the Fargo Catholic Diocese in North Dakota has exposed potentially hundr...\n",
       "       1    By . Margot Peppers . Nigerian and Cameroonian pop star Dencia has hit out at Lupita Nyong'o for her new contract with Lancome, accusing her of bowing to 'white people companies'. In an angry twee...\n",
       "       2    By . Daily Mail Reporter . PUBLISHED: . 19:44 EST, 10 October 2012 . | . UPDATED: . 05:29 EST, 11 October 2012 . A Florida woman said she was humiliated by local police as she accused them of hogt...\n",
       "       3    Kabul, Afghanistan (CNN) -- China's top security official paid a surprise visit to Afghanistan, where he met with President Hamid Karzai on issues ranging from investment and bilateral trade to to...\n",
       "       4    (CNN) -- A University of Wisconsin senior official resigned after making unwanted sexual advances to a male student employee of the school's athletic department, according to a report released thi...\n",
       "       5    By . Sophie Jane Evans . It looks as though it’s lying in wait to sting unsuspecting beachgoers. But in fact this giant jellyfish is harmless to humans – and a long way from home. Usually found in...\n",
       "       6    (CNN) -- Louisiana authorities said Tuesday they found the body of a missing 6-year-old girl, stabbed and stuffed in a trash can down the street from her home. Ahlittia North had been missing sinc...\n",
       "       7    A furniture shop refused to repair a pensioner's armchairs - after claiming she had ruined them with sweat caused by her medication. Grandmother Barbara Challons, of Mosborough, South Yorkshire, b...\n",
       "       8    Fears are growing that Britain's jails are becoming a hotbed of extremism after it was revealed today that nearly half the inmates of one top security prison are Muslim. Some 42 per cent of those ...\n",
       "       9    By . John Hall . Scam: Patricia Glancy conned five couples who were getting married at Wentworth Golf Club . A wedding planner who stole £11,000 from couples marrying at one of Britain's top golf ...\n",
       "Name: article, dtype: object"
      ]
     },
     "execution_count": 33,
     "metadata": {},
     "output_type": "execute_result"
    }
   ],
   "source": [
    "df['article'].head(10)"
   ]
  },
  {
   "cell_type": "code",
   "execution_count": 34,
   "id": "5704d2a6",
   "metadata": {},
   "outputs": [
    {
     "data": {
      "text/plain": [
       "train  0    Bishop John Folda, of North Dakota, is taking time off after being diagnosed .\\nHe contracted the infection through contaminated food in Italy .\\nChurch members in Fargo, Grand Forks and Jamestown...\n",
       "       1                         Dencia's comment is hypocritical considering she recently courted controversy for marketing 'dark spot remover' Whitenicious, which is frequently used as a skin-whitening cream .\n",
       "       2                                                Ashleigh Davis, 32, arrested last year after a fight with another woman .\\nShe claims she was hogtied and paraded topless by officers as she was arrested .\n",
       "       3    China's top security official visited Afghanistan on Saturday and met with President Hamid Karzai .\\nVisit was first by a top Chinese official since 1955, according to China's state-run Xinhua age...\n",
       "       4    John Chadima resigned after the allegations surfaced .\\nChadima was the senior associate athletic director at the University of Wisconsin .\\nAfter the sexual advance, Chadima threatened to have th...\n",
       "       5    Latest in string of barrel jellyfish sightings reported on beach in Portland .\\nEnormous creature was spotted by wildlife photographer Steve Trewhella .\\nComes days after a jellyfish the size of d...\n",
       "       6    NEW: Police make an arrest .\\nAuthorities say Matthew Flugence, 20, babysat the girl in the past .\\nAhlittia North was missing since Saturday morning .\\nFlugence's brother is arrested for obstruct...\n",
       "       7    Barbara Challons bought two armchairs from Harveys Furniture Store three years ago .\\nPensioner claims chairs have both been plagued by problems ever since .\\nShe confirmed to an inspector from th...\n",
       "       8    Increasing Muslim prison population highlighted by Whitemoor jail .\\nMore than one in four of its convicts say they are of Islamic faith .\\nFears the trend is down to growing radicalisation by Jih...\n",
       "       9    Patricia Glancy, 36, conned couples out of money at Wentworth Golf Club .\\nShe admitted five counts of fraud, with the stolen money totaling £10,787 .\\nGlancy was today spared jail after proving h...\n",
       "Name: highlights, dtype: object"
      ]
     },
     "execution_count": 34,
     "metadata": {},
     "output_type": "execute_result"
    }
   ],
   "source": [
    "df['highlights'].head(10)"
   ]
  },
  {
   "cell_type": "markdown",
   "id": "922ce2a6",
   "metadata": {},
   "source": [
    "Things to resolve:\n",
    "\n",
    "- Text inside parenthesis\n",
    "- Text inside brackets\n",
    "- Text inside curly brackets\n",
    "- Words of length less than 1\n",
    "- Text with symbols i.e. @, $, etc. (In general all I want is english alphabet characters and possibly numbers)\n",
    "- URLs i.e. www.comsol.com\n",
    "- Contractions\n",
    "- Stop Words\n",
    "- Lower Case\n",
    "- New lines (\\n) and possibly tabs (\\t)\n"
   ]
  },
  {
   "cell_type": "code",
   "execution_count": 27,
   "id": "3e45f725",
   "metadata": {},
   "outputs": [],
   "source": [
    "def clean_text(text, summary=False):\n",
    "    new_text = text.lower()\n",
    "    new_text = re.sub(r'\\([^)]*\\)|\\[[^\\]]*\\]|\\{[^}]*\\}', '', new_text) # Removes text inside (), [], {}\n",
    "    new_text = re.sub(r'\\b(?:https?://)?(?:www\\.)?\\S+\\.com\\b', '', new_text) # Removes URLs\n",
    "    new_text = re.sub(r'[\\n\\t]', '', new_text) # New lines and tabs\n",
    "    new_text = ' '.join([contractions.fix(w) for w in new_text.split(' ')]) # Fixes contractions\n",
    "    new_text = re.sub(r'[^\\w\\s]', ' ', new_text) # Remove non-words\n",
    "    new_text = re.sub(r'\\b\\w*[^\\w\\s]+\\w*\\b', '', new_text) # Remove symbols from words\n",
    "    new_text = re.sub(r'[^a-zA-z]', ' ', new_text) # Keeps all English alphabet characters\n",
    "    stop_words = set(stopwords.words('english'))\n",
    "    if not summary:\n",
    "        new_text = [w for w in new_text.split() if not w in stop_words] # Removing stop words from non abstract text\n",
    "    else:\n",
    "        new_text = new_text.split()\n",
    "    new_text = [w for w in new_text if len(w) > 1] # Removing remaining words with only 1 character\n",
    "    return (' '.join(new_text)).strip() "
   ]
  },
  {
   "cell_type": "code",
   "execution_count": 35,
   "id": "6c013a47",
   "metadata": {},
   "outputs": [],
   "source": [
    "df['cleaned_article'] = df['article'].apply(lambda x: clean_text(x))"
   ]
  },
  {
   "cell_type": "code",
   "execution_count": 36,
   "id": "6a59c1a3",
   "metadata": {},
   "outputs": [
    {
     "data": {
      "text/plain": [
       "train  0    associated press published est october updated est october bishop fargo catholic diocese north dakota exposed potentially hundreds church members fargo grand forks jamestown hepatitis virus late s...\n",
       "       1    margot peppers nigerian cameroonian pop star dencia hit lupita nyong new contract lancome accusing bowing white people companies angry tweet directed years slave star wrote oh lupita_nyongo cln ta...\n",
       "       2    daily mail reporter published est october updated est october florida woman said humiliated local police accused hogtying parading around topless bashing teeth arrest last year ashleigh davis ocal...\n",
       "       3    kabul afghanistan china top security official paid surprise visit afghanistan met president hamid karzai issues ranging investment bilateral trade terrorism drug trafficking china state run news a...\n",
       "       4    university wisconsin senior official resigned making unwanted sexual advances male student employee school athletic department according report released week john chadima resigned post senior asso...\n",
       "       5    sophie jane evans looks though lying wait sting unsuspecting beachgoers fact giant jellyfish harmless humans long way home usually found atlantic mediterranean creature spotted wildlife photograph...\n",
       "       6    louisiana authorities said tuesday found body missing year old girl stabbed stuffed trash street home ahlittia north missing since saturday morning mother awoke find gone apartment new orleans sub...\n",
       "       7    furniture shop refused repair pensioner armchairs claiming ruined sweat caused medication grandmother barbara challons mosborough south yorkshire bought two two seater armchairs harveys furniture ...\n",
       "       8    fears growing britain jails becoming hotbed extremism revealed today nearly half inmates one top security prison muslim per cent housed category whitemoor jail quarter london prisons consider isla...\n",
       "       9    john hall scam patricia glancy conned five couples getting married wentworth golf club wedding planner stole couples marrying one britain top golf clubs avoided jail spent money friend dying cance...\n",
       "Name: cleaned_article, dtype: object"
      ]
     },
     "execution_count": 36,
     "metadata": {},
     "output_type": "execute_result"
    }
   ],
   "source": [
    "df['cleaned_article'].head(10)"
   ]
  },
  {
   "cell_type": "code",
   "execution_count": 37,
   "id": "66b1dd04",
   "metadata": {},
   "outputs": [],
   "source": [
    "df['cleaned_highlights'] = df['highlights'].apply(lambda x: f'<SOS> {clean_text(x, summary=True)} <EOS>')"
   ]
  },
  {
   "cell_type": "code",
   "execution_count": 38,
   "id": "ba3d35fb",
   "metadata": {},
   "outputs": [
    {
     "data": {
      "text/plain": [
       "train  0    <SOS> bishop john folda of north dakota is taking time off after being diagnosed he contracted the infection through contaminated food in italy church members in fargo grand forks and jamestown co...\n",
       "       1                      <SOS> dencia comment is hypocritical considering she recently courted controversy for marketing dark spot remover whitenicious which is frequently used as skin whitening cream <EOS>\n",
       "       2                                                <SOS> ashleigh davis arrested last year after fight with another woman she claims she was hogtied and paraded topless by officers as she was arrested <EOS>\n",
       "       3    <SOS> china top security official visited afghanistan on saturday and met with president hamid karzai visit was first by top chinese official since according to china state run xinhua agency china...\n",
       "       4    <SOS> john chadima resigned after the allegations surfaced chadima was the senior associate athletic director at the university of wisconsin after the sexual advance chadima threatened to have the...\n",
       "       5    <SOS> latest in string of barrel jellyfish sightings reported on beach in portland enormous creature was spotted by wildlife photographer steve trewhella comes days after jellyfish the size of dus...\n",
       "       6    <SOS> new police make an arrest authorities say matthew flugence babysat the girl in the past ahlittia north was missing since saturday morning flugence brother is arrested for obstruction of just...\n",
       "       7    <SOS> barbara challons bought two armchairs from harveys furniture store three years ago pensioner claims chairs have both been plagued by problems ever since she confirmed to an inspector from th...\n",
       "       8    <SOS> increasing muslim prison population highlighted by whitemoor jail more than one in four of its convicts say they are of islamic faith fears the trend is down to growing radicalisation by jih...\n",
       "       9    <SOS> patricia glancy conned couples out of money at wentworth golf club she admitted five counts of fraud with the stolen money totaling glancy was today spared jail after proving how the spent s...\n",
       "Name: cleaned_highlights, dtype: object"
      ]
     },
     "execution_count": 38,
     "metadata": {},
     "output_type": "execute_result"
    }
   ],
   "source": [
    "df['cleaned_highlights'].head(10)"
   ]
  },
  {
   "cell_type": "code",
   "execution_count": 39,
   "id": "06c80e68",
   "metadata": {},
   "outputs": [
    {
     "data": {
      "image/png": "[encoded data removed]",
      "text/plain": [
       "<Figure size 640x480 with 2 Axes>"
      ]
     },
     "metadata": {},
     "output_type": "display_data"
    }
   ],
   "source": [
    "import matplotlib.pyplot as plt\n",
    "\n",
    "article_word_count = []\n",
    "highlights_word_count = []\n",
    "\n",
    "for document in df['cleaned_article']:\n",
    "    article_word_count.append(len(document.split(' ')))\n",
    "    \n",
    "for document in df['cleaned_highlights']:\n",
    "    highlights_word_count.append(len(document.split(' ')))\n",
    "    \n",
    "count_df = pd.DataFrame({'article': article_word_count, 'highlights': highlights_word_count})\n",
    "count_df.hist(bins=30)\n",
    "plt.show()"
   ]
  },
  {
   "cell_type": "code",
   "execution_count": 40,
   "id": "96f490e8",
   "metadata": {},
   "outputs": [
    {
     "name": "stdout",
     "output_type": "stream",
     "text": [
      "Mean Article Word Count: 374.9631263596699\n",
      "Median Article Word Count: 341.0\n",
      "Mean Highlights Word Count: 49.96654148588374\n",
      "Median Highlights Word Count: 47.0\n"
     ]
    }
   ],
   "source": [
    "print(f\"Mean Article Word Count: {np.mean(article_word_count)}\")\n",
    "print(f\"Median Article Word Count: {np.median(article_word_count)}\")\n",
    "print(f\"Mean Highlights Word Count: {np.mean(highlights_word_count)}\")\n",
    "print(f\"Median Highlights Word Count: {np.median(highlights_word_count)}\")"
   ]
  },
  {
   "cell_type": "code",
   "execution_count": 41,
   "id": "8d0dca9b",
   "metadata": {},
   "outputs": [
    {
     "name": "stdout",
     "output_type": "stream",
     "text": [
      "57423\n",
      "13368\n",
      "11490\n"
     ]
    }
   ],
   "source": [
    "train_df_cleaned, validation_df_cleaned, test_df_cleaned = df.xs('train'), df.xs('validation'), df.xs('test')\n",
    "\n",
    "print(train_df_cleaned.shape[0])\n",
    "print(validation_df_cleaned.shape[0])\n",
    "print(test_df_cleaned.shape[0])"
   ]
  },
  {
   "cell_type": "code",
   "execution_count": 42,
   "id": "2613a0be",
   "metadata": {},
   "outputs": [],
   "source": [
    "max_article_len = 350\n",
    "max_highlights_len = 48"
   ]
  },
  {
   "cell_type": "code",
   "execution_count": 43,
   "id": "fe69f433",
   "metadata": {},
   "outputs": [],
   "source": [
    "X_tokenizer = Tokenizer()\n",
    "X_tokenizer.fit_on_texts(list(train_df_cleaned['cleaned_article']))\n",
    "X_train = X_tokenizer.texts_to_sequences(list(train_df_cleaned['cleaned_article']))\n",
    "X_train = pad_sequences(X_train, maxlen=max_article_len, padding='post')\n",
    "\n",
    "y_tokenizer = Tokenizer()\n",
    "y_tokenizer.fit_on_texts(list(train_df_cleaned['cleaned_highlights']))\n",
    "y_train = y_tokenizer.texts_to_sequences(list(train_df_cleaned['cleaned_highlights']))\n",
    "y_train = pad_sequences(y_train, maxlen=max_article_len, padding='post')\n",
    "\n",
    "with open(\"../models/X_tokenizer.pickle\", \"wb\") as handle:\n",
    "    pickle.dump(X_tokenizer, handle)\n",
    "    \n",
    "with open(\"../models/y_tokenizer.pickle\", \"wb\") as handle:\n",
    "    pickle.dump(y_tokenizer, handle)"
   ]
  },
  {
   "cell_type": "code",
   "execution_count": 44,
   "id": "442559aa",
   "metadata": {},
   "outputs": [
    {
     "name": "stdout",
     "output_type": "stream",
     "text": [
      "199308\n",
      "72158\n"
     ]
    }
   ],
   "source": [
    "X_vocab = len(X_tokenizer.word_index) + 1\n",
    "y_vocab = len(y_tokenizer.word_index) + 1\n",
    "\n",
    "print(X_vocab)\n",
    "print(y_vocab)"
   ]
  },
  {
   "cell_type": "code",
   "execution_count": 50,
   "id": "78e33645",
   "metadata": {},
   "outputs": [
    {
     "data": {
      "text/html": [
       "<pre style=\"white-space:pre;overflow-x:auto;line-height:normal;font-family:Menlo,'DejaVu Sans Mono',consolas,'Courier New',monospace\"><span style=\"font-weight: bold\">Model: \"functional_1\"</span>\n",
       "</pre>\n"
      ],
      "text/plain": [
       "\u001b[1mModel: \"functional_1\"\u001b[0m\n"
      ]
     },
     "metadata": {},
     "output_type": "display_data"
    },
    {
     "data": {
      "text/html": [
       "<pre style=\"white-space:pre;overflow-x:auto;line-height:normal;font-family:Menlo,'DejaVu Sans Mono',consolas,'Courier New',monospace\">┏━━━━━━━━━━━━━━━━━━━━━┳━━━━━━━━━━━━━━━━━━━┳━━━━━━━━━━━━┳━━━━━━━━━━━━━━━━━━━┓\n",
       "┃<span style=\"font-weight: bold\"> Layer (type)        </span>┃<span style=\"font-weight: bold\"> Output Shape      </span>┃<span style=\"font-weight: bold\">    Param # </span>┃<span style=\"font-weight: bold\"> Connected to      </span>┃\n",
       "┡━━━━━━━━━━━━━━━━━━━━━╇━━━━━━━━━━━━━━━━━━━╇━━━━━━━━━━━━╇━━━━━━━━━━━━━━━━━━━┩\n",
       "│ input_layer         │ (<span style=\"color: #00d7ff; text-decoration-color: #00d7ff\">None</span>, <span style=\"color: #00af00; text-decoration-color: #00af00\">350</span>)       │          <span style=\"color: #00af00; text-decoration-color: #00af00\">0</span> │ -                 │\n",
       "│ (<span style=\"color: #0087ff; text-decoration-color: #0087ff\">InputLayer</span>)        │                   │            │                   │\n",
       "├─────────────────────┼───────────────────┼────────────┼───────────────────┤\n",
       "│ embedding           │ (<span style=\"color: #00d7ff; text-decoration-color: #00d7ff\">None</span>, <span style=\"color: #00af00; text-decoration-color: #00af00\">350</span>, <span style=\"color: #00af00; text-decoration-color: #00af00\">90</span>)   │ <span style=\"color: #00af00; text-decoration-color: #00af00\">17,937,720</span> │ input_layer[<span style=\"color: #00af00; text-decoration-color: #00af00\">0</span>][<span style=\"color: #00af00; text-decoration-color: #00af00\">0</span>] │\n",
       "│ (<span style=\"color: #0087ff; text-decoration-color: #0087ff\">Embedding</span>)         │                   │            │                   │\n",
       "├─────────────────────┼───────────────────┼────────────┼───────────────────┤\n",
       "│ bidirectional       │ [(<span style=\"color: #00d7ff; text-decoration-color: #00d7ff\">None</span>, <span style=\"color: #00af00; text-decoration-color: #00af00\">350</span>,      │     <span style=\"color: #00af00; text-decoration-color: #00af00\">99,600</span> │ embedding[<span style=\"color: #00af00; text-decoration-color: #00af00\">0</span>][<span style=\"color: #00af00; text-decoration-color: #00af00\">0</span>]   │\n",
       "│ (<span style=\"color: #0087ff; text-decoration-color: #0087ff\">Bidirectional</span>)     │ <span style=\"color: #00af00; text-decoration-color: #00af00\">150</span>), (<span style=\"color: #00d7ff; text-decoration-color: #00d7ff\">None</span>, <span style=\"color: #00af00; text-decoration-color: #00af00\">75</span>), │            │                   │\n",
       "│                     │ (<span style=\"color: #00d7ff; text-decoration-color: #00d7ff\">None</span>, <span style=\"color: #00af00; text-decoration-color: #00af00\">75</span>),       │            │                   │\n",
       "│                     │ (<span style=\"color: #00d7ff; text-decoration-color: #00d7ff\">None</span>, <span style=\"color: #00af00; text-decoration-color: #00af00\">75</span>),       │            │                   │\n",
       "│                     │ (<span style=\"color: #00d7ff; text-decoration-color: #00d7ff\">None</span>, <span style=\"color: #00af00; text-decoration-color: #00af00\">75</span>)]       │            │                   │\n",
       "├─────────────────────┼───────────────────┼────────────┼───────────────────┤\n",
       "│ concatenate         │ (<span style=\"color: #00d7ff; text-decoration-color: #00d7ff\">None</span>, <span style=\"color: #00af00; text-decoration-color: #00af00\">150</span>)       │          <span style=\"color: #00af00; text-decoration-color: #00af00\">0</span> │ bidirectional[<span style=\"color: #00af00; text-decoration-color: #00af00\">0</span>]… │\n",
       "│ (<span style=\"color: #0087ff; text-decoration-color: #0087ff\">Concatenate</span>)       │                   │            │ bidirectional[<span style=\"color: #00af00; text-decoration-color: #00af00\">0</span>]… │\n",
       "├─────────────────────┼───────────────────┼────────────┼───────────────────┤\n",
       "│ concatenate_1       │ (<span style=\"color: #00d7ff; text-decoration-color: #00d7ff\">None</span>, <span style=\"color: #00af00; text-decoration-color: #00af00\">150</span>)       │          <span style=\"color: #00af00; text-decoration-color: #00af00\">0</span> │ bidirectional[<span style=\"color: #00af00; text-decoration-color: #00af00\">0</span>]… │\n",
       "│ (<span style=\"color: #0087ff; text-decoration-color: #0087ff\">Concatenate</span>)       │                   │            │ bidirectional[<span style=\"color: #00af00; text-decoration-color: #00af00\">0</span>]… │\n",
       "├─────────────────────┼───────────────────┼────────────┼───────────────────┤\n",
       "│ lstm_1 (<span style=\"color: #0087ff; text-decoration-color: #0087ff\">LSTM</span>)       │ [(<span style=\"color: #00d7ff; text-decoration-color: #00d7ff\">None</span>, <span style=\"color: #00af00; text-decoration-color: #00af00\">350</span>,      │    <span style=\"color: #00af00; text-decoration-color: #00af00\">180,600</span> │ bidirectional[<span style=\"color: #00af00; text-decoration-color: #00af00\">0</span>]… │\n",
       "│                     │ <span style=\"color: #00af00; text-decoration-color: #00af00\">150</span>), (<span style=\"color: #00d7ff; text-decoration-color: #00d7ff\">None</span>,      │            │ concatenate[<span style=\"color: #00af00; text-decoration-color: #00af00\">0</span>][<span style=\"color: #00af00; text-decoration-color: #00af00\">0</span>… │\n",
       "│                     │ <span style=\"color: #00af00; text-decoration-color: #00af00\">150</span>), (<span style=\"color: #00d7ff; text-decoration-color: #00d7ff\">None</span>,      │            │ concatenate_1[<span style=\"color: #00af00; text-decoration-color: #00af00\">0</span>]… │\n",
       "│                     │ <span style=\"color: #00af00; text-decoration-color: #00af00\">150</span>)]             │            │                   │\n",
       "├─────────────────────┼───────────────────┼────────────┼───────────────────┤\n",
       "│ input_layer_1       │ (<span style=\"color: #00d7ff; text-decoration-color: #00d7ff\">None</span>, <span style=\"color: #00d7ff; text-decoration-color: #00d7ff\">None</span>)      │          <span style=\"color: #00af00; text-decoration-color: #00af00\">0</span> │ -                 │\n",
       "│ (<span style=\"color: #0087ff; text-decoration-color: #0087ff\">InputLayer</span>)        │                   │            │                   │\n",
       "├─────────────────────┼───────────────────┼────────────┼───────────────────┤\n",
       "│ lstm_2 (<span style=\"color: #0087ff; text-decoration-color: #0087ff\">LSTM</span>)       │ [(<span style=\"color: #00d7ff; text-decoration-color: #00d7ff\">None</span>, <span style=\"color: #00af00; text-decoration-color: #00af00\">350</span>,      │    <span style=\"color: #00af00; text-decoration-color: #00af00\">180,600</span> │ lstm_1[<span style=\"color: #00af00; text-decoration-color: #00af00\">0</span>][<span style=\"color: #00af00; text-decoration-color: #00af00\">0</span>]      │\n",
       "│                     │ <span style=\"color: #00af00; text-decoration-color: #00af00\">150</span>), (<span style=\"color: #00d7ff; text-decoration-color: #00d7ff\">None</span>,      │            │                   │\n",
       "│                     │ <span style=\"color: #00af00; text-decoration-color: #00af00\">150</span>), (<span style=\"color: #00d7ff; text-decoration-color: #00d7ff\">None</span>,      │            │                   │\n",
       "│                     │ <span style=\"color: #00af00; text-decoration-color: #00af00\">150</span>)]             │            │                   │\n",
       "├─────────────────────┼───────────────────┼────────────┼───────────────────┤\n",
       "│ embedding_1         │ (<span style=\"color: #00d7ff; text-decoration-color: #00d7ff\">None</span>, <span style=\"color: #00d7ff; text-decoration-color: #00d7ff\">None</span>, <span style=\"color: #00af00; text-decoration-color: #00af00\">90</span>)  │  <span style=\"color: #00af00; text-decoration-color: #00af00\">6,494,220</span> │ input_layer_1[<span style=\"color: #00af00; text-decoration-color: #00af00\">0</span>]… │\n",
       "│ (<span style=\"color: #0087ff; text-decoration-color: #0087ff\">Embedding</span>)         │                   │            │                   │\n",
       "├─────────────────────┼───────────────────┼────────────┼───────────────────┤\n",
       "│ lstm_3 (<span style=\"color: #0087ff; text-decoration-color: #0087ff\">LSTM</span>)       │ [(<span style=\"color: #00d7ff; text-decoration-color: #00d7ff\">None</span>, <span style=\"color: #00af00; text-decoration-color: #00af00\">350</span>,      │    <span style=\"color: #00af00; text-decoration-color: #00af00\">180,600</span> │ lstm_2[<span style=\"color: #00af00; text-decoration-color: #00af00\">0</span>][<span style=\"color: #00af00; text-decoration-color: #00af00\">0</span>]      │\n",
       "│                     │ <span style=\"color: #00af00; text-decoration-color: #00af00\">150</span>), (<span style=\"color: #00d7ff; text-decoration-color: #00d7ff\">None</span>,      │            │                   │\n",
       "│                     │ <span style=\"color: #00af00; text-decoration-color: #00af00\">150</span>), (<span style=\"color: #00d7ff; text-decoration-color: #00d7ff\">None</span>,      │            │                   │\n",
       "│                     │ <span style=\"color: #00af00; text-decoration-color: #00af00\">150</span>)]             │            │                   │\n",
       "├─────────────────────┼───────────────────┼────────────┼───────────────────┤\n",
       "│ lstm_4 (<span style=\"color: #0087ff; text-decoration-color: #0087ff\">LSTM</span>)       │ [(<span style=\"color: #00d7ff; text-decoration-color: #00d7ff\">None</span>, <span style=\"color: #00d7ff; text-decoration-color: #00d7ff\">None</span>,     │    <span style=\"color: #00af00; text-decoration-color: #00af00\">144,600</span> │ embedding_1[<span style=\"color: #00af00; text-decoration-color: #00af00\">0</span>][<span style=\"color: #00af00; text-decoration-color: #00af00\">0</span>… │\n",
       "│                     │ <span style=\"color: #00af00; text-decoration-color: #00af00\">150</span>), (<span style=\"color: #00d7ff; text-decoration-color: #00d7ff\">None</span>,      │            │ lstm_3[<span style=\"color: #00af00; text-decoration-color: #00af00\">0</span>][<span style=\"color: #00af00; text-decoration-color: #00af00\">1</span>],     │\n",
       "│                     │ <span style=\"color: #00af00; text-decoration-color: #00af00\">150</span>), (<span style=\"color: #00d7ff; text-decoration-color: #00d7ff\">None</span>,      │            │ lstm_3[<span style=\"color: #00af00; text-decoration-color: #00af00\">0</span>][<span style=\"color: #00af00; text-decoration-color: #00af00\">2</span>]      │\n",
       "│                     │ <span style=\"color: #00af00; text-decoration-color: #00af00\">150</span>)]             │            │                   │\n",
       "├─────────────────────┼───────────────────┼────────────┼───────────────────┤\n",
       "│ attention_layer     │ [(<span style=\"color: #00d7ff; text-decoration-color: #00d7ff\">None</span>, <span style=\"color: #00d7ff; text-decoration-color: #00d7ff\">None</span>,     │     <span style=\"color: #00af00; text-decoration-color: #00af00\">45,150</span> │ lstm_3[<span style=\"color: #00af00; text-decoration-color: #00af00\">0</span>][<span style=\"color: #00af00; text-decoration-color: #00af00\">0</span>],     │\n",
       "│ (<span style=\"color: #0087ff; text-decoration-color: #0087ff\">AttentionLayer</span>)    │ <span style=\"color: #00af00; text-decoration-color: #00af00\">150</span>), (<span style=\"color: #00d7ff; text-decoration-color: #00d7ff\">None</span>,      │            │ lstm_4[<span style=\"color: #00af00; text-decoration-color: #00af00\">0</span>][<span style=\"color: #00af00; text-decoration-color: #00af00\">0</span>]      │\n",
       "│                     │ <span style=\"color: #00d7ff; text-decoration-color: #00d7ff\">None</span>, <span style=\"color: #00af00; text-decoration-color: #00af00\">350</span>)]       │            │                   │\n",
       "├─────────────────────┼───────────────────┼────────────┼───────────────────┤\n",
       "│ concatenate_2       │ (<span style=\"color: #00d7ff; text-decoration-color: #00d7ff\">None</span>, <span style=\"color: #00d7ff; text-decoration-color: #00d7ff\">None</span>, <span style=\"color: #00af00; text-decoration-color: #00af00\">300</span>) │          <span style=\"color: #00af00; text-decoration-color: #00af00\">0</span> │ lstm_4[<span style=\"color: #00af00; text-decoration-color: #00af00\">0</span>][<span style=\"color: #00af00; text-decoration-color: #00af00\">0</span>],     │\n",
       "│ (<span style=\"color: #0087ff; text-decoration-color: #0087ff\">Concatenate</span>)       │                   │            │ attention_layer[<span style=\"color: #00af00; text-decoration-color: #00af00\">…</span> │\n",
       "├─────────────────────┼───────────────────┼────────────┼───────────────────┤\n",
       "│ time_distributed    │ (<span style=\"color: #00d7ff; text-decoration-color: #00d7ff\">None</span>, <span style=\"color: #00d7ff; text-decoration-color: #00d7ff\">None</span>,      │ <span style=\"color: #00af00; text-decoration-color: #00af00\">21,719,558</span> │ concatenate_2[<span style=\"color: #00af00; text-decoration-color: #00af00\">0</span>]… │\n",
       "│ (<span style=\"color: #0087ff; text-decoration-color: #0087ff\">TimeDistributed</span>)   │ <span style=\"color: #00af00; text-decoration-color: #00af00\">72158</span>)            │            │                   │\n",
       "└─────────────────────┴───────────────────┴────────────┴───────────────────┘\n",
       "</pre>\n"
      ],
      "text/plain": [
       "┏━━━━━━━━━━━━━━━━━━━━━┳━━━━━━━━━━━━━━━━━━━┳━━━━━━━━━━━━┳━━━━━━━━━━━━━━━━━━━┓\n",
       "┃\u001b[1m \u001b[0m\u001b[1mLayer (type)       \u001b[0m\u001b[1m \u001b[0m┃\u001b[1m \u001b[0m\u001b[1mOutput Shape     \u001b[0m\u001b[1m \u001b[0m┃\u001b[1m \u001b[0m\u001b[1m   Param #\u001b[0m\u001b[1m \u001b[0m┃\u001b[1m \u001b[0m\u001b[1mConnected to     \u001b[0m\u001b[1m \u001b[0m┃\n",
       "┡━━━━━━━━━━━━━━━━━━━━━╇━━━━━━━━━━━━━━━━━━━╇━━━━━━━━━━━━╇━━━━━━━━━━━━━━━━━━━┩\n",
       "│ input_layer         │ (\u001b[38;5;45mNone\u001b[0m, \u001b[38;5;34m350\u001b[0m)       │          \u001b[38;5;34m0\u001b[0m │ -                 │\n",
       "│ (\u001b[38;5;33mInputLayer\u001b[0m)        │                   │            │                   │\n",
       "├─────────────────────┼───────────────────┼────────────┼───────────────────┤\n",
       "│ embedding           │ (\u001b[38;5;45mNone\u001b[0m, \u001b[38;5;34m350\u001b[0m, \u001b[38;5;34m90\u001b[0m)   │ \u001b[38;5;34m17,937,720\u001b[0m │ input_layer[\u001b[38;5;34m0\u001b[0m][\u001b[38;5;34m0\u001b[0m] │\n",
       "│ (\u001b[38;5;33mEmbedding\u001b[0m)         │                   │            │                   │\n",
       "├─────────────────────┼───────────────────┼────────────┼───────────────────┤\n",
       "│ bidirectional       │ [(\u001b[38;5;45mNone\u001b[0m, \u001b[38;5;34m350\u001b[0m,      │     \u001b[38;5;34m99,600\u001b[0m │ embedding[\u001b[38;5;34m0\u001b[0m][\u001b[38;5;34m0\u001b[0m]   │\n",
       "│ (\u001b[38;5;33mBidirectional\u001b[0m)     │ \u001b[38;5;34m150\u001b[0m), (\u001b[38;5;45mNone\u001b[0m, \u001b[38;5;34m75\u001b[0m), │            │                   │\n",
       "│                     │ (\u001b[38;5;45mNone\u001b[0m, \u001b[38;5;34m75\u001b[0m),       │            │                   │\n",
       "│                     │ (\u001b[38;5;45mNone\u001b[0m, \u001b[38;5;34m75\u001b[0m),       │            │                   │\n",
       "│                     │ (\u001b[38;5;45mNone\u001b[0m, \u001b[38;5;34m75\u001b[0m)]       │            │                   │\n",
       "├─────────────────────┼───────────────────┼────────────┼───────────────────┤\n",
       "│ concatenate         │ (\u001b[38;5;45mNone\u001b[0m, \u001b[38;5;34m150\u001b[0m)       │          \u001b[38;5;34m0\u001b[0m │ bidirectional[\u001b[38;5;34m0\u001b[0m]… │\n",
       "│ (\u001b[38;5;33mConcatenate\u001b[0m)       │                   │            │ bidirectional[\u001b[38;5;34m0\u001b[0m]… │\n",
       "├─────────────────────┼───────────────────┼────────────┼───────────────────┤\n",
       "│ concatenate_1       │ (\u001b[38;5;45mNone\u001b[0m, \u001b[38;5;34m150\u001b[0m)       │          \u001b[38;5;34m0\u001b[0m │ bidirectional[\u001b[38;5;34m0\u001b[0m]… │\n",
       "│ (\u001b[38;5;33mConcatenate\u001b[0m)       │                   │            │ bidirectional[\u001b[38;5;34m0\u001b[0m]… │\n",
       "├─────────────────────┼───────────────────┼────────────┼───────────────────┤\n",
       "│ lstm_1 (\u001b[38;5;33mLSTM\u001b[0m)       │ [(\u001b[38;5;45mNone\u001b[0m, \u001b[38;5;34m350\u001b[0m,      │    \u001b[38;5;34m180,600\u001b[0m │ bidirectional[\u001b[38;5;34m0\u001b[0m]… │\n",
       "│                     │ \u001b[38;5;34m150\u001b[0m), (\u001b[38;5;45mNone\u001b[0m,      │            │ concatenate[\u001b[38;5;34m0\u001b[0m][\u001b[38;5;34m0\u001b[0m… │\n",
       "│                     │ \u001b[38;5;34m150\u001b[0m), (\u001b[38;5;45mNone\u001b[0m,      │            │ concatenate_1[\u001b[38;5;34m0\u001b[0m]… │\n",
       "│                     │ \u001b[38;5;34m150\u001b[0m)]             │            │                   │\n",
       "├─────────────────────┼───────────────────┼────────────┼───────────────────┤\n",
       "│ input_layer_1       │ (\u001b[38;5;45mNone\u001b[0m, \u001b[38;5;45mNone\u001b[0m)      │          \u001b[38;5;34m0\u001b[0m │ -                 │\n",
       "│ (\u001b[38;5;33mInputLayer\u001b[0m)        │                   │            │                   │\n",
       "├─────────────────────┼───────────────────┼────────────┼───────────────────┤\n",
       "│ lstm_2 (\u001b[38;5;33mLSTM\u001b[0m)       │ [(\u001b[38;5;45mNone\u001b[0m, \u001b[38;5;34m350\u001b[0m,      │    \u001b[38;5;34m180,600\u001b[0m │ lstm_1[\u001b[38;5;34m0\u001b[0m][\u001b[38;5;34m0\u001b[0m]      │\n",
       "│                     │ \u001b[38;5;34m150\u001b[0m), (\u001b[38;5;45mNone\u001b[0m,      │            │                   │\n",
       "│                     │ \u001b[38;5;34m150\u001b[0m), (\u001b[38;5;45mNone\u001b[0m,      │            │                   │\n",
       "│                     │ \u001b[38;5;34m150\u001b[0m)]             │            │                   │\n",
       "├─────────────────────┼───────────────────┼────────────┼───────────────────┤\n",
       "│ embedding_1         │ (\u001b[38;5;45mNone\u001b[0m, \u001b[38;5;45mNone\u001b[0m, \u001b[38;5;34m90\u001b[0m)  │  \u001b[38;5;34m6,494,220\u001b[0m │ input_layer_1[\u001b[38;5;34m0\u001b[0m]… │\n",
       "│ (\u001b[38;5;33mEmbedding\u001b[0m)         │                   │            │                   │\n",
       "├─────────────────────┼───────────────────┼────────────┼───────────────────┤\n",
       "│ lstm_3 (\u001b[38;5;33mLSTM\u001b[0m)       │ [(\u001b[38;5;45mNone\u001b[0m, \u001b[38;5;34m350\u001b[0m,      │    \u001b[38;5;34m180,600\u001b[0m │ lstm_2[\u001b[38;5;34m0\u001b[0m][\u001b[38;5;34m0\u001b[0m]      │\n",
       "│                     │ \u001b[38;5;34m150\u001b[0m), (\u001b[38;5;45mNone\u001b[0m,      │            │                   │\n",
       "│                     │ \u001b[38;5;34m150\u001b[0m), (\u001b[38;5;45mNone\u001b[0m,      │            │                   │\n",
       "│                     │ \u001b[38;5;34m150\u001b[0m)]             │            │                   │\n",
       "├─────────────────────┼───────────────────┼────────────┼───────────────────┤\n",
       "│ lstm_4 (\u001b[38;5;33mLSTM\u001b[0m)       │ [(\u001b[38;5;45mNone\u001b[0m, \u001b[38;5;45mNone\u001b[0m,     │    \u001b[38;5;34m144,600\u001b[0m │ embedding_1[\u001b[38;5;34m0\u001b[0m][\u001b[38;5;34m0\u001b[0m… │\n",
       "│                     │ \u001b[38;5;34m150\u001b[0m), (\u001b[38;5;45mNone\u001b[0m,      │            │ lstm_3[\u001b[38;5;34m0\u001b[0m][\u001b[38;5;34m1\u001b[0m],     │\n",
       "│                     │ \u001b[38;5;34m150\u001b[0m), (\u001b[38;5;45mNone\u001b[0m,      │            │ lstm_3[\u001b[38;5;34m0\u001b[0m][\u001b[38;5;34m2\u001b[0m]      │\n",
       "│                     │ \u001b[38;5;34m150\u001b[0m)]             │            │                   │\n",
       "├─────────────────────┼───────────────────┼────────────┼───────────────────┤\n",
       "│ attention_layer     │ [(\u001b[38;5;45mNone\u001b[0m, \u001b[38;5;45mNone\u001b[0m,     │     \u001b[38;5;34m45,150\u001b[0m │ lstm_3[\u001b[38;5;34m0\u001b[0m][\u001b[38;5;34m0\u001b[0m],     │\n",
       "│ (\u001b[38;5;33mAttentionLayer\u001b[0m)    │ \u001b[38;5;34m150\u001b[0m), (\u001b[38;5;45mNone\u001b[0m,      │            │ lstm_4[\u001b[38;5;34m0\u001b[0m][\u001b[38;5;34m0\u001b[0m]      │\n",
       "│                     │ \u001b[38;5;45mNone\u001b[0m, \u001b[38;5;34m350\u001b[0m)]       │            │                   │\n",
       "├─────────────────────┼───────────────────┼────────────┼───────────────────┤\n",
       "│ concatenate_2       │ (\u001b[38;5;45mNone\u001b[0m, \u001b[38;5;45mNone\u001b[0m, \u001b[38;5;34m300\u001b[0m) │          \u001b[38;5;34m0\u001b[0m │ lstm_4[\u001b[38;5;34m0\u001b[0m][\u001b[38;5;34m0\u001b[0m],     │\n",
       "│ (\u001b[38;5;33mConcatenate\u001b[0m)       │                   │            │ attention_layer[\u001b[38;5;34m…\u001b[0m │\n",
       "├─────────────────────┼───────────────────┼────────────┼───────────────────┤\n",
       "│ time_distributed    │ (\u001b[38;5;45mNone\u001b[0m, \u001b[38;5;45mNone\u001b[0m,      │ \u001b[38;5;34m21,719,558\u001b[0m │ concatenate_2[\u001b[38;5;34m0\u001b[0m]… │\n",
       "│ (\u001b[38;5;33mTimeDistributed\u001b[0m)   │ \u001b[38;5;34m72158\u001b[0m)            │            │                   │\n",
       "└─────────────────────┴───────────────────┴────────────┴───────────────────┘\n"
      ]
     },
     "metadata": {},
     "output_type": "display_data"
    },
    {
     "data": {
      "text/html": [
       "<pre style=\"white-space:pre;overflow-x:auto;line-height:normal;font-family:Menlo,'DejaVu Sans Mono',consolas,'Courier New',monospace\"><span style=\"font-weight: bold\"> Total params: </span><span style=\"color: #00af00; text-decoration-color: #00af00\">46,982,648</span> (179.22 MB)\n",
       "</pre>\n"
      ],
      "text/plain": [
       "\u001b[1m Total params: \u001b[0m\u001b[38;5;34m46,982,648\u001b[0m (179.22 MB)\n"
      ]
     },
     "metadata": {},
     "output_type": "display_data"
    },
    {
     "data": {
      "text/html": [
       "<pre style=\"white-space:pre;overflow-x:auto;line-height:normal;font-family:Menlo,'DejaVu Sans Mono',consolas,'Courier New',monospace\"><span style=\"font-weight: bold\"> Trainable params: </span><span style=\"color: #00af00; text-decoration-color: #00af00\">46,982,648</span> (179.22 MB)\n",
       "</pre>\n"
      ],
      "text/plain": [
       "\u001b[1m Trainable params: \u001b[0m\u001b[38;5;34m46,982,648\u001b[0m (179.22 MB)\n"
      ]
     },
     "metadata": {},
     "output_type": "display_data"
    },
    {
     "data": {
      "text/html": [
       "<pre style=\"white-space:pre;overflow-x:auto;line-height:normal;font-family:Menlo,'DejaVu Sans Mono',consolas,'Courier New',monospace\"><span style=\"font-weight: bold\"> Non-trainable params: </span><span style=\"color: #00af00; text-decoration-color: #00af00\">0</span> (0.00 B)\n",
       "</pre>\n"
      ],
      "text/plain": [
       "\u001b[1m Non-trainable params: \u001b[0m\u001b[38;5;34m0\u001b[0m (0.00 B)\n"
      ]
     },
     "metadata": {},
     "output_type": "display_data"
    }
   ],
   "source": [
    "K.clear_session()\n",
    "\n",
    "embed_dim = 90\n",
    "latent_dim = 150\n",
    "\n",
    "# Encoder\n",
    "encoder_input = Input(shape=(max_article_len, ))\n",
    "encoder_embed = Embedding(X_vocab, embed_dim, trainable=True)(encoder_input)\n",
    "encoder_bidirectional = Bidirectional(LSTM(75, return_sequences=True, return_state=True, dropout=0.4, recurrent_dropout=0.4))\n",
    "encoder_output_bi, forward_h, backward_h, forward_c, backward_c = encoder_bidirectional(encoder_embed)\n",
    "state_h = Concatenate(axis=-1)([forward_h, backward_h])\n",
    "state_c = Concatenate(axis=-1)([forward_c, backward_c])\n",
    "encoder_lstm1 = LSTM(latent_dim, return_sequences=True, return_state=True, dropout=0.4, recurrent_dropout=0.4)\n",
    "encoder_output1, state_h1, state_c1 = encoder_lstm1(encoder_output_bi, initial_state=[state_h, state_c])\n",
    "# encoder_output1, state_h1, state_c1 = encoder_lstm1(encoder_embed)\n",
    "encoder_lstm2 = LSTM(latent_dim, return_sequences=True, return_state=True, dropout=0.4, recurrent_dropout=0.4)\n",
    "encoder_output2, state_h2, state_c2 = encoder_lstm2(encoder_output1)\n",
    "encoder_lstm3 = LSTM(latent_dim, return_sequences=True, return_state=True, dropout=0.4, recurrent_dropout=0.4)\n",
    "encoder_output3, state_h3, state_c3 = encoder_lstm3(encoder_output2)\n",
    "\n",
    "# Decoder\n",
    "decoder_input = Input(shape=(None, ))\n",
    "decoder_embed = Embedding(y_vocab, embed_dim, trainable=True)(decoder_input)\n",
    "decoder_lstm = LSTM(latent_dim, return_sequences=True, return_state=True, dropout=0.4, recurrent_dropout=0.4)\n",
    "decoder_output, _, _ = decoder_lstm(decoder_embed, initial_state=[state_h3, state_c3])\n",
    "\n",
    "# Attention\n",
    "attention = AttentionLayer()\n",
    "attention_output, _ = attention([encoder_output3, decoder_output])\n",
    "\n",
    "# Concatenate Attention with LSTM Output\n",
    "concatenate = Concatenate(axis=-1)([decoder_output, attention_output])\n",
    "decoder_dense = TimeDistributed(Dense(y_vocab, activation='softmax'))\n",
    "decoder_output = decoder_dense(concatenate)\n",
    "\n",
    "model = Model([encoder_input, decoder_input], decoder_output)\n",
    "model.summary()"
   ]
  },
  {
   "cell_type": "code",
   "execution_count": 51,
   "id": "fd686060",
   "metadata": {},
   "outputs": [],
   "source": [
    "model.compile(optimizer='rmsprop', loss='sparse_categorical_crossentropy')"
   ]
  },
  {
   "cell_type": "code",
   "execution_count": 52,
   "id": "d401561b",
   "metadata": {},
   "outputs": [],
   "source": [
    "early_stop = EarlyStopping(monitor='val_loss', mode='min', verbose=1, patience=3)"
   ]
  },
  {
   "cell_type": "code",
   "execution_count": 53,
   "id": "557463db",
   "metadata": {},
   "outputs": [],
   "source": [
    "X_val = X_tokenizer.texts_to_sequences(list(validation_df_cleaned['cleaned_article']))\n",
    "X_val = pad_sequences(X_val, maxlen=max_article_len, padding='post')\n",
    "y_val = y_tokenizer.texts_to_sequences(list(validation_df_cleaned['cleaned_highlights']))\n",
    "y_val = pad_sequences(y_val, maxlen=max_highlights_len, padding='post')"
   ]
  },
  {
   "cell_type": "code",
   "execution_count": 54,
   "id": "f587e3dd",
   "metadata": {},
   "outputs": [],
   "source": [
    "X_train_m = [X_train, y_train[:, :-1]]\n",
    "y_train_m = y_train.reshape(y_train.shape[0], y_train.shape[1], 1)[:, 1:]\n",
    "\n",
    "X_val_m = [X_val, y_val[:, :-1]]\n",
    "y_val_m = y_val.reshape(y_val.shape[0], y_val.shape[1], 1)[:, 1:]"
   ]
  },
  {
   "cell_type": "code",
   "execution_count": 55,
   "id": "c2a8d00b",
   "metadata": {},
   "outputs": [
    {
     "name": "stdout",
     "output_type": "stream",
     "text": [
      "Epoch 1/20\n"
     ]
    }
   ],
   "source": [
    "history = model.fit(X_train_m, y_train_m, batch_size=32, epochs=20, validation_data=(X_val_m, y_val_m), callbacks=[early_stop], verbose=1)"
   ]
  }
 ],
 "metadata": {
  "kernelspec": {
   "display_name": "Python 3 (ipykernel)",
   "language": "python",
   "name": "python3"
  },
  "language_info": {
   "codemirror_mode": {
    "name": "ipython",
    "version": 3
   },
   "file_extension": ".py",
   "mimetype": "text/x-python",
   "name": "python",
   "nbconvert_exporter": "python",
   "pygments_lexer": "ipython3",
   "version": "3.12.3"
  }
 },
 "nbformat": 4,
 "nbformat_minor": 5
}
