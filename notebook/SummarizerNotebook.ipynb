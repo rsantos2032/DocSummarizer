{
 "cells": [
  {
   "cell_type": "markdown",
   "id": "fb3c3ebd-76dd-4b44-b19b-2e644f77b177",
   "metadata": {},
   "source": [
    "# Deep Learning Summarizer"
   ]
  },
  {
   "cell_type": "code",
   "execution_count": 1,
   "id": "04981e37-1ddb-44a4-b62b-d230d74bcdb3",
   "metadata": {},
   "outputs": [],
   "source": [
    "import numpy as np\n",
    "import pandas as pd\n",
    "import tensorflow as tf\n",
    "import opendatasets as od\n",
    "from attention import AttentionLayer\n",
    "import re\n",
    "import contractions\n",
    "import pickle\n",
    "from tensorflow.keras.preprocessing.text import Tokenizer\n",
    "from tensorflow.keras.preprocessing.sequence import pad_sequences\n",
    "from nltk.corpus import stopwords\n",
    "from tensorflow.keras.models import Model\n",
    "from tensorflow.keras.layers import Input, LSTM, Embedding, Dense, Concatenate, TimeDistributed, Bidirectional\n",
    "from tensorflow.keras.callbacks import EarlyStopping\n",
    "import warnings\n",
    "import tensorflow.keras.backend as K\n",
    "import matplotlib.pyplot as plt\n",
    "pd.set_option(\"display.max_colwidth\", 200)\n",
    "warnings.filterwarnings(\"ignore\")"
   ]
  },
  {
   "cell_type": "code",
   "execution_count": 2,
   "id": "7849f0a1",
   "metadata": {},
   "outputs": [
    {
     "name": "stdout",
     "output_type": "stream",
     "text": [
      "Skipping, found downloaded files in \"./data/newspaper-text-summarization-cnn-dailymail\" (use force=True to force download)\n"
     ]
    }
   ],
   "source": [
    "od.download('https://www.kaggle.com/datasets/gowrishankarp/newspaper-text-summarization-cnn-dailymail', data_dir='./data/')"
   ]
  },
  {
   "cell_type": "code",
   "execution_count": 3,
   "id": "507bad3e",
   "metadata": {},
   "outputs": [],
   "source": [
    "np.random.seed(128)\n",
    "total_rows = 287113\n",
    "skip_size = int(total_rows * 0.9)\n",
    "skip_sample = np.random.choice(range(1, total_rows+1), size=skip_size, replace=False).tolist()"
   ]
  },
  {
   "cell_type": "code",
   "execution_count": 4,
   "id": "0bfa6be4-524f-4a97-a863-b4d26c068654",
   "metadata": {},
   "outputs": [
    {
     "name": "stdout",
     "output_type": "stream",
     "text": [
      "(28712, 3)\n",
      "(13368, 3)\n",
      "(11490, 3)\n"
     ]
    }
   ],
   "source": [
    "train_df = pd.read_csv('./data/newspaper-text-summarization-cnn-dailymail/cnn_dailymail/train.csv', skiprows=skip_sample)\n",
    "# train_df = pd.read_csv('./data/newspaper-text-summarization-cnn-dailymail/cnn_dailymail/train.csv')\n",
    "validation_df = pd.read_csv('./data/newspaper-text-summarization-cnn-dailymail/cnn_dailymail/validation.csv')\n",
    "test_df = pd.read_csv('./data/newspaper-text-summarization-cnn-dailymail/cnn_dailymail/test.csv')\n",
    "\n",
    "print(train_df.shape)\n",
    "print(validation_df.shape)\n",
    "print(test_df.shape)"
   ]
  },
  {
   "cell_type": "code",
   "execution_count": 5,
   "id": "f1f709c3",
   "metadata": {},
   "outputs": [],
   "source": [
    "df = pd.concat([train_df, validation_df, test_df], keys=['train', 'validation', 'test'], ignore_index=False)"
   ]
  },
  {
   "cell_type": "code",
   "execution_count": 6,
   "id": "e21e4106",
   "metadata": {},
   "outputs": [
    {
     "data": {
      "text/plain": [
       "train  0    (CNN) -- Louisiana authorities said Tuesday they found the body of a missing 6-year-old girl, stabbed and stuffed in a trash can down the street from her home. Ahlittia North had been missing sinc...\n",
       "       1    A furniture shop refused to repair a pensioner's armchairs - after claiming she had ruined them with sweat caused by her medication. Grandmother Barbara Challons, of Mosborough, South Yorkshire, b...\n",
       "       2    Fears are growing that Britain's jails are becoming a hotbed of extremism after it was revealed today that nearly half the inmates of one top security prison are Muslim. Some 42 per cent of those ...\n",
       "       3    By . David Williams . They were intended to be ‘Tapes from Beyond the Grave’ – explosive interviews with former IRA terrorists revealing some of their most notorious crimes. The interviews, record...\n",
       "       4    Britain is at 'very significant risk' from a terror attack by extremists inspired by ISIS jihadis, Foreign Secretary Philip Hammond warned today. Speaking ahead of a counter-terror summit in Londo...\n",
       "       5    A neighborhood have held Christmas early for a father who has just weeks to live after an unexpected diagnosis. Frank Henderson, 60, Shoreline, Washington, only found out he had cancer two weeks a...\n",
       "       6    By . Chris Greenwood . PUBLISHED: . 05:31 EST, 6 June 2013 . | . UPDATED: . 19:22 EST, 6 June 2013 . It brings a new meaning to the phrase ‘heavy police presence’. This substantial officer was at ...\n",
       "       7    Baghdad (CNN) -- Radical Iraqi cleric Muqtada al-Sadr has returned to the country after more than three years in Iran, according to Iraqi state television and websites maintained by al-Sadr's foll...\n",
       "       8    Kabul, Afghanistan (CNN) -- Thousands of bottles of alcohol were destroyed in Kabul this week, in what authorities described as the product of a crackdown on illegal smuggling and sales. The bottl...\n",
       "       9    The U.S. Supreme Court on Tuesday refused to stop Texas from implementing a part of a new abortion law that requires doctors to get admitting privileges at a hospital within 30 miles of the clinic...\n",
       "Name: article, dtype: object"
      ]
     },
     "execution_count": 6,
     "metadata": {},
     "output_type": "execute_result"
    }
   ],
   "source": [
    "df['article'].head(10)"
   ]
  },
  {
   "cell_type": "code",
   "execution_count": 7,
   "id": "5704d2a6",
   "metadata": {},
   "outputs": [
    {
     "data": {
      "text/plain": [
       "train  0    NEW: Police make an arrest .\\nAuthorities say Matthew Flugence, 20, babysat the girl in the past .\\nAhlittia North was missing since Saturday morning .\\nFlugence's brother is arrested for obstruct...\n",
       "       1    Barbara Challons bought two armchairs from Harveys Furniture Store three years ago .\\nPensioner claims chairs have both been plagued by problems ever since .\\nShe confirmed to an inspector from th...\n",
       "       2    Increasing Muslim prison population highlighted by Whitemoor jail .\\nMore than one in four of its convicts say they are of Islamic faith .\\nFears the trend is down to growing radicalisation by Jih...\n",
       "       3    Interviews not supposed to be released until after deaths of all concerned .\\nBut after a legal battle, secret tapes passed to police in Northern Ireland .\\nThey are thought to be key factor behin...\n",
       "       4    Hammond warns against complacency in the fight to disrupt terror plots .\\nForeign ministers from across the globe fly into London for talks .\\nThey will discuss plan to take on jihadis and prevent...\n",
       "       5    Frank Henderson, 60, only found out he had cancer two weeks ago .\\nFrank has always been a fan of Christmas and usually puts up the lights .\\nNeighbors all joined in with the festive celebrations ...\n",
       "       6    Sergeant Andy Sharp was snapped escorting protesters in central London .\\nRecruits have to pass fitness tests when they join but no requirements for non-specialist officers to complete tests once ...\n",
       "       7                                                      Muqtada al-Sadr has been in Iran since 2007 .\\nHe's been studying to be an ayatollah .\\nHis political bloc was a kingmaker after elections in March .\n",
       "       8    Official: Bottles are almost exclusively from \"Afghan sources\" and not foreigners .\\nAlcohol is largely banned in Afghanistan .\\nCertain areas, however, that cater to foreigners are permitted to s...\n",
       "       9                       Four U.S. Supreme Court justices dissent in the ruling .\\nWendy Davis: \"This is an abuse of power by politicians\"\\nTexas governor vows to protect the \"culture of life in our state\"\n",
       "Name: highlights, dtype: object"
      ]
     },
     "execution_count": 7,
     "metadata": {},
     "output_type": "execute_result"
    }
   ],
   "source": [
    "df['highlights'].head(10)"
   ]
  },
  {
   "cell_type": "markdown",
   "id": "922ce2a6",
   "metadata": {},
   "source": [
    "Things to resolve:\n",
    "\n",
    "- Text inside parenthesis\n",
    "- Text inside brackets\n",
    "- Text inside curly brackets\n",
    "- Words of length less than 1\n",
    "- Text with symbols i.e. @, $, etc. (In general all I want is english alphabet characters and possibly numbers)\n",
    "- URLs i.e. www.comsol.com\n",
    "- Contractions\n",
    "- Stop Words\n",
    "- Lower Case\n",
    "- New lines (\\n) and possibly tabs (\\t)\n"
   ]
  },
  {
   "cell_type": "code",
   "execution_count": 8,
   "id": "3e45f725",
   "metadata": {},
   "outputs": [],
   "source": [
    "def clean_text(text, summary=False):\n",
    "    new_text = text.lower()\n",
    "    new_text = re.sub(r'\\([^)]*\\)|\\[[^\\]]*\\]|\\{[^}]*\\}', '', new_text) # Removes text inside (), [], {}\n",
    "    new_text = re.sub(r'\\b(?:https?://)?(?:www\\.)?\\S+\\.com\\b', '', new_text) # Removes URLs\n",
    "    new_text = re.sub(r'[\\n\\t]', '', new_text) # New lines and tabs\n",
    "    new_text = ' '.join([contractions.fix(w) for w in new_text.split(' ')]) # Fixes contractions\n",
    "    new_text = re.sub(r'[^\\w\\s]', ' ', new_text) # Remove non-words\n",
    "    new_text = re.sub(r'\\b\\w*[^\\w\\s]+\\w*\\b', '', new_text) # Remove symbols from words\n",
    "    new_text = re.sub(r'[^a-zA-z]', ' ', new_text) # Keeps all English alphabet characters\n",
    "    stop_words = set(stopwords.words('english'))\n",
    "    if not summary:\n",
    "        new_text = [w for w in new_text.split() if not w in stop_words] # Removing stop words from non abstract text\n",
    "    else:\n",
    "        new_text = new_text.split()\n",
    "    new_text = [w for w in new_text if len(w) > 1] # Removing remaining words with only 1 character\n",
    "    return (' '.join(new_text)).strip() "
   ]
  },
  {
   "cell_type": "code",
   "execution_count": 9,
   "id": "6c013a47",
   "metadata": {},
   "outputs": [],
   "source": [
    "df['cleaned_article'] = df['article'].apply(lambda x: clean_text(x))"
   ]
  },
  {
   "cell_type": "code",
   "execution_count": 10,
   "id": "6a59c1a3",
   "metadata": {},
   "outputs": [
    {
     "data": {
      "text/plain": [
       "train  0    louisiana authorities said tuesday found body missing year old girl stabbed stuffed trash street home ahlittia north missing since saturday morning mother awoke find gone apartment new orleans sub...\n",
       "       1    furniture shop refused repair pensioner armchairs claiming ruined sweat caused medication grandmother barbara challons mosborough south yorkshire bought two two seater armchairs harveys furniture ...\n",
       "       2    fears growing britain jails becoming hotbed extremism revealed today nearly half inmates one top security prison muslim per cent housed category whitemoor jail quarter london prisons consider isla...\n",
       "       3    david williams intended tapes beyond grave explosive interviews former ira terrorists revealing notorious crimes interviews recorded history project granted strict condition released deaths concer...\n",
       "       4    britain significant risk terror attack extremists inspired isis jihadis foreign secretary philip hammond warned today speaking ahead counter terror summit london today warned complacency fight dis...\n",
       "       5    neighborhood held christmas early father weeks live unexpected diagnosis frank henderson shoreline washington found cancer two weeks ago given fortnight live already family packed lots activities ...\n",
       "       6    chris greenwood published est june updated est june brings new meaning phrase heavy police presence substantial officer centre debate physical fitness police force yesterday amid claims britain fa...\n",
       "       7    baghdad radical iraqi cleric muqtada al sadr returned country three years iran according iraqi state television websites maintained al sadr followers shiite cleric iran since early apart public ap...\n",
       "       8    kabul afghanistan thousands bottles alcohol destroyed kabul week authorities described product crackdown illegal smuggling sales bottles confiscated two year period around afghan capital according...\n",
       "       9    supreme court tuesday refused stop texas implementing part new abortion law requires doctors get admitting privileges hospital within miles clinic providing abortion services federal appeals court...\n",
       "Name: cleaned_article, dtype: object"
      ]
     },
     "execution_count": 10,
     "metadata": {},
     "output_type": "execute_result"
    }
   ],
   "source": [
    "df['cleaned_article'].head(10)"
   ]
  },
  {
   "cell_type": "code",
   "execution_count": 11,
   "id": "66b1dd04",
   "metadata": {},
   "outputs": [],
   "source": [
    "df['cleaned_highlights'] = df['highlights'].apply(lambda x: f'sostok {clean_text(x, summary=True)} eostok')"
   ]
  },
  {
   "cell_type": "code",
   "execution_count": 12,
   "id": "ba3d35fb",
   "metadata": {},
   "outputs": [
    {
     "data": {
      "text/plain": [
       "train  0    sostok new police make an arrest authorities say matthew flugence babysat the girl in the past ahlittia north was missing since saturday morning flugence brother is arrested for obstruction of jus...\n",
       "       1    sostok barbara challons bought two armchairs from harveys furniture store three years ago pensioner claims chairs have both been plagued by problems ever since she confirmed to an inspector from t...\n",
       "       2    sostok increasing muslim prison population highlighted by whitemoor jail more than one in four of its convicts say they are of islamic faith fears the trend is down to growing radicalisation by ji...\n",
       "       3    sostok interviews not supposed to be released until after deaths of all concerned but after legal battle secret tapes passed to police in northern ireland they are thought to be key factor behind ...\n",
       "       4    sostok hammond warns against complacency in the fight to disrupt terror plots foreign ministers from across the globe fly into london for talks they will discuss plan to take on jihadis and preven...\n",
       "       5    sostok frank henderson only found out he had cancer two weeks ago frank has always been fan of christmas and usually puts up the lights neighbors all joined in with the festive celebrations in sho...\n",
       "       6    sostok sergeant andy sharp was snapped escorting protesters in central london recruits have to pass fitness tests when they join but no requirements for non specialist officers to complete tests o...\n",
       "       7                                                      sostok muqtada al sadr has been in iran since he is been studying to be an ayatollah his political bloc was kingmaker after elections in march eostok\n",
       "       8    sostok official bottles are almost exclusively from afghan sources and not foreigners alcohol is largely banned in afghanistan certain areas however that cater to foreigners are permitted to sell ...\n",
       "       9                   sostok four you supreme court justices dissent in the ruling wendy davis this is an abuse of power by politicians texas governor vows to protect the culture of life in our state eostok\n",
       "Name: cleaned_highlights, dtype: object"
      ]
     },
     "execution_count": 12,
     "metadata": {},
     "output_type": "execute_result"
    }
   ],
   "source": [
    "df['cleaned_highlights'].head(10)"
   ]
  },
  {
   "cell_type": "code",
   "execution_count": 13,
   "id": "06c80e68",
   "metadata": {},
   "outputs": [
    {
     "data": {
      "image/png": "[encoded data removed]",
      "text/plain": [
       "<Figure size 640x480 with 2 Axes>"
      ]
     },
     "metadata": {},
     "output_type": "display_data"
    }
   ],
   "source": [
    "article_word_count = [len(document.split(' ')) for document in df['cleaned_article']]\n",
    "highlights_word_count = [len(document.split(' ')) for document in df['cleaned_highlights']]\n",
    "    \n",
    "count_df = pd.DataFrame({'article': article_word_count, 'highlights': highlights_word_count})\n",
    "count_df.hist(bins=30)\n",
    "plt.show()"
   ]
  },
  {
   "cell_type": "code",
   "execution_count": 14,
   "id": "96f490e8",
   "metadata": {},
   "outputs": [
    {
     "name": "stdout",
     "output_type": "stream",
     "text": [
      "Mean Article Word Count: 373.8945305208139\n",
      "Median Article Word Count: 339.0\n",
      "Mean Highlights Word Count: 50.74147843942505\n",
      "Median Highlights Word Count: 47.0\n"
     ]
    }
   ],
   "source": [
    "print(f\"Mean Article Word Count: {np.mean(article_word_count)}\")\n",
    "print(f\"Median Article Word Count: {np.median(article_word_count)}\")\n",
    "print(f\"Mean Highlights Word Count: {np.mean(highlights_word_count)}\")\n",
    "print(f\"Median Highlights Word Count: {np.median(highlights_word_count)}\")"
   ]
  },
  {
   "cell_type": "code",
   "execution_count": 15,
   "id": "8d0dca9b",
   "metadata": {},
   "outputs": [
    {
     "name": "stdout",
     "output_type": "stream",
     "text": [
      "28712\n",
      "13368\n",
      "11490\n"
     ]
    }
   ],
   "source": [
    "train_df_cleaned, validation_df_cleaned, test_df_cleaned = df.xs('train'), df.xs('validation'), df.xs('test')\n",
    "\n",
    "print(train_df_cleaned.shape[0])\n",
    "print(validation_df_cleaned.shape[0])\n",
    "print(test_df_cleaned.shape[0])"
   ]
  },
  {
   "cell_type": "code",
   "execution_count": 16,
   "id": "2613a0be",
   "metadata": {},
   "outputs": [],
   "source": [
    "max_article_len = 350\n",
    "max_highlights_len = 48"
   ]
  },
  {
   "cell_type": "code",
   "execution_count": 17,
   "id": "33d9c3cc",
   "metadata": {},
   "outputs": [],
   "source": [
    "# In final use 25\n",
    "def common_words_tokenizer(tokenizer, training_data, threshold=100):\n",
    "    total_count = len(tokenizer.word_counts.items())\n",
    "    rare_count = sum(int(i) < threshold for i in tokenizer.word_counts.values())\n",
    "    new_tokenizer = Tokenizer(num_words=(total_count-rare_count))\n",
    "    new_tokenizer.fit_on_texts(list(training_data))\n",
    "    return new_tokenizer\n",
    "    \n",
    "def sequence_pad(tokenizer, data, maxlen):\n",
    "    seq = tokenizer.texts_to_sequences(list(data))\n",
    "    pad = pad_sequences(seq, maxlen=maxlen, padding='post')\n",
    "    return pad"
   ]
  },
  {
   "cell_type": "code",
   "execution_count": 18,
   "id": "fe69f433",
   "metadata": {},
   "outputs": [],
   "source": [
    "X_tokenizer = Tokenizer()\n",
    "X_tokenizer.fit_on_texts(list(train_df_cleaned['cleaned_article']))\n",
    "X_tokenizer = common_words_tokenizer(X_tokenizer, train_df_cleaned['cleaned_article'])\n",
    "X_train = sequence_pad(X_tokenizer, train_df_cleaned['cleaned_article'], max_article_len)\n",
    "\n",
    "y_tokenizer = Tokenizer()\n",
    "y_tokenizer.fit_on_texts(list(train_df_cleaned['cleaned_highlights']))\n",
    "y_tokenizer = common_words_tokenizer(y_tokenizer, train_df_cleaned['cleaned_highlights'])\n",
    "y_train = sequence_pad(y_tokenizer, train_df_cleaned['cleaned_highlights'], max_highlights_len)"
   ]
  },
  {
   "cell_type": "code",
   "execution_count": 39,
   "id": "368db0c6",
   "metadata": {},
   "outputs": [],
   "source": [
    "with open(\"../models/X_tokenizer.pickle\", \"wb\") as handle:\n",
    "    pickle.dump(X_tokenizer, handle)\n",
    "    \n",
    "with open(\"../models/y_tokenizer.pickle\", \"wb\") as handle:\n",
    "    pickle.dump(y_tokenizer, handle)"
   ]
  },
  {
   "cell_type": "code",
   "execution_count": 20,
   "id": "442559aa",
   "metadata": {},
   "outputs": [
    {
     "name": "stdout",
     "output_type": "stream",
     "text": [
      "11466\n",
      "1797\n"
     ]
    }
   ],
   "source": [
    "X_vocab = X_tokenizer.num_words + 1\n",
    "y_vocab = y_tokenizer.num_words + 1\n",
    "\n",
    "print(X_vocab)\n",
    "print(y_vocab)"
   ]
  },
  {
   "cell_type": "code",
   "execution_count": 21,
   "id": "78e33645",
   "metadata": {},
   "outputs": [
    {
     "name": "stdout",
     "output_type": "stream",
     "text": [
      "WARNING:tensorflow:From c:\\Users\\Rolando\\AppData\\Local\\Programs\\Python\\Python312\\Lib\\site-packages\\keras\\src\\backend\\common\\global_state.py:82: The name tf.reset_default_graph is deprecated. Please use tf.compat.v1.reset_default_graph instead.\n",
      "\n"
     ]
    },
    {
     "data": {
      "text/html": [
       "<pre style=\"white-space:pre;overflow-x:auto;line-height:normal;font-family:Menlo,'DejaVu Sans Mono',consolas,'Courier New',monospace\"><span style=\"font-weight: bold\">Model: \"functional_1\"</span>\n",
       "</pre>\n"
      ],
      "text/plain": [
       "\u001b[1mModel: \"functional_1\"\u001b[0m\n"
      ]
     },
     "metadata": {},
     "output_type": "display_data"
    },
    {
     "data": {
      "text/html": [
       "<pre style=\"white-space:pre;overflow-x:auto;line-height:normal;font-family:Menlo,'DejaVu Sans Mono',consolas,'Courier New',monospace\">┏━━━━━━━━━━━━━━━━━━━━━┳━━━━━━━━━━━━━━━━━━━┳━━━━━━━━━━━━┳━━━━━━━━━━━━━━━━━━━┓\n",
       "┃<span style=\"font-weight: bold\"> Layer (type)        </span>┃<span style=\"font-weight: bold\"> Output Shape      </span>┃<span style=\"font-weight: bold\">    Param # </span>┃<span style=\"font-weight: bold\"> Connected to      </span>┃\n",
       "┡━━━━━━━━━━━━━━━━━━━━━╇━━━━━━━━━━━━━━━━━━━╇━━━━━━━━━━━━╇━━━━━━━━━━━━━━━━━━━┩\n",
       "│ input_layer         │ (<span style=\"color: #00d7ff; text-decoration-color: #00d7ff\">None</span>, <span style=\"color: #00af00; text-decoration-color: #00af00\">350</span>)       │          <span style=\"color: #00af00; text-decoration-color: #00af00\">0</span> │ -                 │\n",
       "│ (<span style=\"color: #0087ff; text-decoration-color: #0087ff\">InputLayer</span>)        │                   │            │                   │\n",
       "├─────────────────────┼───────────────────┼────────────┼───────────────────┤\n",
       "│ embedding           │ (<span style=\"color: #00d7ff; text-decoration-color: #00d7ff\">None</span>, <span style=\"color: #00af00; text-decoration-color: #00af00\">350</span>, <span style=\"color: #00af00; text-decoration-color: #00af00\">30</span>)   │    <span style=\"color: #00af00; text-decoration-color: #00af00\">343,980</span> │ input_layer[<span style=\"color: #00af00; text-decoration-color: #00af00\">0</span>][<span style=\"color: #00af00; text-decoration-color: #00af00\">0</span>] │\n",
       "│ (<span style=\"color: #0087ff; text-decoration-color: #0087ff\">Embedding</span>)         │                   │            │                   │\n",
       "├─────────────────────┼───────────────────┼────────────┼───────────────────┤\n",
       "│ bidirectional       │ [(<span style=\"color: #00d7ff; text-decoration-color: #00d7ff\">None</span>, <span style=\"color: #00af00; text-decoration-color: #00af00\">350</span>,      │    <span style=\"color: #00af00; text-decoration-color: #00af00\">104,800</span> │ embedding[<span style=\"color: #00af00; text-decoration-color: #00af00\">0</span>][<span style=\"color: #00af00; text-decoration-color: #00af00\">0</span>]   │\n",
       "│ (<span style=\"color: #0087ff; text-decoration-color: #0087ff\">Bidirectional</span>)     │ <span style=\"color: #00af00; text-decoration-color: #00af00\">200</span>), (<span style=\"color: #00d7ff; text-decoration-color: #00d7ff\">None</span>,      │            │                   │\n",
       "│                     │ <span style=\"color: #00af00; text-decoration-color: #00af00\">100</span>), (<span style=\"color: #00d7ff; text-decoration-color: #00d7ff\">None</span>,      │            │                   │\n",
       "│                     │ <span style=\"color: #00af00; text-decoration-color: #00af00\">100</span>), (<span style=\"color: #00d7ff; text-decoration-color: #00d7ff\">None</span>,      │            │                   │\n",
       "│                     │ <span style=\"color: #00af00; text-decoration-color: #00af00\">100</span>), (<span style=\"color: #00d7ff; text-decoration-color: #00d7ff\">None</span>,      │            │                   │\n",
       "│                     │ <span style=\"color: #00af00; text-decoration-color: #00af00\">100</span>)]             │            │                   │\n",
       "├─────────────────────┼───────────────────┼────────────┼───────────────────┤\n",
       "│ concatenate         │ (<span style=\"color: #00d7ff; text-decoration-color: #00d7ff\">None</span>, <span style=\"color: #00af00; text-decoration-color: #00af00\">200</span>)       │          <span style=\"color: #00af00; text-decoration-color: #00af00\">0</span> │ bidirectional[<span style=\"color: #00af00; text-decoration-color: #00af00\">0</span>]… │\n",
       "│ (<span style=\"color: #0087ff; text-decoration-color: #0087ff\">Concatenate</span>)       │                   │            │ bidirectional[<span style=\"color: #00af00; text-decoration-color: #00af00\">0</span>]… │\n",
       "├─────────────────────┼───────────────────┼────────────┼───────────────────┤\n",
       "│ concatenate_1       │ (<span style=\"color: #00d7ff; text-decoration-color: #00d7ff\">None</span>, <span style=\"color: #00af00; text-decoration-color: #00af00\">200</span>)       │          <span style=\"color: #00af00; text-decoration-color: #00af00\">0</span> │ bidirectional[<span style=\"color: #00af00; text-decoration-color: #00af00\">0</span>]… │\n",
       "│ (<span style=\"color: #0087ff; text-decoration-color: #0087ff\">Concatenate</span>)       │                   │            │ bidirectional[<span style=\"color: #00af00; text-decoration-color: #00af00\">0</span>]… │\n",
       "├─────────────────────┼───────────────────┼────────────┼───────────────────┤\n",
       "│ lstm_1 (<span style=\"color: #0087ff; text-decoration-color: #0087ff\">LSTM</span>)       │ [(<span style=\"color: #00d7ff; text-decoration-color: #00d7ff\">None</span>, <span style=\"color: #00af00; text-decoration-color: #00af00\">350</span>,      │    <span style=\"color: #00af00; text-decoration-color: #00af00\">320,800</span> │ bidirectional[<span style=\"color: #00af00; text-decoration-color: #00af00\">0</span>]… │\n",
       "│                     │ <span style=\"color: #00af00; text-decoration-color: #00af00\">200</span>), (<span style=\"color: #00d7ff; text-decoration-color: #00d7ff\">None</span>,      │            │ concatenate[<span style=\"color: #00af00; text-decoration-color: #00af00\">0</span>][<span style=\"color: #00af00; text-decoration-color: #00af00\">0</span>… │\n",
       "│                     │ <span style=\"color: #00af00; text-decoration-color: #00af00\">200</span>), (<span style=\"color: #00d7ff; text-decoration-color: #00d7ff\">None</span>,      │            │ concatenate_1[<span style=\"color: #00af00; text-decoration-color: #00af00\">0</span>]… │\n",
       "│                     │ <span style=\"color: #00af00; text-decoration-color: #00af00\">200</span>)]             │            │                   │\n",
       "├─────────────────────┼───────────────────┼────────────┼───────────────────┤\n",
       "│ input_layer_1       │ (<span style=\"color: #00d7ff; text-decoration-color: #00d7ff\">None</span>, <span style=\"color: #00d7ff; text-decoration-color: #00d7ff\">None</span>)      │          <span style=\"color: #00af00; text-decoration-color: #00af00\">0</span> │ -                 │\n",
       "│ (<span style=\"color: #0087ff; text-decoration-color: #0087ff\">InputLayer</span>)        │                   │            │                   │\n",
       "├─────────────────────┼───────────────────┼────────────┼───────────────────┤\n",
       "│ lstm_2 (<span style=\"color: #0087ff; text-decoration-color: #0087ff\">LSTM</span>)       │ [(<span style=\"color: #00d7ff; text-decoration-color: #00d7ff\">None</span>, <span style=\"color: #00af00; text-decoration-color: #00af00\">350</span>,      │    <span style=\"color: #00af00; text-decoration-color: #00af00\">320,800</span> │ lstm_1[<span style=\"color: #00af00; text-decoration-color: #00af00\">0</span>][<span style=\"color: #00af00; text-decoration-color: #00af00\">0</span>]      │\n",
       "│                     │ <span style=\"color: #00af00; text-decoration-color: #00af00\">200</span>), (<span style=\"color: #00d7ff; text-decoration-color: #00d7ff\">None</span>,      │            │                   │\n",
       "│                     │ <span style=\"color: #00af00; text-decoration-color: #00af00\">200</span>), (<span style=\"color: #00d7ff; text-decoration-color: #00d7ff\">None</span>,      │            │                   │\n",
       "│                     │ <span style=\"color: #00af00; text-decoration-color: #00af00\">200</span>)]             │            │                   │\n",
       "├─────────────────────┼───────────────────┼────────────┼───────────────────┤\n",
       "│ embedding_1         │ (<span style=\"color: #00d7ff; text-decoration-color: #00d7ff\">None</span>, <span style=\"color: #00d7ff; text-decoration-color: #00d7ff\">None</span>, <span style=\"color: #00af00; text-decoration-color: #00af00\">30</span>)  │     <span style=\"color: #00af00; text-decoration-color: #00af00\">53,910</span> │ input_layer_1[<span style=\"color: #00af00; text-decoration-color: #00af00\">0</span>]… │\n",
       "│ (<span style=\"color: #0087ff; text-decoration-color: #0087ff\">Embedding</span>)         │                   │            │                   │\n",
       "├─────────────────────┼───────────────────┼────────────┼───────────────────┤\n",
       "│ lstm_3 (<span style=\"color: #0087ff; text-decoration-color: #0087ff\">LSTM</span>)       │ [(<span style=\"color: #00d7ff; text-decoration-color: #00d7ff\">None</span>, <span style=\"color: #00af00; text-decoration-color: #00af00\">350</span>,      │    <span style=\"color: #00af00; text-decoration-color: #00af00\">320,800</span> │ lstm_2[<span style=\"color: #00af00; text-decoration-color: #00af00\">0</span>][<span style=\"color: #00af00; text-decoration-color: #00af00\">0</span>]      │\n",
       "│                     │ <span style=\"color: #00af00; text-decoration-color: #00af00\">200</span>), (<span style=\"color: #00d7ff; text-decoration-color: #00d7ff\">None</span>,      │            │                   │\n",
       "│                     │ <span style=\"color: #00af00; text-decoration-color: #00af00\">200</span>), (<span style=\"color: #00d7ff; text-decoration-color: #00d7ff\">None</span>,      │            │                   │\n",
       "│                     │ <span style=\"color: #00af00; text-decoration-color: #00af00\">200</span>)]             │            │                   │\n",
       "├─────────────────────┼───────────────────┼────────────┼───────────────────┤\n",
       "│ lstm_4 (<span style=\"color: #0087ff; text-decoration-color: #0087ff\">LSTM</span>)       │ [(<span style=\"color: #00d7ff; text-decoration-color: #00d7ff\">None</span>, <span style=\"color: #00d7ff; text-decoration-color: #00d7ff\">None</span>,     │    <span style=\"color: #00af00; text-decoration-color: #00af00\">184,800</span> │ embedding_1[<span style=\"color: #00af00; text-decoration-color: #00af00\">0</span>][<span style=\"color: #00af00; text-decoration-color: #00af00\">0</span>… │\n",
       "│                     │ <span style=\"color: #00af00; text-decoration-color: #00af00\">200</span>), (<span style=\"color: #00d7ff; text-decoration-color: #00d7ff\">None</span>,      │            │ lstm_3[<span style=\"color: #00af00; text-decoration-color: #00af00\">0</span>][<span style=\"color: #00af00; text-decoration-color: #00af00\">1</span>],     │\n",
       "│                     │ <span style=\"color: #00af00; text-decoration-color: #00af00\">200</span>), (<span style=\"color: #00d7ff; text-decoration-color: #00d7ff\">None</span>,      │            │ lstm_3[<span style=\"color: #00af00; text-decoration-color: #00af00\">0</span>][<span style=\"color: #00af00; text-decoration-color: #00af00\">2</span>]      │\n",
       "│                     │ <span style=\"color: #00af00; text-decoration-color: #00af00\">200</span>)]             │            │                   │\n",
       "├─────────────────────┼───────────────────┼────────────┼───────────────────┤\n",
       "│ attention_layer     │ [(<span style=\"color: #00d7ff; text-decoration-color: #00d7ff\">None</span>, <span style=\"color: #00d7ff; text-decoration-color: #00d7ff\">None</span>,     │     <span style=\"color: #00af00; text-decoration-color: #00af00\">80,200</span> │ lstm_3[<span style=\"color: #00af00; text-decoration-color: #00af00\">0</span>][<span style=\"color: #00af00; text-decoration-color: #00af00\">0</span>],     │\n",
       "│ (<span style=\"color: #0087ff; text-decoration-color: #0087ff\">AttentionLayer</span>)    │ <span style=\"color: #00af00; text-decoration-color: #00af00\">200</span>), (<span style=\"color: #00d7ff; text-decoration-color: #00d7ff\">None</span>,      │            │ lstm_4[<span style=\"color: #00af00; text-decoration-color: #00af00\">0</span>][<span style=\"color: #00af00; text-decoration-color: #00af00\">0</span>]      │\n",
       "│                     │ <span style=\"color: #00d7ff; text-decoration-color: #00d7ff\">None</span>, <span style=\"color: #00af00; text-decoration-color: #00af00\">350</span>)]       │            │                   │\n",
       "├─────────────────────┼───────────────────┼────────────┼───────────────────┤\n",
       "│ concatenate_2       │ (<span style=\"color: #00d7ff; text-decoration-color: #00d7ff\">None</span>, <span style=\"color: #00d7ff; text-decoration-color: #00d7ff\">None</span>, <span style=\"color: #00af00; text-decoration-color: #00af00\">400</span>) │          <span style=\"color: #00af00; text-decoration-color: #00af00\">0</span> │ lstm_4[<span style=\"color: #00af00; text-decoration-color: #00af00\">0</span>][<span style=\"color: #00af00; text-decoration-color: #00af00\">0</span>],     │\n",
       "│ (<span style=\"color: #0087ff; text-decoration-color: #0087ff\">Concatenate</span>)       │                   │            │ attention_layer[<span style=\"color: #00af00; text-decoration-color: #00af00\">…</span> │\n",
       "├─────────────────────┼───────────────────┼────────────┼───────────────────┤\n",
       "│ time_distributed    │ (<span style=\"color: #00d7ff; text-decoration-color: #00d7ff\">None</span>, <span style=\"color: #00d7ff; text-decoration-color: #00d7ff\">None</span>,      │    <span style=\"color: #00af00; text-decoration-color: #00af00\">720,597</span> │ concatenate_2[<span style=\"color: #00af00; text-decoration-color: #00af00\">0</span>]… │\n",
       "│ (<span style=\"color: #0087ff; text-decoration-color: #0087ff\">TimeDistributed</span>)   │ <span style=\"color: #00af00; text-decoration-color: #00af00\">1797</span>)             │            │                   │\n",
       "└─────────────────────┴───────────────────┴────────────┴───────────────────┘\n",
       "</pre>\n"
      ],
      "text/plain": [
       "┏━━━━━━━━━━━━━━━━━━━━━┳━━━━━━━━━━━━━━━━━━━┳━━━━━━━━━━━━┳━━━━━━━━━━━━━━━━━━━┓\n",
       "┃\u001b[1m \u001b[0m\u001b[1mLayer (type)       \u001b[0m\u001b[1m \u001b[0m┃\u001b[1m \u001b[0m\u001b[1mOutput Shape     \u001b[0m\u001b[1m \u001b[0m┃\u001b[1m \u001b[0m\u001b[1m   Param #\u001b[0m\u001b[1m \u001b[0m┃\u001b[1m \u001b[0m\u001b[1mConnected to     \u001b[0m\u001b[1m \u001b[0m┃\n",
       "┡━━━━━━━━━━━━━━━━━━━━━╇━━━━━━━━━━━━━━━━━━━╇━━━━━━━━━━━━╇━━━━━━━━━━━━━━━━━━━┩\n",
       "│ input_layer         │ (\u001b[38;5;45mNone\u001b[0m, \u001b[38;5;34m350\u001b[0m)       │          \u001b[38;5;34m0\u001b[0m │ -                 │\n",
       "│ (\u001b[38;5;33mInputLayer\u001b[0m)        │                   │            │                   │\n",
       "├─────────────────────┼───────────────────┼────────────┼───────────────────┤\n",
       "│ embedding           │ (\u001b[38;5;45mNone\u001b[0m, \u001b[38;5;34m350\u001b[0m, \u001b[38;5;34m30\u001b[0m)   │    \u001b[38;5;34m343,980\u001b[0m │ input_layer[\u001b[38;5;34m0\u001b[0m][\u001b[38;5;34m0\u001b[0m] │\n",
       "│ (\u001b[38;5;33mEmbedding\u001b[0m)         │                   │            │                   │\n",
       "├─────────────────────┼───────────────────┼────────────┼───────────────────┤\n",
       "│ bidirectional       │ [(\u001b[38;5;45mNone\u001b[0m, \u001b[38;5;34m350\u001b[0m,      │    \u001b[38;5;34m104,800\u001b[0m │ embedding[\u001b[38;5;34m0\u001b[0m][\u001b[38;5;34m0\u001b[0m]   │\n",
       "│ (\u001b[38;5;33mBidirectional\u001b[0m)     │ \u001b[38;5;34m200\u001b[0m), (\u001b[38;5;45mNone\u001b[0m,      │            │                   │\n",
       "│                     │ \u001b[38;5;34m100\u001b[0m), (\u001b[38;5;45mNone\u001b[0m,      │            │                   │\n",
       "│                     │ \u001b[38;5;34m100\u001b[0m), (\u001b[38;5;45mNone\u001b[0m,      │            │                   │\n",
       "│                     │ \u001b[38;5;34m100\u001b[0m), (\u001b[38;5;45mNone\u001b[0m,      │            │                   │\n",
       "│                     │ \u001b[38;5;34m100\u001b[0m)]             │            │                   │\n",
       "├─────────────────────┼───────────────────┼────────────┼───────────────────┤\n",
       "│ concatenate         │ (\u001b[38;5;45mNone\u001b[0m, \u001b[38;5;34m200\u001b[0m)       │          \u001b[38;5;34m0\u001b[0m │ bidirectional[\u001b[38;5;34m0\u001b[0m]… │\n",
       "│ (\u001b[38;5;33mConcatenate\u001b[0m)       │                   │            │ bidirectional[\u001b[38;5;34m0\u001b[0m]… │\n",
       "├─────────────────────┼───────────────────┼────────────┼───────────────────┤\n",
       "│ concatenate_1       │ (\u001b[38;5;45mNone\u001b[0m, \u001b[38;5;34m200\u001b[0m)       │          \u001b[38;5;34m0\u001b[0m │ bidirectional[\u001b[38;5;34m0\u001b[0m]… │\n",
       "│ (\u001b[38;5;33mConcatenate\u001b[0m)       │                   │            │ bidirectional[\u001b[38;5;34m0\u001b[0m]… │\n",
       "├─────────────────────┼───────────────────┼────────────┼───────────────────┤\n",
       "│ lstm_1 (\u001b[38;5;33mLSTM\u001b[0m)       │ [(\u001b[38;5;45mNone\u001b[0m, \u001b[38;5;34m350\u001b[0m,      │    \u001b[38;5;34m320,800\u001b[0m │ bidirectional[\u001b[38;5;34m0\u001b[0m]… │\n",
       "│                     │ \u001b[38;5;34m200\u001b[0m), (\u001b[38;5;45mNone\u001b[0m,      │            │ concatenate[\u001b[38;5;34m0\u001b[0m][\u001b[38;5;34m0\u001b[0m… │\n",
       "│                     │ \u001b[38;5;34m200\u001b[0m), (\u001b[38;5;45mNone\u001b[0m,      │            │ concatenate_1[\u001b[38;5;34m0\u001b[0m]… │\n",
       "│                     │ \u001b[38;5;34m200\u001b[0m)]             │            │                   │\n",
       "├─────────────────────┼───────────────────┼────────────┼───────────────────┤\n",
       "│ input_layer_1       │ (\u001b[38;5;45mNone\u001b[0m, \u001b[38;5;45mNone\u001b[0m)      │          \u001b[38;5;34m0\u001b[0m │ -                 │\n",
       "│ (\u001b[38;5;33mInputLayer\u001b[0m)        │                   │            │                   │\n",
       "├─────────────────────┼───────────────────┼────────────┼───────────────────┤\n",
       "│ lstm_2 (\u001b[38;5;33mLSTM\u001b[0m)       │ [(\u001b[38;5;45mNone\u001b[0m, \u001b[38;5;34m350\u001b[0m,      │    \u001b[38;5;34m320,800\u001b[0m │ lstm_1[\u001b[38;5;34m0\u001b[0m][\u001b[38;5;34m0\u001b[0m]      │\n",
       "│                     │ \u001b[38;5;34m200\u001b[0m), (\u001b[38;5;45mNone\u001b[0m,      │            │                   │\n",
       "│                     │ \u001b[38;5;34m200\u001b[0m), (\u001b[38;5;45mNone\u001b[0m,      │            │                   │\n",
       "│                     │ \u001b[38;5;34m200\u001b[0m)]             │            │                   │\n",
       "├─────────────────────┼───────────────────┼────────────┼───────────────────┤\n",
       "│ embedding_1         │ (\u001b[38;5;45mNone\u001b[0m, \u001b[38;5;45mNone\u001b[0m, \u001b[38;5;34m30\u001b[0m)  │     \u001b[38;5;34m53,910\u001b[0m │ input_layer_1[\u001b[38;5;34m0\u001b[0m]… │\n",
       "│ (\u001b[38;5;33mEmbedding\u001b[0m)         │                   │            │                   │\n",
       "├─────────────────────┼───────────────────┼────────────┼───────────────────┤\n",
       "│ lstm_3 (\u001b[38;5;33mLSTM\u001b[0m)       │ [(\u001b[38;5;45mNone\u001b[0m, \u001b[38;5;34m350\u001b[0m,      │    \u001b[38;5;34m320,800\u001b[0m │ lstm_2[\u001b[38;5;34m0\u001b[0m][\u001b[38;5;34m0\u001b[0m]      │\n",
       "│                     │ \u001b[38;5;34m200\u001b[0m), (\u001b[38;5;45mNone\u001b[0m,      │            │                   │\n",
       "│                     │ \u001b[38;5;34m200\u001b[0m), (\u001b[38;5;45mNone\u001b[0m,      │            │                   │\n",
       "│                     │ \u001b[38;5;34m200\u001b[0m)]             │            │                   │\n",
       "├─────────────────────┼───────────────────┼────────────┼───────────────────┤\n",
       "│ lstm_4 (\u001b[38;5;33mLSTM\u001b[0m)       │ [(\u001b[38;5;45mNone\u001b[0m, \u001b[38;5;45mNone\u001b[0m,     │    \u001b[38;5;34m184,800\u001b[0m │ embedding_1[\u001b[38;5;34m0\u001b[0m][\u001b[38;5;34m0\u001b[0m… │\n",
       "│                     │ \u001b[38;5;34m200\u001b[0m), (\u001b[38;5;45mNone\u001b[0m,      │            │ lstm_3[\u001b[38;5;34m0\u001b[0m][\u001b[38;5;34m1\u001b[0m],     │\n",
       "│                     │ \u001b[38;5;34m200\u001b[0m), (\u001b[38;5;45mNone\u001b[0m,      │            │ lstm_3[\u001b[38;5;34m0\u001b[0m][\u001b[38;5;34m2\u001b[0m]      │\n",
       "│                     │ \u001b[38;5;34m200\u001b[0m)]             │            │                   │\n",
       "├─────────────────────┼───────────────────┼────────────┼───────────────────┤\n",
       "│ attention_layer     │ [(\u001b[38;5;45mNone\u001b[0m, \u001b[38;5;45mNone\u001b[0m,     │     \u001b[38;5;34m80,200\u001b[0m │ lstm_3[\u001b[38;5;34m0\u001b[0m][\u001b[38;5;34m0\u001b[0m],     │\n",
       "│ (\u001b[38;5;33mAttentionLayer\u001b[0m)    │ \u001b[38;5;34m200\u001b[0m), (\u001b[38;5;45mNone\u001b[0m,      │            │ lstm_4[\u001b[38;5;34m0\u001b[0m][\u001b[38;5;34m0\u001b[0m]      │\n",
       "│                     │ \u001b[38;5;45mNone\u001b[0m, \u001b[38;5;34m350\u001b[0m)]       │            │                   │\n",
       "├─────────────────────┼───────────────────┼────────────┼───────────────────┤\n",
       "│ concatenate_2       │ (\u001b[38;5;45mNone\u001b[0m, \u001b[38;5;45mNone\u001b[0m, \u001b[38;5;34m400\u001b[0m) │          \u001b[38;5;34m0\u001b[0m │ lstm_4[\u001b[38;5;34m0\u001b[0m][\u001b[38;5;34m0\u001b[0m],     │\n",
       "│ (\u001b[38;5;33mConcatenate\u001b[0m)       │                   │            │ attention_layer[\u001b[38;5;34m…\u001b[0m │\n",
       "├─────────────────────┼───────────────────┼────────────┼───────────────────┤\n",
       "│ time_distributed    │ (\u001b[38;5;45mNone\u001b[0m, \u001b[38;5;45mNone\u001b[0m,      │    \u001b[38;5;34m720,597\u001b[0m │ concatenate_2[\u001b[38;5;34m0\u001b[0m]… │\n",
       "│ (\u001b[38;5;33mTimeDistributed\u001b[0m)   │ \u001b[38;5;34m1797\u001b[0m)             │            │                   │\n",
       "└─────────────────────┴───────────────────┴────────────┴───────────────────┘\n"
      ]
     },
     "metadata": {},
     "output_type": "display_data"
    },
    {
     "data": {
      "text/html": [
       "<pre style=\"white-space:pre;overflow-x:auto;line-height:normal;font-family:Menlo,'DejaVu Sans Mono',consolas,'Courier New',monospace\"><span style=\"font-weight: bold\"> Total params: </span><span style=\"color: #00af00; text-decoration-color: #00af00\">2,450,687</span> (9.35 MB)\n",
       "</pre>\n"
      ],
      "text/plain": [
       "\u001b[1m Total params: \u001b[0m\u001b[38;5;34m2,450,687\u001b[0m (9.35 MB)\n"
      ]
     },
     "metadata": {},
     "output_type": "display_data"
    },
    {
     "data": {
      "text/html": [
       "<pre style=\"white-space:pre;overflow-x:auto;line-height:normal;font-family:Menlo,'DejaVu Sans Mono',consolas,'Courier New',monospace\"><span style=\"font-weight: bold\"> Trainable params: </span><span style=\"color: #00af00; text-decoration-color: #00af00\">2,450,687</span> (9.35 MB)\n",
       "</pre>\n"
      ],
      "text/plain": [
       "\u001b[1m Trainable params: \u001b[0m\u001b[38;5;34m2,450,687\u001b[0m (9.35 MB)\n"
      ]
     },
     "metadata": {},
     "output_type": "display_data"
    },
    {
     "data": {
      "text/html": [
       "<pre style=\"white-space:pre;overflow-x:auto;line-height:normal;font-family:Menlo,'DejaVu Sans Mono',consolas,'Courier New',monospace\"><span style=\"font-weight: bold\"> Non-trainable params: </span><span style=\"color: #00af00; text-decoration-color: #00af00\">0</span> (0.00 B)\n",
       "</pre>\n"
      ],
      "text/plain": [
       "\u001b[1m Non-trainable params: \u001b[0m\u001b[38;5;34m0\u001b[0m (0.00 B)\n"
      ]
     },
     "metadata": {},
     "output_type": "display_data"
    }
   ],
   "source": [
    "K.clear_session()\n",
    "\n",
    "# embed_dim = 150\n",
    "embed_dim = 30\n",
    "latent_dim = 200\n",
    "\n",
    "# Encoder\n",
    "encoder_input = Input(shape=(max_article_len, ))\n",
    "encoder_embed = Embedding(X_vocab, embed_dim, trainable=True)(encoder_input)\n",
    "encoder_bidirectional = Bidirectional(LSTM(100, return_sequences=True, return_state=True, dropout=0.4, recurrent_dropout=0.4))\n",
    "encoder_output_bi, forward_h, backward_h, forward_c, backward_c = encoder_bidirectional(encoder_embed)\n",
    "state_h = Concatenate(axis=-1)([forward_h, backward_h])\n",
    "state_c = Concatenate(axis=-1)([forward_c, backward_c])\n",
    "encoder_lstm1 = LSTM(latent_dim, return_sequences=True, return_state=True, dropout=0.4, recurrent_dropout=0.4)\n",
    "encoder_output1, state_h1, state_c1 = encoder_lstm1(encoder_output_bi, initial_state=[state_h, state_c])\n",
    "encoder_lstm2 = LSTM(latent_dim, return_sequences=True, return_state=True, dropout=0.4, recurrent_dropout=0.4)\n",
    "encoder_output2, state_h2, state_c2 = encoder_lstm2(encoder_output1)\n",
    "encoder_lstm3 = LSTM(latent_dim, return_sequences=True, return_state=True, dropout=0.4, recurrent_dropout=0.4)\n",
    "encoder_output3, state_h3, state_c3 = encoder_lstm3(encoder_output2)\n",
    "\n",
    "# Decoder\n",
    "decoder_input = Input(shape=(None, ))\n",
    "decoder_embed = Embedding(y_vocab, embed_dim, trainable=True)(decoder_input)\n",
    "decoder_lstm = LSTM(latent_dim, return_sequences=True, return_state=True, dropout=0.4, recurrent_dropout=0.4)\n",
    "decoder_output, _, _ = decoder_lstm(decoder_embed, initial_state=[state_h3, state_c3])\n",
    "\n",
    "# Attention\n",
    "attention = AttentionLayer()\n",
    "attention_output, _ = attention([encoder_output3, decoder_output])\n",
    "\n",
    "# Concatenate Attention with LSTM Output\n",
    "concatenate = Concatenate(axis=-1)([decoder_output, attention_output])\n",
    "decoder_dense = TimeDistributed(Dense(y_vocab, activation='softmax'))\n",
    "decoder_output = decoder_dense(concatenate)\n",
    "\n",
    "model = Model([encoder_input, decoder_input], decoder_output)\n",
    "model.summary()"
   ]
  },
  {
   "cell_type": "code",
   "execution_count": 22,
   "id": "fd686060",
   "metadata": {},
   "outputs": [],
   "source": [
    "model.compile(optimizer='rmsprop', loss='sparse_categorical_crossentropy')"
   ]
  },
  {
   "cell_type": "code",
   "execution_count": 23,
   "id": "d401561b",
   "metadata": {},
   "outputs": [],
   "source": [
    "early_stop = EarlyStopping(monitor='val_loss', mode='min', verbose=1, patience=3)"
   ]
  },
  {
   "cell_type": "code",
   "execution_count": 24,
   "id": "557463db",
   "metadata": {},
   "outputs": [],
   "source": [
    "X_val = sequence_pad(X_tokenizer, validation_df_cleaned['cleaned_article'], max_article_len)\n",
    "y_val = sequence_pad(y_tokenizer, validation_df_cleaned['cleaned_highlights'], max_highlights_len)"
   ]
  },
  {
   "cell_type": "code",
   "execution_count": 25,
   "id": "032c2d49",
   "metadata": {},
   "outputs": [],
   "source": [
    "def prep_keras_input(X, y):\n",
    "    return [X, y[:, :-1]], y.reshape(y.shape[0], y.shape[1], 1)[:, 1:]"
   ]
  },
  {
   "cell_type": "code",
   "execution_count": 26,
   "id": "f587e3dd",
   "metadata": {},
   "outputs": [],
   "source": [
    "X_train_k, y_train_k = prep_keras_input(X_train, y_train)\n",
    "X_val_k, y_val_k = prep_keras_input(X_val, y_val)"
   ]
  },
  {
   "cell_type": "code",
   "execution_count": 27,
   "id": "c2a8d00b",
   "metadata": {},
   "outputs": [
    {
     "name": "stdout",
     "output_type": "stream",
     "text": [
      "Epoch 1/4\n",
      "\u001b[1m225/225\u001b[0m \u001b[32m━━━━━━━━━━━━━━━━━━━━\u001b[0m\u001b[37m\u001b[0m \u001b[1m3616s\u001b[0m 16s/step - loss: 4.7542 - val_loss: 4.6199\n",
      "Epoch 2/4\n",
      "\u001b[1m225/225\u001b[0m \u001b[32m━━━━━━━━━━━━━━━━━━━━\u001b[0m\u001b[37m\u001b[0m \u001b[1m3604s\u001b[0m 16s/step - loss: 4.2158 - val_loss: 4.5952\n",
      "Epoch 3/4\n",
      "\u001b[1m225/225\u001b[0m \u001b[32m━━━━━━━━━━━━━━━━━━━━\u001b[0m\u001b[37m\u001b[0m \u001b[1m3502s\u001b[0m 16s/step - loss: 4.2050 - val_loss: 4.5531\n",
      "Epoch 4/4\n",
      "\u001b[1m225/225\u001b[0m \u001b[32m━━━━━━━━━━━━━━━━━━━━\u001b[0m\u001b[37m\u001b[0m \u001b[1m3535s\u001b[0m 16s/step - loss: 4.1655 - val_loss: 4.5153\n"
     ]
    }
   ],
   "source": [
    "history = model.fit(X_train_k, y_train_k, batch_size=128, epochs=4, validation_data=(X_val_k, y_val_k), callbacks=[early_stop], verbose=1)"
   ]
  },
  {
   "cell_type": "code",
   "execution_count": null,
   "id": "3e54de8d",
   "metadata": {},
   "outputs": [
    {
     "data": {
      "image/png": "[encoded data removed]",
      "text/plain": [
       "<Figure size 640x480 with 1 Axes>"
      ]
     },
     "metadata": {},
     "output_type": "display_data"
    }
   ],
   "source": [
    "plt.plot(history.history['loss'], label='train')\n",
    "plt.plot(history.history['val_loss'], label='validation')\n",
    "plt.legend()\n",
    "plt.show()"
   ]
  },
  {
   "cell_type": "code",
   "execution_count": 30,
   "id": "291d7ef2",
   "metadata": {},
   "outputs": [],
   "source": [
    "reverse_target_word_index = y_tokenizer.index_word\n",
    "reverse_source_word_index = X_tokenizer.index_word\n",
    "target_word_index = y_tokenizer.word_index"
   ]
  },
  {
   "cell_type": "code",
   "execution_count": 31,
   "id": "268e7cc2",
   "metadata": {},
   "outputs": [
    {
     "name": "stderr",
     "output_type": "stream",
     "text": [
      "WARNING:absl:You are saving your model as an HDF5 file via `model.save()` or `keras.saving.save_model(model)`. This file format is considered legacy. We recommend using instead the native Keras format, e.g. `model.save('my_model.keras')` or `keras.saving.save_model(model, 'my_model.keras')`. \n"
     ]
    }
   ],
   "source": [
    "encoder_model = Model(encoder_input, outputs=[encoder_output3, state_h3, state_c3])\n",
    "encoder_model.save('../models/encoder_model.h5')"
   ]
  },
  {
   "cell_type": "code",
   "execution_count": 32,
   "id": "d10ce24b",
   "metadata": {},
   "outputs": [
    {
     "name": "stderr",
     "output_type": "stream",
     "text": [
      "WARNING:absl:You are saving your model as an HDF5 file via `model.save()` or `keras.saving.save_model(model)`. This file format is considered legacy. We recommend using instead the native Keras format, e.g. `model.save('my_model.keras')` or `keras.saving.save_model(model, 'my_model.keras')`. \n"
     ]
    }
   ],
   "source": [
    "decoder_input_state_h = Input(shape=(latent_dim, ))\n",
    "decoder_input_state_c = Input(shape=(latent_dim, ))\n",
    "decoder_input_hidden = Input(shape=(max_article_len, latent_dim))\n",
    "decoder_embed_pred = decoder_embed\n",
    "decoder_output_pred, state_h_pred, state_c_pred = decoder_lstm(decoder_embed_pred, initial_state=[decoder_input_state_h, decoder_input_state_c])\n",
    "attention_out_pred, attention_state_pred = attention([decoder_input_hidden, decoder_output_pred])\n",
    "decoder_concat = Concatenate(axis=-1)([decoder_output_pred, attention_out_pred])\n",
    "decoder_output_end = decoder_dense(decoder_concat)\n",
    "decoder_model = Model([decoder_input] + [decoder_input_hidden, decoder_input_state_h, decoder_input_state_c], [decoder_output_end] + [state_h_pred, state_c_pred])\n",
    "decoder_model.save('../models/decoder_model.h5')"
   ]
  },
  {
   "cell_type": "code",
   "execution_count": 36,
   "id": "17d09d33",
   "metadata": {},
   "outputs": [],
   "source": [
    "def sequence_decoder(input_seq):\n",
    "    encode_out, encode_h, encode_c = encoder_model.predict(input_seq, verbose=0)\n",
    "    target_seq = np.zeros((1, 1))\n",
    "    \n",
    "    target_seq[0, 0] = target_word_index['sostok']\n",
    "    \n",
    "    stop_condition = False\n",
    "    decoded_sentence = ''\n",
    "    \n",
    "    while not stop_condition:\n",
    "        output_tokens, h, c = decoder_model.predict([target_seq] + [encode_out, encode_h, encode_c], verbose=0)\n",
    "        \n",
    "        sample_token_idx = np.argmax(output_tokens[0, -1, :])\n",
    "        sampled_token = reverse_target_word_index[sample_token_idx]\n",
    "        \n",
    "        if sampled_token != 'eostok':\n",
    "            decoded_sentence += ' ' + sampled_token\n",
    "        \n",
    "        if sampled_token == 'eostok' or len(decoded_sentence.split()) >= max_highlights_len - 1:\n",
    "            stop_condition = True\n",
    "            \n",
    "        target_seq = np.zeros((1, 1))\n",
    "        target_seq[0, 0] = sample_token_idx\n",
    "        \n",
    "        encode_h, encode_c = h, c\n",
    "    return decoded_sentence"
   ]
  },
  {
   "cell_type": "code",
   "execution_count": 37,
   "id": "01df7a7c",
   "metadata": {},
   "outputs": [],
   "source": [
    "def seq2summary(input_seq):\n",
    "    newString = ''\n",
    "    for i in input_seq:\n",
    "        if i != 0 and i != target_word_index['sostok'] and i \\\n",
    "            != target_word_index['eostok']:\n",
    "            newString = newString + reverse_target_word_index[i] + ' '\n",
    "\n",
    "    return newString\n",
    "\n",
    "\n",
    "def seq2text(input_seq):\n",
    "    newString = ''\n",
    "    for i in input_seq:\n",
    "        if i != 0:\n",
    "            newString = newString + reverse_source_word_index[i] + ' '\n",
    "\n",
    "    return newString"
   ]
  },
  {
   "cell_type": "code",
   "execution_count": 38,
   "id": "5d8d5f4d",
   "metadata": {},
   "outputs": [
    {
     "name": "stdout",
     "output_type": "stream",
     "text": [
      "Review: things looking good people allergies tennessee way three state major cities made asthma allergy foundation annual list worst places spring allergy sufferers called allergy ranked based levels use allergy medications number board certified areas according foundation statement everyone united states expect allergies worse year thanks unusually wet winter foundation says severe weather patterns bring higher temperatures higher levels increased exposure resulting spring allergies peak stronger last longer dr bill california said statement top worst allergy cities jackson mississippi tennessee tennessee texas kentucky kansas ohio memphis tennessee oklahoma city oklahoma louisiana residents massachusetts buffalo new york grand michigan may face severe cases years past cities jumped least spots list spring asthma allergy foundation also releases list every year worst cities fall allergy sufferers spring allergy based tree counts fall cities ranked counts september november previous years many cities fall list spring list differences kentucky kansas tennessee jackson mississippi texas ohio oklahoma city oklahoma memphis tennessee madison wisconsin louisiana \n",
      "Original summary: jackson the list of the worst cities for has three major cities in the list top weather conditions may make this season \n",
      " new the the the the the the the the the the the the the the the the the the the the the the the the the the the the\n",
      "Predicted summary:  new the the the the the the the the the the the the the the the the the the the the the the the the the the the the\n",
      "\n",
      "\n",
      "Review: two deaths fire treating grandmother person interest describe series crimes north brisbane friday father three year old believed son died complications virus today calling justice boy well son half brother two boys want know happened son said little buddy saturday man changed facebook profile feature picture son words justice also written message justice boys went though hell please forget relative man posted rip little knew would come end miss sorry protect another user posted could someone evil innocent little boy father three year old separated boy mother living son died pleaded anyone information come forward help police really healthy little boy said got call night hospital something add healthy three year old boy little buddy die detectives described grandmother person interest investigation deaths two boys alleged attempted killing two children slept beds alleged crimes occurred home grandmother present incident one charged deaths three year old seven month old initially treated cases police said horror scene queensland police moment kids nearly murdered beds fire slept firefighters remove bed makeshift home police believe children deliberately blocked bedroom blaze scene police recreation attempted murder two kids alleged crimes occurred home toward sunshine coast north brisbane february year two boys aged nine asleep beds home house set children survived based forensic recreation arson attack detectives believe someone deliberately blocked escape bedroom detective acting superintendent damien hansen said crimes horrific happen children told reporters friday evening hansen would identify family members children occupants burning house treated smoke children inside room could exit room said one child suffered burns lower limbs treated hospital queensland police provided vision recreation case featuring police staff unknown woman detective acting superintendent damien hansen said crimes horrific firefighters incidents occurred one address queensland fire rescue fire nearly claimed lives two children police investigating whether reason crimes occurred th month hansen said matter investigated said although ruled religious cult links crimes detective would rule involvement people said police strong leads confident right line investigation conclusion near future said surviving children state care police calling anyone information could help investigation witnessed house fire february early hours february contact sorry currently accepting comments article \n",
      "Original summary: this year when they found their home on fire police believe their escape from their bedroom was the crimes all occurred in near north of on the th day of three different months the father of three year old police believe was wants justice for his son \n",
      " new the the the the the the the the the the the the the the the the the the the the the the the the the the the the\n",
      "Predicted summary:  new the the the the the the the the the the the the the the the the the the the the the the the the the the the the\n",
      "\n",
      "\n",
      "Review: steve robson published est december updated est december russian circus trainer claims saved two elephants freezing death getting drink vodka animals named jenny evacuated trailer caught fire middle highway outside city yesterday although pair escaped blaze unharmed temperatures low trainer facing serious problem scroll video trunk full elephants evacuated trailer caught fire trainer gave vodka keep warm disaster trailer left ruined side highway temperatures low answer vodka warm water made sure drank whole lot like jungle must happy district official told news agency indian elephants aged part travelling polish circus headed late yesterday trunk elephants jenny part polish circus travelling around russia blaze started hay trailer caught fire diesel engine heating cargo section local official said trainer made animals giving two cases vodka drink emergency minister spokesman alexander said elephants delivered warm gym local community college later examined said tips ears suffered zoo director claimed vodka saved animals pneumonia without even handler also treated hospital scientists say alcohol make feel warmer actually body core temperature could actually increase chances getting stuck cold video jenny fine prepare next show \n",
      "Original summary: indian and left out in temperatures of after caught fire made them and drink two of claims it stopped them from suffering \n",
      " new the the the the the the the the the the the the the the the the the the the the the the the the the the the the\n",
      "Predicted summary:  new the the the the the the the the the the the the the the the the the the the the the the the the the the the the\n",
      "\n",
      "\n",
      "Review: strong supporters overall quality served across airlines parts world says miller standards improved result greater competition airline catering companies says miller think flight meals getting better worse worse meal sound austrian catering company co transformed food served onboard austrian airlines turkish airlines flights reported percent increase customer satisfaction turkish airlines since co hired last years industry focused lean production believe job car manufacturer says ceo co good quality airline food depends quality raw ingredients says also elements good chefs grill lose passion says inspire enthusiasm co says employs unusually high ratio chefs work greater variety dishes say also insist training cabin staff food service replace food give passengers explaining fresh local ingredients come airlines also use food marketing tool improve standards attract premium customers austrian airlines award best business class catering last two years michael spokesman austrian airlines says current situation airline industry tough costs cut competition also tough need something makes us unique compared airlines austrian airlines one unique selling point food board chef every austrian airlines flight puts crucial finishing touches premium class meals airline also offers vienna coffee house air one quarter flight attendants trained guide passengers extensive wine list airlines worldwide also hire celebrity chefs add efforts british chef gordon one singapore airline panel juan works united airlines enlisted services chef charlie inspire flight menu chefs help airlines design meals perform high altitude michelle delta celebrity chef said air cabins means dishes need made would ground miller true benefits celebrity chef bring onboard catering gordon actually cabin ing potatoes acknowledge chefs influenced new style flight chef neil perry hired move healthy eating first business class work since influenced standards across catering classes award best economy class catering partly result simple availability fresh fruit meals self serve bar economy aircraft airlines recession passengers expect treats food across short haul flights making cuts easier game says miller passengers notice far less airline sandwich packet biscuits plastic cup coffee says long haul flights airlines restrained cut miller people measure standard flight quality food size portion get meal cut back severely going walk away important food flights good enough sound \n",
      "Original summary: in flight food has been the of much for the industry industry experts say is despite some budget food is back in focus after six page from passenger the letter to the passenger of \n",
      " new the the the the the the the the the the the the the the the the the the the the the the the the the the the the\n",
      "Predicted summary:  new the the the the the the the the the the the the the the the the the the the the the the the the the the the the\n",
      "\n",
      "\n",
      "Review: daily mail reporter published est february updated est february security chiefs warn possible terror plot using explosives hidden tubes olympic games banned carry luggage ban hand luggage apply non stop flights russia winter games held warning homeland security said terror groups might try explosive devices flights arrival olympics ban passengers taking direct flights russia allowed carry hand luggage delta airlines american airline regularly scheduled flights russia posted warning transportation security administration policy thursday well restrictions items hand luggage delta advised customers flying russia need check personally one representatives rather using online mobile warning made public eve winter games sochi although homeland security said government aware threat russian government tried fears potential terror attack security fears sochi games target several terrorist threats recent months confiscated bag filled banned items taken passengers bags previous ban shows type items likely removed airport staff russian deputy prime minister told fox news guarantee safety people well government hosting mass event reason believe sochi russia threat city world added \n",
      "Original summary: you ban comes amid fears could in will to during olympics in \n",
      " new the the the the the the the the the the the the the the the the the the the the the the the the the the the the\n",
      "Predicted summary:  new the the the the the the the the the the the the the the the the the the the the the the the the the the the the\n",
      "\n",
      "\n",
      "Review: gerard brand follow victor garcia european championships came end tuesday zurich spaniard knee final hurdle fell heavily men garcia speeding around outside fifth place approaching hurdle taken away stadium cart garcia fifth place going final hurdle zurich disaster garcia suffered nasty fall european championships came end spaniard would qualified finished fifth instead crashed poland qualified win alongside martin garcia history falling final hurdle year old leading final european championships falling recovering claim bronze garcia lies injured floor runners go line agony garcia helped away staff poland winning heat \n",
      "Original summary: on final in european was in fifth place he would have officials away after the and fall year old fell in similar fashion at to win \n",
      " new the the the the the the the the the the the the the the the the the the the the the the the the the the the the\n",
      "Predicted summary:  new the the the the the the the the the the the the the the the the the the the the the the the the the the the the\n",
      "\n",
      "\n",
      "Review: talk wrote june writes weekly humor column community paper daily weeks since status bill thomas job church become unclear first baptist pastor said accepted thomas resignation thomas wrote letter obtained newspaper quit thomas worked church years also musical director crazy old uncle christians angela thomas used newspaper column fun southern bill angela thomas declined interviewed associated press tuesday previously told newspaper agreed wife wrote column said southern become raging shiite right past four decades santa easter bunny simply devil disguise cable television internet playground boy scouts evil wrote city western part state miles southwest first baptist church pastor joe leonard said opinion piece bill thomas departure people made leonard said column conversation reason resigned cannot conversation went southern baptist church strongly opposed boy scouts america new policy welcome openly gay members leonard said accepted thomas resignation thomas fired thomas wrote letter resigned intention stepping rev russell moore head public policy arm southern baptist convention said surprised tone column came spouse church employee clear whether angela thomas also attended first baptist find column sort one would typically find moore said found instead someone hostile stand moore said column also convention stance boy scout policy southern baptist convention action last month balanced resolution boy scouts moore said expressed disappointment speak harsh terms also direct churches respond southern baptist convention believes marriage man woman homosexuality sin headquarters nation largest southern nashville many churches around country including baptist protested boy scouts policy cutting ties local first baptist member larry wilson said bill thomas accused staff committee told submit letter resignation sounds like termination forced resignation resignation said wilson also hopkins county magistrate wilson said believed bill thomas ran church leadership column published supporting openly gay church member wilson said thomas told prevent member joining choir thomas declined church offered thomas package making public statements details departure wilson said according church policy staff must approved congregation church leaders wanted avoid step wilson said wilson said enjoyed reading angela thomas column points thought hilarious funny thought said maybe shiite pastor wife angela thomas wrote newspaper column husband church raging shiite stance issues homosexuality boy scouts america \n",
      "Original summary: the old of now question mark over her husband bill job as at the first church in his boss claims he has thomas but thomas claims that he has not his wife was in response to the church opposition to the boy of america now gay members \n",
      " new the the the the the the the the the the the the the the the the the the the the the the the the the the the the\n",
      "Predicted summary:  new the the the the the the the the the the the the the the the the the the the the the the the the the the the the\n",
      "\n",
      "\n",
      "Review: guided firearms automatically aim targets app known texas firm software used enable advanced array new video one youtube user shows let us hit smartphone rifle one away scroll video software shooter accurately fire targets painting distance software helps gun others even follow along action ios app iphone ipad video youtube user firing says largest guided firearm available today laser used shooter looking scope identify target wants hit high tech sight takes account wind typical drop would expect bullet fired distance target selected scope provides cross lined pin dropped target ensure accuracy shooter even squeeze trigger unless cross pin rifle employs targeting system boasts range kilometres using system allows accurate precise shots distant target even one small smartphone shoot something shooter first marks using button near trigger marking target tracking scope built laser target gains red pin scope display scope provides cross lined pin shooter able pull trigger unless two video youtube user fires several shots htc one highlighting impressive level accuracy gun though central dot quite big distance one hard know part phone shooting us military testing guided firearms view field future back january reported acquired six smart rifles texas based rifle also offers ios app scope via mobile wi fi network scope display app allowing someone ipad iphone act videos uploaded internet allows hunters gain instant advice aim experts using internet allows video anything shoot expedition onto web proof makers rifle also claim gun safer standard bolt action rifle large number injuries caused guns fired nervous fingers rifle increases pull strength trigger target way hunter likely hit target accidental largely avoided smart rifles shoot even target moving fast miles per hour firearms use company system tracks range drop effect effect direction cannot pressure temperature barrel length twist lock time drag \n",
      "Original summary: new youtube video shows off with from away the gun uses known as this to and hit or moving target the can help people more become expert \n",
      " new the the the the the the the the the the the the the the the the the the the the the the the the the the the the\n",
      "Predicted summary:  new the the the the the the the the the the the the the the the the the the the the the the the the the the the the\n",
      "\n",
      "\n",
      "Review: gates wrote presence bush unlike father pretty passionate war iraq occasion medal honor ceremony like would see eyes well worked obama longer bush never saw eyes well opinion obama concerned getting rid united states military policy openly gay soldiers serving affordable care act gates wrote military matter apart leaks ever deep passion part ask tell changing law seemed inevitable next step civil rights movement presumably also passionate health care reform present discussions president george bush joined defense secretary robert gates start army versus navy football game philadelphia pennsylvania december president barack obama shakes hands defense secretary robert gates gate farewell ceremony pentagon near washington june responding criticism gates book former white house press secretary robert gibbs defended president said think one things take away least book bob gates like questions bob gates gibbs said nbc meet press john mccain called former defense secretary robert gates obviously frustrated criticized release gates new book part series remarks foreign policy sunday also suggested retired general david petraeus return iraq deal growing violence mccain made remarks part interview candy cnn state union sunday mccain said gates would waited release book duty secretary war said include sharp criticism president obama handling war afghanistan sen john mccain seen file photo said thought former defense secretary obviously frustrated let loose release new memoir gates seen cover new book duty secretary war reportedly accuses president barack obama showing little enthusiasm war mission afghanistan work think frankly might given advice would waited mccain said far waiting afghanistan would done maybe little longer obviously frustrated felt way surprised us know decided really kind let loose mccain however described gates one finest public servants known senator also seemed praise skills petraeus former ambassador ryan would suggest perhaps sending david petraeus ambassador back mccain said cnn anchor candy al maliki trusts petraeus also served director central intelligence agency resignation news affair paula broadwell became public served us ambassador iraq well ambassador afghanistan retired due unknown health reasons reported time mccain also said believed iraq lost united states may able offer support mccain also said would suggest retired general david petraeus return iraq \n",
      "Original summary: defense secretary claims to have found president obama of for military because for claims that he would witness president george bush become at medal of ceremony but not obama claims that the only military issue that obama become in was the of do not do not tell \n",
      " new the the the the the the the the the the the the the the the the the the the the the the the the the the the the\n",
      "Predicted summary:  new the the the the the the the the the the the the the the the the the the the the the the the the the the the the\n",
      "\n",
      "\n",
      "Review: lights attract thousands tiny swimming sea recently one inside ear canal felt like entered brain time found quite disturbing although fortunately minutes found way taylor previously created real life city sunk life size sculpture even house also unveiled series new sculptures last month including one called turning back cement cast woman loss caribbean coral another self depicts solitary burning figure reference practice setting fire form political protest talking art speaker stands bed sea grass sculpture planted rare coral stunning sculpture planted rare coral mexico prolific taylor works permanently display site many feature live coral latest year old unveiled new series works last month de museum co founded back coast mexico made black neutral marine cement work steel time fast growing bright yellow live fire coral flames taylor said try use work highlight huge losses blue planet changing quite dramatically future generations going see number species fantastic want balance sadness order inspire people offer hope well another taylor sculptures looking figure uses live purple fan coral rescued displaced reef system damaged recent storm art message number new works deal devastation natural marine habitat natural subject turning back de mexico cement cast woman tragic loss caribbean coral artistic installation one artist latest sculptures pictured lowered water submarine park last light sculpture gets one last glimpse daylight completely submerged water getting wet turning back carefully water placed rock bottom ocean strong currents around museum meant sculptures bridge nearby canal site dover kent born artist said much delicate pieces made difficult working tough conditions box sink underwater believe taking apart underwater difficult taylor works permanently display site although final time prepares back europe however museum huge success receiving visitors year taylor trying secure funding eventually expand include figures famous army said leaving mexico got legacy daughter come back twenty years time still creative works include life size version underwater city homes hands man sticks top water lowered crane hook left artist jason taylor gets water help lower one sculptures place right preparation work jason taylor works sculpture self studio expanding museum huge success receiving visitors year taylor trying secure funding eventually expand site figures \n",
      "Original summary: british taylor co the de in mexico in over the years he has more than works of art in the museum some are after sea and other life have made them their homes \n",
      " new the the the the the the the the the the the the the the the the the the the the the the the the the the the the\n",
      "Predicted summary:  new the the the the the the the the the the the the the the the the the the the the the the the the the the the the\n",
      "\n",
      "\n"
     ]
    }
   ],
   "source": [
    "for i in range(1000, 1010):\n",
    "    print('Review:', seq2text(X_train[i]))\n",
    "    print('Original summary:', seq2summary(y_train[i]))\n",
    "    print('Predicted summary:', sequence_decoder(X_train[i].reshape(1, max_article_len)))\n",
    "    print('\\n')"
   ]
  }
 ],
 "metadata": {
  "kernelspec": {
   "display_name": "Python 3 (ipykernel)",
   "language": "python",
   "name": "python3"
  },
  "language_info": {
   "codemirror_mode": {
    "name": "ipython",
    "version": 3
   },
   "file_extension": ".py",
   "mimetype": "text/x-python",
   "name": "python",
   "nbconvert_exporter": "python",
   "pygments_lexer": "ipython3",
   "version": "3.12.3"
  }
 },
 "nbformat": 4,
 "nbformat_minor": 5
}
