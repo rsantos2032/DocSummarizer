{
 "cells": [
  {
   "cell_type": "code",
   "execution_count": 58,
   "metadata": {},
   "outputs": [],
   "source": [
    "import numpy as np\n",
    "from datasets import load_dataset, Dataset\n",
    "import pandas as pd\n",
    "from transformers import AutoTokenizer, TFAutoModelForSeq2SeqLM"
   ]
  },
  {
   "cell_type": "code",
   "execution_count": 26,
   "metadata": {},
   "outputs": [
    {
     "name": "stdout",
     "output_type": "stream",
     "text": [
      "DatasetDict({\n",
      "    train: Dataset({\n",
      "        features: ['id', 'sources', 'sources_metadata', 'summary/long', 'summary/short', 'summary/tiny', 'case_metadata'],\n",
      "        num_rows: 3177\n",
      "    })\n",
      "    validation: Dataset({\n",
      "        features: ['id', 'sources', 'sources_metadata', 'summary/long', 'summary/short', 'summary/tiny', 'case_metadata'],\n",
      "        num_rows: 454\n",
      "    })\n",
      "    test: Dataset({\n",
      "        features: ['id', 'sources', 'sources_metadata', 'summary/long', 'summary/short', 'summary/tiny', 'case_metadata'],\n",
      "        num_rows: 908\n",
      "    })\n",
      "})\n"
     ]
    }
   ],
   "source": [
    "dataset = load_dataset(\"allenai/multi_lexsum\", \"v20230518\", cache_dir=\"./data\")\n",
    "print(dataset)"
   ]
  },
  {
   "cell_type": "code",
   "execution_count": 45,
   "metadata": {},
   "outputs": [],
   "source": [
    "train_df = pd.DataFrame(dataset['train'])\n",
    "validation_df = pd.DataFrame(dataset['validation'])\n",
    "test_df = pd.DataFrame(dataset['test'])"
   ]
  },
  {
   "cell_type": "code",
   "execution_count": 46,
   "metadata": {},
   "outputs": [],
   "source": [
    "df = pd.concat([train_df, validation_df, test_df], keys=['train', 'validation', 'test'], ignore_index=False)"
   ]
  },
  {
   "cell_type": "code",
   "execution_count": 47,
   "metadata": {},
   "outputs": [
    {
     "data": {
      "text/html": [
       "<div>\n",
       "<style scoped>\n",
       "    .dataframe tbody tr th:only-of-type {\n",
       "        vertical-align: middle;\n",
       "    }\n",
       "\n",
       "    .dataframe tbody tr th {\n",
       "        vertical-align: top;\n",
       "    }\n",
       "\n",
       "    .dataframe thead th {\n",
       "        text-align: right;\n",
       "    }\n",
       "</style>\n",
       "<table border=\"1\" class=\"dataframe\">\n",
       "  <thead>\n",
       "    <tr style=\"text-align: right;\">\n",
       "      <th></th>\n",
       "      <th></th>\n",
       "      <th>id</th>\n",
       "      <th>sources</th>\n",
       "      <th>sources_metadata</th>\n",
       "      <th>summary/long</th>\n",
       "      <th>summary/short</th>\n",
       "      <th>summary/tiny</th>\n",
       "      <th>case_metadata</th>\n",
       "    </tr>\n",
       "  </thead>\n",
       "  <tbody>\n",
       "    <tr>\n",
       "      <th rowspan=\"5\" valign=\"top\">train</th>\n",
       "      <th>0</th>\n",
       "      <td>EE-AL-0045</td>\n",
       "      <td>[Case 1:05-cv-00530-D Document 1-1 Filed 09/19...</td>\n",
       "      <td>{'doc_id': ['EE-AL-0045-0001', 'EE-AL-0045-000...</td>\n",
       "      <td>On September 15, 2005, the Equal Employment Op...</td>\n",
       "      <td>Equal Employment Opportunity Commission brough...</td>\n",
       "      <td>None</td>\n",
       "      <td>{'case_name': 'EEOC v. House of Philadelphia C...</td>\n",
       "    </tr>\n",
       "    <tr>\n",
       "      <th>1</th>\n",
       "      <td>PB-NJ-0003</td>\n",
       "      <td>[Case 3:05-cv-01784-SRC-JJH Document 2 Filed 0...</td>\n",
       "      <td>{'doc_id': ['PB-NJ-0003-0001', 'PB-NJ-0003-000...</td>\n",
       "      <td>NOTE:  This is one of three identically named ...</td>\n",
       "      <td>The case was brought by a non-profit organizat...</td>\n",
       "      <td>None</td>\n",
       "      <td>{'case_name': 'Disability Rights New Jersey v....</td>\n",
       "    </tr>\n",
       "    <tr>\n",
       "      <th>2</th>\n",
       "      <td>EE-FL-0136</td>\n",
       "      <td>[Case 9:07-cv-80713-KAM Document 1 Entered on ...</td>\n",
       "      <td>{'doc_id': ['EE-FL-0136-0001', 'EE-FL-0136-000...</td>\n",
       "      <td>On August 9, 2007, the United States Departmen...</td>\n",
       "      <td>None</td>\n",
       "      <td>None</td>\n",
       "      <td>{'case_name': 'United States v. Palm Beach Cou...</td>\n",
       "    </tr>\n",
       "    <tr>\n",
       "      <th>3</th>\n",
       "      <td>EE-CA-0305</td>\n",
       "      <td>[2006 WL 1787244\\n2006 WL 1787244 (N.D.Cal.) (...</td>\n",
       "      <td>{'doc_id': ['EE-CA-0305-0001', 'EE-CA-0305-000...</td>\n",
       "      <td>On May 11, 2006, African-American employees of...</td>\n",
       "      <td>This case was brought by African American empl...</td>\n",
       "      <td>None</td>\n",
       "      <td>{'case_name': 'Wynne v. McCormick &amp; Schmick's ...</td>\n",
       "    </tr>\n",
       "    <tr>\n",
       "      <th>4</th>\n",
       "      <td>NH-NJ-0002</td>\n",
       "      <td>[IN THE UNITED STATES DISTRICT COURT FOR THE D...</td>\n",
       "      <td>{'doc_id': ['NH-NJ-0002-0001', 'NH-NJ-0002-000...</td>\n",
       "      <td>Pursuant to the Civil Rights of Institutionali...</td>\n",
       "      <td>Pursuant to the Civil Rights of Institutionali...</td>\n",
       "      <td>None</td>\n",
       "      <td>{'case_name': 'U.S. v. Mercer County, New Jers...</td>\n",
       "    </tr>\n",
       "  </tbody>\n",
       "</table>\n",
       "</div>"
      ],
      "text/plain": [
       "                 id                                            sources  \\\n",
       "train 0  EE-AL-0045  [Case 1:05-cv-00530-D Document 1-1 Filed 09/19...   \n",
       "      1  PB-NJ-0003  [Case 3:05-cv-01784-SRC-JJH Document 2 Filed 0...   \n",
       "      2  EE-FL-0136  [Case 9:07-cv-80713-KAM Document 1 Entered on ...   \n",
       "      3  EE-CA-0305  [2006 WL 1787244\\n2006 WL 1787244 (N.D.Cal.) (...   \n",
       "      4  NH-NJ-0002  [IN THE UNITED STATES DISTRICT COURT FOR THE D...   \n",
       "\n",
       "                                          sources_metadata  \\\n",
       "train 0  {'doc_id': ['EE-AL-0045-0001', 'EE-AL-0045-000...   \n",
       "      1  {'doc_id': ['PB-NJ-0003-0001', 'PB-NJ-0003-000...   \n",
       "      2  {'doc_id': ['EE-FL-0136-0001', 'EE-FL-0136-000...   \n",
       "      3  {'doc_id': ['EE-CA-0305-0001', 'EE-CA-0305-000...   \n",
       "      4  {'doc_id': ['NH-NJ-0002-0001', 'NH-NJ-0002-000...   \n",
       "\n",
       "                                              summary/long  \\\n",
       "train 0  On September 15, 2005, the Equal Employment Op...   \n",
       "      1  NOTE:  This is one of three identically named ...   \n",
       "      2  On August 9, 2007, the United States Departmen...   \n",
       "      3  On May 11, 2006, African-American employees of...   \n",
       "      4  Pursuant to the Civil Rights of Institutionali...   \n",
       "\n",
       "                                             summary/short summary/tiny  \\\n",
       "train 0  Equal Employment Opportunity Commission brough...         None   \n",
       "      1  The case was brought by a non-profit organizat...         None   \n",
       "      2                                               None         None   \n",
       "      3  This case was brought by African American empl...         None   \n",
       "      4  Pursuant to the Civil Rights of Institutionali...         None   \n",
       "\n",
       "                                             case_metadata  \n",
       "train 0  {'case_name': 'EEOC v. House of Philadelphia C...  \n",
       "      1  {'case_name': 'Disability Rights New Jersey v....  \n",
       "      2  {'case_name': 'United States v. Palm Beach Cou...  \n",
       "      3  {'case_name': 'Wynne v. McCormick & Schmick's ...  \n",
       "      4  {'case_name': 'U.S. v. Mercer County, New Jers...  "
      ]
     },
     "execution_count": 47,
     "metadata": {},
     "output_type": "execute_result"
    }
   ],
   "source": [
    "df.head(5)"
   ]
  },
  {
   "cell_type": "code",
   "execution_count": 53,
   "metadata": {},
   "outputs": [
    {
     "data": {
      "text/plain": [
       "id                     0\n",
       "sources                0\n",
       "sources_metadata       0\n",
       "summary/long           0\n",
       "summary/short       1401\n",
       "summary/tiny        2936\n",
       "case_metadata          0\n",
       "summary                0\n",
       "dtype: int64"
      ]
     },
     "execution_count": 53,
     "metadata": {},
     "output_type": "execute_result"
    }
   ],
   "source": [
    "df.isna().sum()"
   ]
  },
  {
   "cell_type": "code",
   "execution_count": 55,
   "metadata": {},
   "outputs": [
    {
     "data": {
      "text/html": [
       "<div>\n",
       "<style scoped>\n",
       "    .dataframe tbody tr th:only-of-type {\n",
       "        vertical-align: middle;\n",
       "    }\n",
       "\n",
       "    .dataframe tbody tr th {\n",
       "        vertical-align: top;\n",
       "    }\n",
       "\n",
       "    .dataframe thead th {\n",
       "        text-align: right;\n",
       "    }\n",
       "</style>\n",
       "<table border=\"1\" class=\"dataframe\">\n",
       "  <thead>\n",
       "    <tr style=\"text-align: right;\">\n",
       "      <th></th>\n",
       "      <th></th>\n",
       "      <th>document</th>\n",
       "      <th>summary</th>\n",
       "    </tr>\n",
       "  </thead>\n",
       "  <tbody>\n",
       "    <tr>\n",
       "      <th rowspan=\"5\" valign=\"top\">train</th>\n",
       "      <th>0</th>\n",
       "      <td>Case 1:05-cv-00530-D Document 1-1 Filed 09/19/...</td>\n",
       "      <td>On September 15, 2005, the Equal Employment Op...</td>\n",
       "    </tr>\n",
       "    <tr>\n",
       "      <th>1</th>\n",
       "      <td>Case 3:05-cv-01784-SRC-JJH Document 2 Filed 05...</td>\n",
       "      <td>NOTE:  This is one of three identically named ...</td>\n",
       "    </tr>\n",
       "    <tr>\n",
       "      <th>2</th>\n",
       "      <td>Case 9:07-cv-80713-KAM Document 1 Entered on F...</td>\n",
       "      <td>On August 9, 2007, the United States Departmen...</td>\n",
       "    </tr>\n",
       "    <tr>\n",
       "      <th>3</th>\n",
       "      <td>2006 WL 1787244\\n2006 WL 1787244 (N.D.Cal.) (T...</td>\n",
       "      <td>On May 11, 2006, African-American employees of...</td>\n",
       "    </tr>\n",
       "    <tr>\n",
       "      <th>4</th>\n",
       "      <td>IN THE UNITED STATES DISTRICT COURT FOR THE DI...</td>\n",
       "      <td>Pursuant to the Civil Rights of Institutionali...</td>\n",
       "    </tr>\n",
       "  </tbody>\n",
       "</table>\n",
       "</div>"
      ],
      "text/plain": [
       "                                                  document  \\\n",
       "train 0  Case 1:05-cv-00530-D Document 1-1 Filed 09/19/...   \n",
       "      1  Case 3:05-cv-01784-SRC-JJH Document 2 Filed 05...   \n",
       "      2  Case 9:07-cv-80713-KAM Document 1 Entered on F...   \n",
       "      3  2006 WL 1787244\\n2006 WL 1787244 (N.D.Cal.) (T...   \n",
       "      4  IN THE UNITED STATES DISTRICT COURT FOR THE DI...   \n",
       "\n",
       "                                                   summary  \n",
       "train 0  On September 15, 2005, the Equal Employment Op...  \n",
       "      1  NOTE:  This is one of three identically named ...  \n",
       "      2  On August 9, 2007, the United States Departmen...  \n",
       "      3  On May 11, 2006, African-American employees of...  \n",
       "      4  Pursuant to the Civil Rights of Institutionali...  "
      ]
     },
     "execution_count": 55,
     "metadata": {},
     "output_type": "execute_result"
    }
   ],
   "source": [
    "df['document'] = df['sources'].apply(lambda x: ' '.join(x))\n",
    "df['summary'] = df['summary/long']\n",
    "df.loc[:, ['document', 'summary']].head(5)"
   ]
  },
  {
   "cell_type": "code",
   "execution_count": 30,
   "metadata": {},
   "outputs": [
    {
     "name": "stderr",
     "output_type": "stream",
     "text": [
      "/Library/Frameworks/Python.framework/Versions/3.12/lib/python3.12/site-packages/huggingface_hub/file_download.py:1132: FutureWarning: `resume_download` is deprecated and will be removed in version 1.0.0. Downloads always resume when possible. If you want to force a new download, use `force_download=True`.\n",
      "  warnings.warn(\n",
      "All PyTorch model weights were used when initializing TFT5ForConditionalGeneration.\n",
      "\n",
      "All the weights of TFT5ForConditionalGeneration were initialized from the PyTorch model.\n",
      "If your task is similar to the task the model of the checkpoint was trained on, you can already use TFT5ForConditionalGeneration for predictions without further training.\n"
     ]
    }
   ],
   "source": [
    "checkpoint = \"t5-large\"\n",
    "tokenizer = AutoTokenizer.from_pretrained(checkpoint, cache_dir=\"../models\")\n",
    "model = TFAutoModelForSeq2SeqLM.from_pretrained(checkpoint, cache_dir=\"../models\")"
   ]
  },
  {
   "cell_type": "code",
   "execution_count": 59,
   "metadata": {},
   "outputs": [],
   "source": [
    "train_dataset = Dataset.from_pandas(df.xs('train'))\n",
    "val_dataset = Dataset.from_pandas(df.xs('validation'))\n",
    "test_dataset = Dataset.from_pandas(df.xs('test'))"
   ]
  },
  {
   "cell_type": "code",
   "execution_count": 61,
   "metadata": {},
   "outputs": [
    {
     "data": {
      "application/vnd.jupyter.widget-view+json": {
       "model_id": "af11ee56ae604f2ea7e87b6755c5e1f0",
       "version_major": 2,
       "version_minor": 0
      },
      "text/plain": [
       "Map:   0%|          | 0/3177 [00:00<?, ? examples/s]"
      ]
     },
     "metadata": {},
     "output_type": "display_data"
    }
   ],
   "source": [
    "def preprocess_function(train):\n",
    "    inputs = [doc for doc in train['document']]\n",
    "    targets = [summary for summary in train['summary']]\n",
    "    \n",
    "    model_inputs = tokenizer(inputs, max_length=512, truncation=True, return_tensors=\"tf\")\n",
    "    labels = tokenizer(text_target=targets, max_length=128, truncation=True, padding=\"max_length\", return_tensors=\"tf\")\n",
    "    \n",
    "    model_inputs['labels'] = labels['input_ids']\n",
    "    return model_inputs\n",
    "\n",
    "# Apply the preprocessing function to the datasets\n",
    "tokenized_train_dataset = train_dataset.map(preprocess_function, batched=True)\n",
    "tokenized_val_dataset = val_dataset.map(preprocess_function, batched=True)\n",
    "tokenized_test_dataset = test_dataset.map(preprocess_function, batched=True)"
   ]
  }
 ],
 "metadata": {
  "kernelspec": {
   "display_name": "Python 3",
   "language": "python",
   "name": "python3"
  },
  "language_info": {
   "codemirror_mode": {
    "name": "ipython",
    "version": 3
   },
   "file_extension": ".py",
   "mimetype": "text/x-python",
   "name": "python",
   "nbconvert_exporter": "python",
   "pygments_lexer": "ipython3",
   "version": "3.12.0"
  }
 },
 "nbformat": 4,
 "nbformat_minor": 2
}
