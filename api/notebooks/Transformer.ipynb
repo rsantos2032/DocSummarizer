{
 "cells": [
  {
   "cell_type": "code",
   "execution_count": 48,
   "metadata": {},
   "outputs": [],
   "source": [
    "import numpy as np\n",
    "from datasets import load_dataset, load_metric\n",
    "import pandas as pd\n",
    "import evaluate\n",
    "import rouge\n",
    "from transformers import AutoTokenizer, AutoModelForSeq2SeqLM\n",
    "import warnings\n",
    "import torch\n",
    "warnings.filterwarnings(\"ignore\")"
   ]
  },
  {
   "cell_type": "code",
   "execution_count": 2,
   "metadata": {},
   "outputs": [
    {
     "name": "stdout",
     "output_type": "stream",
     "text": [
      "DatasetDict({\n",
      "    train: Dataset({\n",
      "        features: ['id', 'sources', 'sources_metadata', 'summary/long', 'summary/short', 'summary/tiny', 'case_metadata'],\n",
      "        num_rows: 3177\n",
      "    })\n",
      "    validation: Dataset({\n",
      "        features: ['id', 'sources', 'sources_metadata', 'summary/long', 'summary/short', 'summary/tiny', 'case_metadata'],\n",
      "        num_rows: 454\n",
      "    })\n",
      "    test: Dataset({\n",
      "        features: ['id', 'sources', 'sources_metadata', 'summary/long', 'summary/short', 'summary/tiny', 'case_metadata'],\n",
      "        num_rows: 908\n",
      "    })\n",
      "})\n"
     ]
    }
   ],
   "source": [
    "dataset = load_dataset(\"allenai/multi_lexsum\", \"v20230518\", cache_dir=\"./data\")\n",
    "print(dataset)"
   ]
  },
  {
   "cell_type": "code",
   "execution_count": 3,
   "metadata": {},
   "outputs": [],
   "source": [
    "train_dataset = dataset['train']\n",
    "validation_dataset = dataset['validation']\n",
    "test_dataset = dataset['test']"
   ]
  },
  {
   "cell_type": "code",
   "execution_count": 4,
   "metadata": {},
   "outputs": [
    {
     "data": {
      "text/plain": [
       "{'id': 'EE-AL-0045',\n",
       " 'sources': ['Case 1:05-cv-00530-D Document 1-1 Filed 09/19/2005 Page 1 of 6\\n\\nIN\\n\\nTHE\\n\\nUNITED\\n\\nSTATES\\n\\nDISTRICT\\n\\nFILD COUR T\\n\\nP19\\n\\n.05\\n\\nNl\\n\\nel\\n\\n.s\\n\\nFOR THE SOUTHERN DISTRICT OF ALABAMA\\n\\nSOUTHERN DIVISION\\n\\nEQUAL EMPLOYMENT OPPORTUNITY ]\\n\\nCOMMISSION, ]\\n\\n] Plaintiff, ] Civil Action No. OSS- 0\\'53a -~\\n\\nv.\\n\\n]\\n\\n]\\nCOMPLAINT\\n\\n] HOUSE OF PHILADELPHIA CENTER, INC . ]\\n\\nJURY TRIAL DEMAND\\n\\nDefendant .\\n\\n]\\n]\\n] ]\\n\\nNATURE OF THE ACTION This is an action under Title VII of the Civil Rights Act of 1964 and Title I of the Civil Rights Act of 1991 to correct unlawful employment practices on the basis of sex and to provide appropriate relief to Sharonda Griffin who was adversely affected by such practices . The Commission alleges that the Defendant discriminated against Sharonda Griffin because of her sex, female .\\n\\n1\\n\\n\\x0cCase 1:05-cv-00530-D Document 1-1 Filed 09/19/2005 Page 2 of 6\\nJURISDICTION AND VENU E 1 . Jurisdiction of this Court is invoked pursuant to 28 U .S .C. §§ 451, 1331, 1337, 1343 and 1345 . This action is authorized and instituted pursuant to §§ 703, 706(f)(1) and (3) of Title VII of the Civil Rights Act of 1964, as amended, 42 U.S .C. § 2000e-2(a), 42 U .S .C . § 2000e-5(f)(l) and (3), and Section 102 of the Civil Rights Act of 1991, 42 U .S.C. Section 1981A . 2 . The unlawful employment practices alleged to be unlawful were committed within the jurisdiction of the United States District Court for the Southern District of Alabama, Southern Division .\\nPARTIES 3 . Plaintiff, the Equal Employment Opportunity Commission (the \"Commission\"), is the agency of the United States of America charged with the administration, interpretation and enforcement of Title VII, and is expressly authorized to bring this action by § 706(f)(1) and (3) of Title VII, 42 U.S.C. § 2000e-5(f)(l) and (3) . 4. At all relevant times, the Defendant, House of Philadelphia Center, Incorporated (\"House of Philadelphia\" or the \"Employer\") has continuously been doing business in the State of Alabama and the city of Irvington, and has continuously had at least 15 employees.\\n2\\n\\n\\x0cCase 1:05-cv-00530-D Document 1-1 Filed 09/19/2005 Page 3 of 6\\n5 . At all relevant times, the Defendant Employer has continuously been an employer engaged in an industry affecting commerce within the meaning of Sections 701(b), (g) and (h) of Title VII, 42 U .S .C . § 2000e-(b), (g) and (h) .\\nSTATEMENT OF CLAIM S 6 . More than thirty days prior to the institution of this lawsuit, Sharonda Griffin filed a Charge of Discrimination with the Commission alleging violations of Title VII by Defendant Employer. All conditions precedent to the institution of this lawsuit have been fulfilled. 7 . Since at least October 15, 2004, Defendant has engaged in unlawful employment practices at its Irvington, Alabama, facility in violation of Section 703 (a) of Title VII, 42 U .S.C. § 2000e-2(a). In particular, Defendant discharged Sharonda Griffin because she was pregnant . 8 . The effect of the practices complained of in paragraph 7 above has been to deprive Sharonda Griffin of equal employment opportunities and otherwise adversely affected her status as an employee, because of her sex, female . 9. The unlawful employment practices complained of in paragraphs 7 and 8 above were intentional .\\n3\\n\\n\\x0cCase 1:05-cv-00530-D Document 1-1 Filed 09/19/2005 Page 4 of 6\\n10. The unlawful employment practices complained of in paragraphs 7, 8 and 9 above were done with malice or with reckless indifference to the federally protected rights of Sharonda Griffin.\\nPRAYER FOR RELIE F WHEREFORE , the Commission respectfully requests that this Court :\\nA. Grant a permanent injunction enjoining the Defendant Employer, its officers, agents, successors, assigns and all persons in active concert or participation with it, from engaging in any employment practices which discriminate on the basis of sex.\\nB . Order the Defendant to institute and carry out policies, practices and programs which provide equal employment opportunities for all of its employees regardless of sex and which eradicate the effects of its past and present unlawful employment practices .\\nC . Order the Defendant to make whole Sharonda Griffin by providing appropriate relief, in amounts to be determined at trial, and other affirmative relief necessary to eradicate the effects of its unlawful employment practices .\\nD. Order Defendant Employer to make whole Sharonda Griffin by providing her with compensation for non-pecuniary losses resulting from the unlawful employment practices described in paragraphs 7, 8 and 9 above, including pain an d\\n4\\n\\n\\x0cCase 1:05-cv-00530-D Document 1-1 Filed 09/19/2005 Page 5 of 6\\nsuffering, emotional distress, humiliation, isolation, depression, and loss of enjoyment of life, in amounts to be determined at trial .\\nE. Order Defendant Employer to pay Sharonda Griffin punitive damages for its malicious and reckless conduct described in paragraphs 7, 8 and 9 above, in amounts to be determined at trial .\\nF. Grant such further relief as the Court deems necessary and proper in the public interest .\\nG. Award the Commission its costs of this action . JURY TRIAL DEMAND\\nThe Commission requests a jury trial on all questions of fact raised by its complaint .\\nRespectfully submitted , JAMES L. LEE Deputy General Counsel GWENDOLYN YOUNG REAMS Associate General Counse l EQUAL EMPLOYMENT OPPORTUNITY\\nCOMMISSION 1801 \"L\" Street, N .W. Washington, DC 2050 7\\n5\\n\\n\\x0cCase 1:05-cv-00530-D Document 1-1 Filed 09/19/2005 Page 6 of 6\\na\\'rles E. G rrier CHARLES GUERRIER Regional Attorney Ohio State Bar ID #002354 6\\ns/ Mason D. Barrett MASON D . BARRETT Senior Trial Attorney Colorado State Bar ID #2130 9\\nEQUAL EMPLOYMENT OPPORTUNITY COMMISSION\\n113022 d Street South , Suite 2000 Birmingham, Alabama 35205-2886 Telephone : (205) 212-2047 Facsimile : (205) 212-204 1\\n6\\n\\n\\x0c',\n",
       "  'Case 1:05-cv-00530-KD-M Document 9-t Filed 02/21/2006 Page 1 of 6\\n\\nIN THE UNITED STATES DISTRICT COURT FOR THE SOUTHERN DISTRICT OF ALABAMA\\nSOUTHERN DIVISION\\n\\nEQUAL EMPLOYMENT\\n\\n)\\n\\nOPPORTUNITY COMMISSION,\\n\\n)\\n\\n)\\n\\n- plaintiff,.\\n\\n.).. :-.. ,\\n\\n..\\n\\nvs.\\nHOUSE OF PHILADELPHIA CENTER, INC.,\\nDefendant.\\n\\n)\\n\\nCIVIL ACTION NO. 05-0530-D\\n\\n)\\n\\n)\\n\\n)\\n\\n)\\n\\n)\\n\\n)\\n\\nCOMPLAINT IN INTERVENTION\\n\\n1. This claim arises under Title VII of the Civil Rights Act of 1964, as amended, and\\n\\nPlaintiff Sharonda Griffin also asserts state law claims. This Court has jurisdiction over this action\\n\\npursuant to Title 28 U.S.C. §§1331 and 1343. This Court has supplemental jurisdiction over\\n\\nplaintiffs state law claims pursuant to 28 U.S.C. § 1367.\\n\\n2. Plaintiff Sharonda Griffin (\"Plaintiff\") is a female over the age of nineteen (19)\\n\\n3. Defendant House of Philadelphia Center, Inc. (\"Defendant\") is a corporation doing business in the Southern District of Alabama.\\nAt all times relevant to the complaint, Defendant had fifteen or more employees. At all times relevant to the complaint, Plaintiff was employed by Defendant. During the course of Plaintiff’s employment, Defendant discriminated against Plaintiff on the basis of her sex and pregnancy. 7. Plaintiff’s supervisor made defamatory remarks about Plaintiff to her co-workers.\\n\\n\\x0cCase 1:05-cv-00530-KD-M Document 9-1 Filed 02/21/2006 Page 2 of 6\\nPlaintiff was terminated from her employment on October ! 5, 2004. 9. Plaintiffs termination was based on her pregnancy. 10. In a letter 1o Plaintiff, dated October ! 5, 2004, Ms. Mamie H. Mackey, Director of the House of Philadelphia Center, Inc., stated, \"Please be advised thai your service is no longer needed at House o~Philadeiphia. Due to persofial, health reason which I have discussed with you. In the near future after you have the baby, I will consider you working for the company again. Your last working day will be Friday, October 15, 2004\". (Letter attached as Exhibit 1) 11. Plaintiff filed a timely Charge of Discrimination with the Equal Employment Opportunity Commission, (EEOC) Charge Number 130-2005-00806, in or about November of 2004. (EEOC Charge attached as Exhibit 2) 12. Plaintiff received a\"Cause Determination\" from the EEOC. (Determination attached as Exhibit 3) 13. The EEOC issued a determination that :\\nInvestigation revealed that Charging Party was discharged and informed she would be considered for re-employment after having her baby. Direct evidence indicates Charging Party’s pregnancy was a motivating factor in Respondent’s decision to discharge her. Evidence does not support the stated defense that the Charging Party voluntarily resigned. I fred reasonable cause to believe that the Charging Party was subjected to discriminatory discharge due to her pregnancy, in violalion of Title VII. 14. Thereafter, on or about September 19, 2005, the EEOC filed a lawsuit against the House of Philadelphia Center, Inc. 15. Plaintifftimely filed this complaint in intervention.\\nFirst Claim For Relief 16. Plaintiffincorporates by reference each of the foregoing allegations of fact as though\\n-2-\\n\\n\\x0cCase 1:05-cv-00530-KD-M Document 9-1 Filed 02/2112006 Page 3 of 6\\nfully set forth herein. 17. Defendant discriminated against Plaintiff in the terms and condilions of her\\nemployment, at ieasl partly because of her sex and pregnancy. 18. As a result of Defendant’s intentional and unlawful conduct, Plaintiff suffered and\\n\" ¯ \": ~:onlinues to suffer emotional painand suffering, inconvenience, mental.anguish, loss of enjoyment of life, loss of income, and loss of employment benefits. 19. Defendant acled with malice or with reckless indifference to Plaintiff’s federally protected fights. WHEREFORE, Plaintiff demands reinstatement, the removal of all unfavorable material related to this matter from her personnel files, back pay, front pay, compensatory and punitive damages, costs and attorneys’ fees and all other relief deemed appropriate by this Court and/or the\\nSecond Claim For Relief 20. Plaintiff incorporates by reference each of the foregoing allegations of fact as though fully set forth herein. 21. Defendant’s conduct created and/or condoned a hostile work environment for Plaintiff. 22. As a result of Defendant’s intentional and unlawful conduct, Plaintiff suffered and continues to suffer emotional pain and suffering, inconvenienee, mental anguish, and loss of enjoyment of life. 23. Defendant acted with malice or with reckless indifference to Plaintiffs federally protected rights.\\n-3-\\n\\n\\x0cCase 1:05-cv-00530-KD-M Document 9-1 Filed 02t21/2006 Page 4 of 6\\nWHEREFORE, Plaintiff demands reinstatement, the removal of all unfavorable material related to Ibis mailer from her personnel files, back pay, front pay, compensatory and punitive damages, costs and atton~eys’ fees and all olher relief deemed appropriate by this Court and/or Ihe jury.\\n: -.. Third Claim For Relief - 24. Plaintiff incorporates by reference each of the foregoing allegations of fact as though fully set forth herein. 25. Defendant terminated Plaintiffs employment because of her sex and pregnancy. 26. As a result of Defendant’s intentional and unlawful conduct, Plaintiff suffered and continues to suffer emotional pain and suffering, inconvenience, mental anguish, and loss of enjoyment of life. 27. Defendant acted with malice or with reckless indifference to Plaintiffs federally protected rights. WHEREFORE, Plaintiff demands reinstatement, the removal of all unfavorable material related to this matter from her personnel files, back pay, front pay, compensatory and punitive damages, costs and attorneys’ fees and all other relief deemed appropriate by this Court and/or the\\nSixth Claim For Relief 28. Plaintiffincoq~orates by reference each of the foregoing allegations of fact as though fully set forth herein. 29. Defendant made defamatory remarks about Plaintiff. 30. As a proximate result of defendant’s intentional and/or reckless conduct, Plaintiff\\n-4-\\n\\n\\x0cCase 1:05-cv-00530-KD-M Document 9-1 Filed 02/21/2006 t-’age b ol u\\nsuffered and continues to suffer emotional pain and suffering, inconvenience, mental anguish, loss of enjoyment of life, loss of income, and loss of employment benefits.\\nWHEREFORE, Plaintiff demands reinstatement, the removal of all unfavorable material related to this matter from her personnel files, back pay, front pay, compensatory and punitive. damages, coslg and aft0rne~s’ fees and all other relief deemed appropriate by this Court and/or the.\\njury.\\ns/Daniel A. Hannan DANIEL A. HANNAN (HANND4492) Attorney for Plaintiff OF COUNSEL: FRANKLIN & STEIN, P.C. 63 South Royal Street Suite 1109 Mobile, Alabama 36602 Phone: 251-433-0051 Fax: 251-433-3919 Email: dahlawyer@,hotmail, corn PLAINTIFF DEMANDS TRIAL BY JURY. s/Daniel A. Hannah\\n-5-\\n\\n\\x0cCase 1:05-cv-00530-KD-M Document 9-1 Filed 02/21/2006 Page 6 of 6\\nComplaint in Intervention EEOC vs. House of Philadelphia Center, Inc. Civil Action No. 05-0530-D\\nCERTIFICATE OF SERVICE I hereby certify that on 9th day of F~bmary, 2006, 1 electronically filed the foregoing document with the Clerk of the Court using the CM/ECF system which will send notification of such filing to the following: Charles Guerrier, Esq., Mason D. Barrett, Esq. and Raymond L. Bell, Jr., Esq.\\ns/Daniel A. Hannan Federal Bar Number: HANND4492\\n-6-\\n\\n\\x0c',\n",
       "  'i\\n\\nIN THE UNITED STATES DISTRICT COURT FOR THE SOUTHERN DISTRICT OF ALABAlVlA\\nSOUTHERN D1VISION\\n\\nEQUAL EMPLOYMENT\\n\\n)\\n\\nOPPORTUNITY COMl\\\\1ISSION,\\n\\n)\\n\\n)\\n\\nPlaintiff,\\n\\n)\\n\\n)\\n\\nand\\n\\n)\\n\\n)\\n\\nSHARONDA GRIFFIN,\\n\\n)\\n\\n)\\n\\nP l a i n t i f f - I n t e n r e n or,\\n\\n)\\n\\nv.\\n\\n)\\n\\n)\\n\\nHOUSE OF PHILADELPIIIA CENTER,)\\n\\nINC.,\\n\\n)\\n\\n)\\n\\nDefendant.\\n\\n)\\n\\n)\\n\\nCIVIL ACTION NO: 1:05-530..KO-M\\n\\nCONSENT DECREE\\n\\nThe Equal Emplo)\\'lnent Opportunity Commission (HEEOC\" or HCommission\") filed this\\n\\naction against House of Philadelphia Center, Inc. (\"House of Philadelphia\" or \"Defendant\") on\\n\\nSeptember 19, 2005, in this Court, to enforce Title VII of the Civil Rights Act of 1964,42 U.S.C.\\n\\\\\\n§2000e et seq. (Title VII) and the Civil Rights Act of 1991, 42 U.S.C. §1981a. In the Complaint,\\n\\nthe Cornmission alleged that House of Philadelphia discriminated against Sharonda Griffin\\n\\n(\"Griffin\") on the basis of scx, femalc, by discharging Ms. Griffin due to her pregnancy, in\\n\\nviolation of Title VII.\\n\\nHouse of Philadelphia denies all allegations of unlawful or wrongful conduct raised in the\\n\\ncomplaint, and nothing stated in this Decree constitutes an admission of liability or wrongdoing\\n\\non the part of House of Philadelphia.\\n\\n\\x0cThe Parties do not object to the jurisdiction of the Court over this action and waive their rights to a hearing and the entry of findings of fact and conclusions of law. Venue is appropriate in the Southern District of Alabama (Southern Division). The parties agree that this Consent Decree is fair, reasonable, and does not violate the law or public policy. The rights of Ms. Griffin, House of Philadelphia, and the Commission are protected adequately by this Decree.\\nIn the interest of resolving this matter~ avoiding the expense of further litigation, and as a result of having engaged in comprehensive settlement negotiations, the Commission and House of Philadelphia have agreed that this action should be finally resolved by entry of this Consent Decree.\\nIt is ORDERED, ADJUDGED AND DECREED: .1. This Decree resolves all claims arising out of the issues between the Commission and Defendant House of Philadelphia in this lawsuit, including without limitation, back pay, compensatory and punitive damages, injunctive relief, costs, and attorney fees. This decree is limited in its scope to matters covered explicitly herein and in particular only to the House of Philadelphia facilities in the State of Alabama. This Decree expires when House of Philadelphia has provided the relief and taken the action provided for herein, or as provided under paragraph 12 of this Decree, whichever is later. 2. Defendant and its officers, agents, employees, successors, and assigns both at the time that this Decree becomes effective and for the duration of this Decree agree to comply with Federal law and acknowledge that it is unlawful to: (a) discriminate against any employee on the basis of pregnancy or sex, (b) harass any employee based on pregnancy or sex; (c) retaliate against any employee because he or she: (i) opposes or opposed discriminatory practices nlade unlawful by Title VII; (ii) files or filed a charge of discrimination or assists, assisted,\\n2\\n\\n\\x0cparticipates, or participated in the filing of a charge of discrimination; or (iii) assists, assisted, participates or participated in an investigation or proceeding brought under the federal laws prohibiting discrimination or retaliation; and (d) alter the terms and conditions of any employee\\'s employment because of pregnancy or sex.\\nIVI0NETARY RElJEF 3. House of Philadelphia shaH pay, by certified checks, a total amount of $8,000.00 to Sharonda Griffin. Of this sum, $4,000.00 (four thousand dollars) shall be paid by House of Philadelphia to M\\'s. Griffin by October 6, 2006 and $4,000.00 (four thousand dollars) shall be paid by House of Philadelphia to Ms. Griffin by Monday, November 6, 2006. House of Philadelphia will not condition the receipt of individual relief on Ms. Griffin\\'s agree.ment to (a) maintain as confidential the tenns of this Decree, or (b) waive her statutory rights to file a charge with any federal or state anti-discrimination agency. House of Philadelphia will issue applicable United States Internal Revenue Service Forms to Ms. Griffin for all such payments on or before January 31, 2007. 4. The pa}\\'rnents provided for in paragraph 3 of this Decree shall be malled directly by House of Philadelphia\\'s attorney to Ms. Griffin\\'s attorney, Daniel A. Hannan, at Mr. Hannan\\'s business address. \\\\Vithin three (3) business days of the issuance of each cbeck, House of Philadelphia shall submit a copy of the check and related correspondence to the United States Equal Emp]oyment Opportunity Commission, Regional Attorney, Binningham District Office, 1130 22nd Street South, Suite 2000, Binningham, Alabama, 35205-2886.\\nOTHER RELIEF 5. Defendant will institute and carry out policies, practices and training at its Alabama facilities that help assure a \\\\\\\\tork environment free lrOln sex and pregnancy-based discrinlination\\n3\\n\\n\\x0cfor its employees that allow employees to raise concerns or complaints \\\\vithout retaliation about\\n\\nmatters, whether alleged~ perceived or actual, made unlawful by Title VII~ and that guide, direct\\n\\nand encourage employees to report incidents of pre~\\'11ancy and sex-based discrimination.\\n\\n6.\\n\\nDefendant will develop and adopt policies that inc1ude~ at a minimum:\\n\\na. A clear and strong commitment to a workplace free of pregnancy and sex-based\\n\\ndiscrimination;\\n\\nb. A clear and strong message of encouragement to persons who believe they have\\n\\nbeen discriminated against to come fonvard;\\n\\nc. A description of the consequences, up to and including tennination, that will be\\n\\nimposed upon violators of the policy;\\n\\nd. An assurance of non-retaliation for persons who believe they have been\\n\\ndiscriminated against and for witnesses;\\n\\ne. That discrimination on the basis of sex by anyone, including management\\n\\nofficials, supervisors, vendors, suppliers, third parties and customers, is prohibited and will not\\n\\nbe tolerated;\\n\\nf.\\n\\nAssurances that Defendant will investigate allegations of pregnancy and sex-\\n\\nbased discrimination promptly, fairly, reasonably, effectively and as confidentially as possible\\n\\nunder the circmnstances, by appropriate investigators and that appropriate corrective action and\\n\\nappropriate foHow-up will be taken by Defendant to make victims whole and to eradicate the\\n\\ndiscrimination;\\n\\ng. That infomlation will be provided each employee regarding the employee\\'s right\\n\\nto file a charge of discrimination with the EEOC, including contact telephone numbers,\\n\\nTDYITDD and addresses for the EEOC.\\n\\n4\\n\\n\\x0c7. \\\\Vithin sixty (60) days follo\\\\ving the date of entry of this Decree, and annually thereafter for the duration of this Decree, Defendant will provide training at each of its Alabama facilities which shaH explain:(l) what constitutes pregnancy and sex-based discrimination; (2) that Title\\nvn prohibits this misconduct; (3) how to prevent this misconduct; (4) to whom employees may\\ncomplain if they feel they have been subjected to this Inisconducl; and (5) that managers will be evaluated on their enforcen1ent of House of Philadelphia\\'s anti-discrimination policies. This training will also include an explanation of House of Philadelphia\\'s policies regarding pregnancy and sex-based discrimination; the importance of maintaining an environn1ent free from pregnancy and sex discrinlination; and the discipline that Inay be taken against other employees and the managers or supervisors who are found to have allowed the discrimination to occur. Pursuant to this Decree, House of Philadelphia will also conduct the same or similar training at intervals of approximately twelve (12) months during the pendency of this Decree. The following subparagraphs refer to each of the two training periods.\\na. The annual training session shall be at least two (2) hours in length, plus an additional thirty (30) minutes for questions and answers. Defendant\\'s Alabama management staff, including all managers who may investigate employee complaints shall attend the annual training sessions together with all hourly and salaried employees. The enlployees who are unable to attend the annual training session nlay watch a videotape of it.\\nb. Employees shall sign a registry when they attend the annual training session or watch the videotape of the annual training session. Defendant shall keep, for the duration of the Decree, this written record of all employees who attend the annual training session or watch it on videotape.\\n5\\n\\n\\x0cc.\\n\\nHOllse of Philadelphia win confinn in writing to the EEOC Regional Attorney\\n\\nthat this additional training has been completed in full compliance with the tenns of this Decree.\\n\\n\\\\Vithin ten (l0) days following its receipt, EEOC will confirm that this training requirement has\\n\\nbeen met or provide specific comments about how the training is not in compliance with the\\n\\nDecree. The parties would communicate to resolve any disputed issues on this training or, if\\n\\nnecessary, have the court resolve the matter.\\n\\n8. I-louse of Philadelphia will post its current EEO policies in a prominent location,\\n\\nfrequented by enlployees, at each of Defendant\\'s facilities in A1abama. These policies shaH also\\n\\nbe distributed to each current employee within thirty (30) days of the entry of the Decree, and\\n\\ndistributed to all new employees when hired.\\n\\n9. Defendant shall promptly and appropriately investigate aU complaints of pregnancy and\\n\\nsex-based discrimination. The investigation must inc1ude a finding of \\\\vhether discrimination\\n\\noccurred; a credibility assessment; interviews of all potential victims and witnesses identified;\\n\\nand concurrent notes of the investigation. Defendant shall take immediate appropriate corrective\\n\\naction to nlake discrinlination victims whole, to discipline violators, and to eradicate the\\n\\ndiscrimination. Defendant, if corrective action was required as a result of the investigation, shall\\n\\nfollow up with complainants at appropriate intervals to ensure that the discrimination does not\\n\\nreoccur. Defendant shall provide notice to EEOC of the resolutions of cOlnplaints of sex or\\n\\npregnancy-based discrimination during the pendency of this decree. That notice shall describe\\n\\nthe investigation, and the resolution of the investigation shall be provided to the EEOC within six\\n\\n(6) months of the initial complaint.\\n\\n6\\n\\n\\x0cAPPROVED A~D CONSE~TEf) TO BY:\\n\\nChiz,,e\"\":fA E4J~Jte,jfrA~,tY\\nHOtlSE OF PHILADELPH lAo\\nCENTER. INC\\n\\nAtto • for Defendant RA )\\'MONDL. BELL. ESQ.\\nBen &: Adanis. P,C.\\nPO, Box 1932 lvtohile, AL 36602 Telephone: (251) 694-9020\\n\\nAttorney for Plaintiff-Intervenor DANIEL A, HANNAN~ ESQ. 63 S. Royal Street, Suite 1109 ~fobile, Alabama 36602 Telephone; (251) 433-0051\\nATTORNEYS FOR PLAINTll1\\'F KEOS::\\n\\nC. EMANUEL SMITH Regional Attorney\\nSupervisory Trial Attorney\\nMASON D, BARRETT Senior Trial Attorney EQTJ AL El\\\\1PLOY~fENT OPPORTUNITY CO~1MISS[ON Binningham District Ofi1ce t 13() 22nd Street South,. Suite 2000 Bjrminghrun~ AL 35205~2886 Telephone: (205) 212-2047 Facsimile: (205) 212-2041\\n8\\n\\n\\x0cNOTICE\\n\\n10. Defendant will post the Notice attached as Attacl1Jllent A at each of Defendant\\'s facilities\\n\\nin Alabama. The Notice will be posted in a highly visible location, frequented by employees, for\\n\\nthe duration of this Decree. The Notice shall be posted in both English and in Spanish, and shall\\n\\nbe the same type, size, and style as Attachment A.\\n\\n11 w The parties shall bear their O\\\\\\\\\\'Il attorneys\\' fees and costs i~curred in this action up to the\\n\\ndate. of entry ofthis Decree.\\n\\nFORCE AND EFFECf\\n\\n12.\\n\\nThe duration of this Decree shall be thirty-six (36) months from ·its entry. This Court\\n\\nshall retain jurisdiction over this action for the duration of the Decree, during which the\\n\\nCommission may petition this Court for compliance with this Decree. Should the Court\\n\\ndetennine that defendant has not complied with this Decree, appropriate relief, including\\n\\nextension ofthis Decree for such period as may be necessary to remedy its non~comp1iance, may\\n\\nbe ordered. Absent extension, this Decree shall expire by its own tenns at the end of thirty-si~\\n\\n(36) months from the date of entry, without further action by the Parties.\\n\\n13. The parties agree to the entry ofthis Decree subject to final approval by the Court.\\n\\nIT IS SO ORDERED: This 9th day of January 2007.\\n\\n)\\n\\n///\\n\\n. / ) f)\\n\\n~~_/~\"\\'-~\\'-~~-~~-=~~~--r-___~/~\\'~~~/~~~(j~?\\n\\nISTI K. DuBOSE\\n\\nUNITED STATES DISTRICT JUDGE\\n\\n7\\n\\n\\x0c',\n",
       "  \"ALS District Version 3.0 Live - Docket Report\\n\\nhttps://ecf.alsd.uscourts.gov/cgi-bin/DktRpt.pl?423490290573601-L_3...\\n\\nU.S. District Court Southern District of Alabama (Mobile) CIVIL DOCKET FOR CASE #: 1:05-cv-00530-KD-M\\n\\nSCHEDO\\n\\nEqual Employment Opportunity Commission v. House of Philadelphia, Inc. Assigned to: Judge Kristi K. DuBose Referred to: Magistrate Judge Bert W. Milling, Jr Cause: Job Discrimination (Pregancy)\\n\\nDate Filed: 09/19/2005 Jury Demand: Both Nature of Suit: 442 Civil Rights: Jobs Jurisdiction: U.S. Government Plaintiff\\n\\nPlaintiff\\nEqual Employment Opportunity Commission\\n\\nrepresented by Charles Guerrier Equal Employment Opportunity Commission 1130 22nd St. S., Ste. 2000 Birmingham, AL 35205-2881 205-212-2044 Email: charles.guerrier@eeoc.gov LEAD ATTORNEY ATTORNEY TO BE NOTICED\\n\\nIntervenor Plaintiff Sharonda Griffin\\n\\nMason D. Barrett Equal Employment Opportunity Commission 1130 22nd St. S., Ste. 2000 Birmingham, AL 35205-2881 205-212-2047 Email: mason.barrett@eeoc.gov LEAD ATTORNEY ATTORNEY TO BE NOTICED\\nrepresented by Daniel A. Hannan Franklin & Stein, P.C. 63 S. Royal St. Ste. 1109 Mobile, AL 36602 (251) 433-0051 Email: dahlawyer@hotmail.com LEAD ATTORNEY ATTORNEY TO BE NOTICED\\n\\nV. Defendant\\n\\n1 of 4\\n\\n6/12/2007 2:53 PM\\n\\n\\x0cALS District Version 3.0 Live - Docket Report\\n\\nhttps://ecf.alsd.uscourts.gov/cgi-bin/DktRpt.pl?423490290573601-L_3...\\n\\nHouse of Philadelphia Center, Inc.\\n\\nrepresented by Raymond Lloyd Bell, Jr. Bell & Adams, P.C. P.O. Box 1932 Mobile, AL 36633 (251) 694-9020 Fax: 251-694-9022 Email: rbell@belladams.com LEAD ATTORNEY ATTORNEY TO BE NOTICED\\n\\nDate Filed 09/19/2005 10/07/2005\\n12/02/2005 01/10/2006 01/11/2006 01/13/2006 01/17/2006 02/09/2006 02/10/2006 02/10/2006\\n\\n#\\n\\nDocket Text\\n\\n1 COMPLAINT against House of Philadelphia Center, Inc., filed by Equal Employment Opportunity Commission. (Attachments: # 1 Civil Cover Sheet)(jlr) (Entered: 09/20/2005)\\n2 REQUEST FOR WAIVER of Service sent to Mamie H. Mackey as registered agent of House of Philadelphia Center, Inc. on 10/4/05 by Equal Employment Opportunity Commission. Waiver of Service due by 11/4/2005. (mca, ) (Entered: 10/07/2005)\\n3 Summons Issued as to House of Philadelphia Center, Inc.; summons mailed to counsel for service (mca, ) (Entered: 12/02/2005)\\n4 RETURN OF SERVICE of Summons and Complaint served 12-31-2005 as to House of Philadelphia Center, Inc. (Barrett, Mason) (Entered: 01/10/2006)\\nAnswer due from House of Philadelphia Center, Inc. on 1/20/2006. (cmj, ) (Entered: 01/11/2006)\\n5 ANSWER to Complaint with Jury Demand by House of Philadelphia Center, Inc..(Bell, Raymond) (Entered: 01/13/2006)\\n6 PRELIMINARY SCHEDULING ORDER entered Rule 26 Meeting Report due by 3/3/2006.. Signed by Judge Bert W. Milling Jr. on 1/17/06. (cmj, ) (Entered: 01/17/2006)\\n7 MOTION to Intervene by Sharonda Griffin. (Attachment #1 Complaint in Intervention; Attachment #2 Exhibit 1; Attachment #3 Exhibit 2; Attachment #4 Exhibit 3 (Hannan, Daniel) (Entered: 02/09/2006)\\nREFERRAL OF 7 MOTION to Intervene to Judge DuBose. (mca, ) (Entered: 02/10/2006)\\n8 Order re: 7 MOTION to Intervene filed by Sharonda Griffin. Response to Motion due by 2/17/2006. Any party objecting to the proposed relief shall file an objection no later than 2/17/06. If no objections are received by that date, Sharonda Griffin's motion will be automatically GRANTED and she will be allowed to intervene as a pltf without further order of the court. Signed by Judge Kristi K. DuBose on 2/10/06. (mca, ) (Entered: 02/10/2006)\\n\\n2 of 4\\n\\n6/12/2007 2:53 PM\\n\\n\\x0cALS District Version 3.0 Live - Docket Report\\n\\nhttps://ecf.alsd.uscourts.gov/cgi-bin/DktRpt.pl?423490290573601-L_3...\\n\\n02/21/2006 03/03/2006 03/03/2006 03/10/2006 03/13/2006\\n03/22/2006 03/22/2006 03/22/2006 03/24/2006 03/24/2006 03/27/2006 01/04/2007 01/04/2007 01/04/2007 01/04/2007 01/10/2007\\n\\n9 Intervenor COMPLAINT filed by Sharonda Griffin. (Attachments:, # 1 Exhibit, # 2 Exhibit, # 3 Exhibit)(mca, ) (Entered: 02/24/2006)\\n10 REPORT of Rule 26(f) Planning Meeting. (Hannan, Daniel) (Entered: 03/03/2006)\\nREFERRAL OF 10 Report of Rule 26(f) Planning Meeting to Judge Milling. (mca, ) (Entered: 03/03/2006)\\n11 ANSWER to Intervenor Complaint by House of Philadelphia Center, Inc..(Bell, Raymond) (Entered: 03/10/2006)\\n12 SCHEDULING ORDER: Pretrial Conference set for 3/8/2007 01:30 PM in Chambers before Judge Kristi K. DuBose. Amended Pleadings due by 5/5/2006. Discovery cutoff 10/6/2006. Motions due by 10/27/2006. Jury Selection set for 4/3/2007 08:45 AM in Courtroom 5A before Judge Kristi K. DuBose. Trial will be set for April, 2007. Position Regarding Settlement due by 10/6/2006. Defendant's narrative statement is stricken. Not later than 3/23/06, defendant is to supplement Report of Parties as set out. Signed by Judge Bert W. Milling Jr. on 3/13/06. (Attachments:, # 1 Standing Pretrial Order)(cmj, ) (Entered: 03/13/2006)\\n13 RESPONSE to 12 Scheduling Order,, Initial Disclosures filed by Sharonda Griffin. (Hannan, Daniel) (Entered: 03/22/2006)\\n14 RESPONSE TO ORDER re: 12 Scheduling Order,, by House of Philadelphia Center, Inc. filed by House of Philadelphia Center, Inc.. (Bell, Raymond) (Entered: 03/22/2006)\\nREFERRAL OF 13 Response, 14 Response to Order to Judge Milling. (mca, ) (Entered: 03/22/2006)\\n15 RESPONSE TO ORDER re: 12 Scheduling Order,, by House of Philadelphia Center, Inc. filed by House of Philadelphia Center, Inc.. (Bell, Raymond) (Entered: 03/24/2006)\\nREFERRAL OF 15 Response to Order to Judge Milling. (mca, ) (Entered: 03/24/2006)\\n16 Document endorsed NOTED by Judge Bert W. Milling Jr.: Response to Order15 filed by House of Philadelphia Center, Inc., (vlh, ) (Entered: 03/27/2006)\\n17 Proposed Consent Decree by Equal Employment Opportunity Commission. (Barrett, Mason) (Entered: 01/04/2007)\\n18 MOTION for Consent Decree by Equal Employment Opportunity Commission. (Barrett, Mason) (Entered: 01/04/2007)\\nMOTIONS REFERRED: 18 MOTION for Consent Decree to Judge DuBose (cmj) (Entered: 01/04/2007)\\nREFERRAL OF 17 Proposed Consent Decree to Judge DuBose. (cmj) (Entered: 01/04/2007)\\n19 CONSENT DECREE entered between EEOC and House of Philadelphia Center, Inc.. Signed by Judge Kristi K. DuBose on 1/9/07. (mca) (Entered: 01/10/2007)\\n\\n3 of 4\\n\\n6/12/2007 2:53 PM\\n\\n\\x0cALS District Version 3.0 Live - Docket Report\\n\\nhttps://ecf.alsd.uscourts.gov/cgi-bin/DktRpt.pl?423490290573601-L_3...\\n\\nPACER Service Center\\n\\nTransaction Receipt\\n\\nPACER Login:\\nDescription:\\nBillable Pages:\\n\\n06/12/2007 14:55:24\\n\\nhs0328 Client Code: eeoc\\n\\nDocket Report\\n\\nSearch Criteria:\\n\\n1:05-cv-00530-KD-M\\n\\n2\\n\\nCost:\\n\\n0.16\\n\\n4 of 4\\n\\n6/12/2007 2:53 PM\\n\\n\\x0c\"],\n",
       " 'sources_metadata': {'doc_id': ['EE-AL-0045-0001',\n",
       "   'EE-AL-0045-0002',\n",
       "   'EE-AL-0045-0003',\n",
       "   'EE-AL-0045-9000'],\n",
       "  'doc_type': ['Complaint', 'Complaint', 'Settlement Agreement', 'Docket'],\n",
       "  'doc_title': ['Complaint',\n",
       "   'Complaint in Intervention',\n",
       "   'Consent Decree',\n",
       "   'Docket [PACER]'],\n",
       "  'parser': ['pyxpdf', 'pyxpdf', 'pyxpdf', 'pyxpdf'],\n",
       "  'is_ocr': [True, True, True, False],\n",
       "  'url': ['https://clearinghouse.net/doc/22034',\n",
       "   'https://clearinghouse.net/doc/22035',\n",
       "   'https://clearinghouse.net/doc/22036',\n",
       "   'https://clearinghouse.net/doc/22031']},\n",
       " 'summary/long': 'On September 15, 2005, the Equal Employment Opportunity Commission (EEOC) filed suit against House of Philadelphia, Inc., on behalf of an employee who was allegedly fired because she was pregnant. Seeking monetary and injunctive relief for the employee (including economic damage, compensation for emotional harm, and punitive damages), the EEOC brought suit under Title VII of the Civil Rights Act of 1964 for unlawful discrimination on the basis of sex. The EEOC also sought to recover its costs.\\n\\nVia private counsel, the employee filed a motion to intervene in the suit, which was automatically granted after the period for filing objections passed without incident. The employee brought claims under Title VII and state law and sought substantially the same relief as the EEOC, except that the complaint specifically sought reinstatement.\\n\\nEventually the parties came to a settlement agreement, which the Court (Judge Kristi K. DuBose) entered as a consent decree on Jan 10, 2009. The terms of the decree, which lasted 3 years, provided monetary and injunctive relief. The employee received $8,000, while House of Philadelphia, Inc., was required to institute and follow policies to eliminate sex discrimination and pregnancy discrimination from the workplace and to post and distribute the policies to employees.  House of Philadelphia also had to provided yearly training to its employees explaining pregnancy and sex discrimination, informing them of its illegality, and explaining how to avoid it, who to file complaints with, and that managers would be evaluated for enforcing the anti-discrimination policies. House of Philadelphia was further required to investigate complaints adequately and report the results of each investigation to the EEOC. The 3-year decree period passed without court involvement and the case is now closed.',\n",
       " 'summary/short': 'Equal Employment Opportunity Commission brought a Title VII sex discrimination case against House of Philadelphia, Inc., on behalf of an employee who was allegedly fired because she was pregnant. The EEOC sought monetary and injunctive relief for the employee (including economic damage, compensation for emotional harm, and punitive damages). The employee later intervened in the suit. The parties came to a settlement that was entered as a consent decree. The decree provided for monetary relief for the employee and subjected House of Philadelphia to a 3-year injunction. The case is now closed.',\n",
       " 'summary/tiny': None,\n",
       " 'case_metadata': {'case_name': 'EEOC v. House of Philadelphia Center, Inc.',\n",
       "  'case_type': 'Equal Employment',\n",
       "  'filing_date': '2005-09-15',\n",
       "  'filing_year': '2005',\n",
       "  'case_ongoing': 'No',\n",
       "  'case_ongoing_record_time': '2022-05-19',\n",
       "  'closing_year': '2010',\n",
       "  'order_start_year': '2007',\n",
       "  'order_end_year': '2010',\n",
       "  'defendant_payment': '$8,000',\n",
       "  'class_action_sought': 'No',\n",
       "  'class_action_granted': 'Not sought',\n",
       "  'attorney_orgs': ['EEOC'],\n",
       "  'prevailing_party': 'Plaintiff',\n",
       "  'plaintiff_types': ['Private Plaintiff', 'EEOC Plaintiff'],\n",
       "  'plaintiff_description': 'Equal Employment Opportunity Commission filing on behalf of an employee fired she was pregnant',\n",
       "  'constitutional_clauses': [],\n",
       "  'causes_of_action': ['Title VII (including PDA), 42 U.S.C.  § 2000e'],\n",
       "  'summary_authors': ['22120'],\n",
       "  'case_url': 'https://clearinghouse.net/case/6817'}}"
      ]
     },
     "execution_count": 4,
     "metadata": {},
     "output_type": "execute_result"
    }
   ],
   "source": [
    "train_dataset[0]"
   ]
  },
  {
   "cell_type": "code",
   "execution_count": 5,
   "metadata": {},
   "outputs": [],
   "source": [
    "train_dataset = train_dataset.add_column(\"document\", [' '.join(x) for x in train_dataset['sources']])\n",
    "validation_dataset = validation_dataset.add_column(\"document\", [' '.join(x) for x in validation_dataset['sources']])\n",
    "test_dataset = test_dataset.add_column(\"document\", [' '.join(x) for x in test_dataset['sources']])\n",
    "\n",
    "train_dataset = train_dataset.rename_column(\"summary/long\", \"summary\")\n",
    "validation_dataset = validation_dataset.rename_column(\"summary/long\", \"summary\")\n",
    "test_dataset = test_dataset.rename_column(\"summary/long\", \"summary\")"
   ]
  },
  {
   "cell_type": "code",
   "execution_count": 6,
   "metadata": {},
   "outputs": [
    {
     "data": {
      "application/vnd.jupyter.widget-view+json": {
       "model_id": "fa2506671fe44c188386b9dc477283f2",
       "version_major": 2,
       "version_minor": 0
      },
      "text/plain": [
       "model.safetensors:   0%|          | 0.00/242M [00:00<?, ?B/s]"
      ]
     },
     "metadata": {},
     "output_type": "display_data"
    },
    {
     "data": {
      "application/vnd.jupyter.widget-view+json": {
       "model_id": "aa03a1d163cb4de6ad7ce58f3b8c29e9",
       "version_major": 2,
       "version_minor": 0
      },
      "text/plain": [
       "generation_config.json:   0%|          | 0.00/147 [00:00<?, ?B/s]"
      ]
     },
     "metadata": {},
     "output_type": "display_data"
    }
   ],
   "source": [
    "checkpoint = \"t5-small\"\n",
    "tokenizer = AutoTokenizer.from_pretrained(checkpoint, cache_dir=\"../models\", low_cpu_mem_usage=True, device_map=\"auto\")\n",
    "model = AutoModelForSeq2SeqLM.from_pretrained(checkpoint, cache_dir=\"../models\", low_cpu_mem_usage=True, device_map=\"auto\")"
   ]
  },
  {
   "cell_type": "code",
   "execution_count": 7,
   "metadata": {},
   "outputs": [
    {
     "data": {
      "application/vnd.jupyter.widget-view+json": {
       "model_id": "8e7e7db9f8cb4b049a9da51408265fea",
       "version_major": 2,
       "version_minor": 0
      },
      "text/plain": [
       "Map:   0%|          | 0/3177 [00:00<?, ? examples/s]"
      ]
     },
     "metadata": {},
     "output_type": "display_data"
    },
    {
     "data": {
      "application/vnd.jupyter.widget-view+json": {
       "model_id": "ba74474f41f24302b61d2028ccf67ec6",
       "version_major": 2,
       "version_minor": 0
      },
      "text/plain": [
       "Map:   0%|          | 0/454 [00:00<?, ? examples/s]"
      ]
     },
     "metadata": {},
     "output_type": "display_data"
    },
    {
     "data": {
      "application/vnd.jupyter.widget-view+json": {
       "model_id": "8dfb82d29bfc4b0fa72625e6cc1eafb3",
       "version_major": 2,
       "version_minor": 0
      },
      "text/plain": [
       "Map:   0%|          | 0/908 [00:00<?, ? examples/s]"
      ]
     },
     "metadata": {},
     "output_type": "display_data"
    }
   ],
   "source": [
    "def preprocess_function(train):\n",
    "    inputs = [doc for doc in train['document']]\n",
    "    targets = [summary for summary in train['summary']]\n",
    "\n",
    "    model_inputs = tokenizer(inputs, max_length=512, truncation=True, return_tensors=\"tf\")\n",
    "    labels = tokenizer(text_target=targets, max_length=128, truncation=True, padding=\"max_length\", return_tensors=\"tf\")\n",
    "\n",
    "    model_inputs['labels'] = labels['input_ids']\n",
    "    return model_inputs\n",
    "\n",
    "# Apply the preprocessing function to the datasets\n",
    "tokenized_train_dataset = train_dataset.map(preprocess_function, batched=True, batch_size=200)\n",
    "tokenized_val_dataset = validation_dataset.map(preprocess_function, batched=True, batch_size=200)\n",
    "tokenized_test_dataset = test_dataset.map(preprocess_function, batched=True, batch_size=200)"
   ]
  },
  {
   "cell_type": "code",
   "execution_count": 9,
   "metadata": {},
   "outputs": [
    {
     "data": {
      "application/vnd.jupyter.widget-view+json": {
       "model_id": "7d0ee3d264ab4d92b6afc84f17bb8b8f",
       "version_major": 2,
       "version_minor": 0
      },
      "text/plain": [
       "  0%|          | 0/15900 [00:00<?, ?it/s]"
      ]
     },
     "metadata": {},
     "output_type": "display_data"
    },
    {
     "name": "stdout",
     "output_type": "stream",
     "text": [
      "{'loss': 3.3173, 'grad_norm': 2.3476204872131348, 'learning_rate': 1.9371069182389938e-05, 'epoch': 0.63}\n"
     ]
    },
    {
     "data": {
      "application/vnd.jupyter.widget-view+json": {
       "model_id": "49234bad11a345c3a497f3291b1d08bd",
       "version_major": 2,
       "version_minor": 0
      },
      "text/plain": [
       "  0%|          | 0/114 [00:00<?, ?it/s]"
      ]
     },
     "metadata": {},
     "output_type": "display_data"
    },
    {
     "name": "stdout",
     "output_type": "stream",
     "text": [
      "{'eval_loss': 2.607638120651245, 'eval_runtime': 171.7953, 'eval_samples_per_second': 2.643, 'eval_steps_per_second': 0.664, 'epoch': 1.0}\n",
      "{'loss': 2.8914, 'grad_norm': 1.6709259748458862, 'learning_rate': 1.8742138364779877e-05, 'epoch': 1.26}\n",
      "{'loss': 2.7266, 'grad_norm': 1.6281154155731201, 'learning_rate': 1.8113207547169813e-05, 'epoch': 1.89}\n"
     ]
    },
    {
     "data": {
      "application/vnd.jupyter.widget-view+json": {
       "model_id": "81f6c7f2e2104949a9c478b5a54c85d5",
       "version_major": 2,
       "version_minor": 0
      },
      "text/plain": [
       "  0%|          | 0/114 [00:00<?, ?it/s]"
      ]
     },
     "metadata": {},
     "output_type": "display_data"
    },
    {
     "name": "stdout",
     "output_type": "stream",
     "text": [
      "{'eval_loss': 2.444697380065918, 'eval_runtime': 149.0888, 'eval_samples_per_second': 3.045, 'eval_steps_per_second': 0.765, 'epoch': 2.0}\n",
      "{'loss': 2.6547, 'grad_norm': 1.6987406015396118, 'learning_rate': 1.748427672955975e-05, 'epoch': 2.52}\n"
     ]
    },
    {
     "data": {
      "application/vnd.jupyter.widget-view+json": {
       "model_id": "55f49196b24e46b581a823d1b378885a",
       "version_major": 2,
       "version_minor": 0
      },
      "text/plain": [
       "  0%|          | 0/114 [00:00<?, ?it/s]"
      ]
     },
     "metadata": {},
     "output_type": "display_data"
    },
    {
     "name": "stdout",
     "output_type": "stream",
     "text": [
      "{'eval_loss': 2.3557748794555664, 'eval_runtime': 160.8405, 'eval_samples_per_second': 2.823, 'eval_steps_per_second': 0.709, 'epoch': 3.0}\n",
      "{'loss': 2.564, 'grad_norm': 3.078530788421631, 'learning_rate': 1.685534591194969e-05, 'epoch': 3.14}\n",
      "{'loss': 2.5194, 'grad_norm': 1.9098001718521118, 'learning_rate': 1.6226415094339625e-05, 'epoch': 3.77}\n"
     ]
    },
    {
     "data": {
      "application/vnd.jupyter.widget-view+json": {
       "model_id": "d1712190a0114ebebcfa3adb00d57ba3",
       "version_major": 2,
       "version_minor": 0
      },
      "text/plain": [
       "  0%|          | 0/114 [00:00<?, ?it/s]"
      ]
     },
     "metadata": {},
     "output_type": "display_data"
    },
    {
     "name": "stdout",
     "output_type": "stream",
     "text": [
      "{'eval_loss': 2.293869972229004, 'eval_runtime': 126.0985, 'eval_samples_per_second': 3.6, 'eval_steps_per_second': 0.904, 'epoch': 4.0}\n",
      "{'loss': 2.4903, 'grad_norm': 3.0646655559539795, 'learning_rate': 1.559748427672956e-05, 'epoch': 4.4}\n"
     ]
    },
    {
     "data": {
      "application/vnd.jupyter.widget-view+json": {
       "model_id": "2c654f4e462e49c1925fc19b1cfde286",
       "version_major": 2,
       "version_minor": 0
      },
      "text/plain": [
       "  0%|          | 0/114 [00:00<?, ?it/s]"
      ]
     },
     "metadata": {},
     "output_type": "display_data"
    },
    {
     "name": "stdout",
     "output_type": "stream",
     "text": [
      "{'eval_loss': 2.2492117881774902, 'eval_runtime': 126.3021, 'eval_samples_per_second': 3.595, 'eval_steps_per_second': 0.903, 'epoch': 5.0}\n",
      "{'loss': 2.4379, 'grad_norm': 1.5378423929214478, 'learning_rate': 1.4968553459119497e-05, 'epoch': 5.03}\n",
      "{'loss': 2.4103, 'grad_norm': 2.181291341781616, 'learning_rate': 1.4339622641509435e-05, 'epoch': 5.66}\n"
     ]
    },
    {
     "data": {
      "application/vnd.jupyter.widget-view+json": {
       "model_id": "7af19be088ba4d0da8a117814f7728fe",
       "version_major": 2,
       "version_minor": 0
      },
      "text/plain": [
       "  0%|          | 0/114 [00:00<?, ?it/s]"
      ]
     },
     "metadata": {},
     "output_type": "display_data"
    },
    {
     "name": "stdout",
     "output_type": "stream",
     "text": [
      "{'eval_loss': 2.2128758430480957, 'eval_runtime': 126.1991, 'eval_samples_per_second': 3.597, 'eval_steps_per_second': 0.903, 'epoch': 6.0}\n",
      "{'loss': 2.3934, 'grad_norm': 1.7541637420654297, 'learning_rate': 1.371069182389937e-05, 'epoch': 6.29}\n",
      "{'loss': 2.3344, 'grad_norm': 2.836533546447754, 'learning_rate': 1.3081761006289308e-05, 'epoch': 6.92}\n"
     ]
    },
    {
     "data": {
      "application/vnd.jupyter.widget-view+json": {
       "model_id": "a46e10ba9bfc45feb00dbddccd53a8d4",
       "version_major": 2,
       "version_minor": 0
      },
      "text/plain": [
       "  0%|          | 0/114 [00:00<?, ?it/s]"
      ]
     },
     "metadata": {},
     "output_type": "display_data"
    },
    {
     "name": "stdout",
     "output_type": "stream",
     "text": [
      "{'eval_loss': 2.187389612197876, 'eval_runtime': 126.3397, 'eval_samples_per_second': 3.593, 'eval_steps_per_second': 0.902, 'epoch': 7.0}\n",
      "{'loss': 2.3392, 'grad_norm': 2.0297186374664307, 'learning_rate': 1.2452830188679246e-05, 'epoch': 7.55}\n"
     ]
    },
    {
     "data": {
      "application/vnd.jupyter.widget-view+json": {
       "model_id": "7b11a1a7ec724d0f92d7eded5f8f4eca",
       "version_major": 2,
       "version_minor": 0
      },
      "text/plain": [
       "  0%|          | 0/114 [00:00<?, ?it/s]"
      ]
     },
     "metadata": {},
     "output_type": "display_data"
    },
    {
     "name": "stdout",
     "output_type": "stream",
     "text": [
      "{'eval_loss': 2.16432785987854, 'eval_runtime': 125.8774, 'eval_samples_per_second': 3.607, 'eval_steps_per_second': 0.906, 'epoch': 8.0}\n",
      "{'loss': 2.3382, 'grad_norm': 5.679198741912842, 'learning_rate': 1.1823899371069182e-05, 'epoch': 8.18}\n",
      "{'loss': 2.3091, 'grad_norm': 1.574336051940918, 'learning_rate': 1.119496855345912e-05, 'epoch': 8.81}\n"
     ]
    },
    {
     "data": {
      "application/vnd.jupyter.widget-view+json": {
       "model_id": "6fff029012b6489fa9c1ff7c41d988b1",
       "version_major": 2,
       "version_minor": 0
      },
      "text/plain": [
       "  0%|          | 0/114 [00:00<?, ?it/s]"
      ]
     },
     "metadata": {},
     "output_type": "display_data"
    },
    {
     "name": "stdout",
     "output_type": "stream",
     "text": [
      "{'eval_loss': 2.1469240188598633, 'eval_runtime': 125.8795, 'eval_samples_per_second': 3.607, 'eval_steps_per_second': 0.906, 'epoch': 9.0}\n",
      "{'loss': 2.2709, 'grad_norm': 1.949390172958374, 'learning_rate': 1.0566037735849058e-05, 'epoch': 9.43}\n"
     ]
    },
    {
     "data": {
      "application/vnd.jupyter.widget-view+json": {
       "model_id": "e5068113c8a54fb7ad8921a137d0745b",
       "version_major": 2,
       "version_minor": 0
      },
      "text/plain": [
       "  0%|          | 0/114 [00:00<?, ?it/s]"
      ]
     },
     "metadata": {},
     "output_type": "display_data"
    },
    {
     "name": "stdout",
     "output_type": "stream",
     "text": [
      "{'eval_loss': 2.131169557571411, 'eval_runtime': 127.8261, 'eval_samples_per_second': 3.552, 'eval_steps_per_second': 0.892, 'epoch': 10.0}\n",
      "{'loss': 2.285, 'grad_norm': 1.9353069067001343, 'learning_rate': 9.937106918238994e-06, 'epoch': 10.06}\n",
      "{'loss': 2.2672, 'grad_norm': 1.8346796035766602, 'learning_rate': 9.308176100628931e-06, 'epoch': 10.69}\n"
     ]
    },
    {
     "data": {
      "application/vnd.jupyter.widget-view+json": {
       "model_id": "99fa612c6f3d453a9692a6a64a3a1ad5",
       "version_major": 2,
       "version_minor": 0
      },
      "text/plain": [
       "  0%|          | 0/114 [00:00<?, ?it/s]"
      ]
     },
     "metadata": {},
     "output_type": "display_data"
    },
    {
     "name": "stdout",
     "output_type": "stream",
     "text": [
      "{'eval_loss': 2.1188416481018066, 'eval_runtime': 126.7185, 'eval_samples_per_second': 3.583, 'eval_steps_per_second': 0.9, 'epoch': 11.0}\n",
      "{'loss': 2.2493, 'grad_norm': 1.8176226615905762, 'learning_rate': 8.67924528301887e-06, 'epoch': 11.32}\n",
      "{'loss': 2.2402, 'grad_norm': 3.6251373291015625, 'learning_rate': 8.050314465408805e-06, 'epoch': 11.95}\n"
     ]
    },
    {
     "data": {
      "application/vnd.jupyter.widget-view+json": {
       "model_id": "78090401fa624c39b5cd6f9a63eded4f",
       "version_major": 2,
       "version_minor": 0
      },
      "text/plain": [
       "  0%|          | 0/114 [00:00<?, ?it/s]"
      ]
     },
     "metadata": {},
     "output_type": "display_data"
    },
    {
     "name": "stdout",
     "output_type": "stream",
     "text": [
      "{'eval_loss': 2.1078243255615234, 'eval_runtime': 126.7751, 'eval_samples_per_second': 3.581, 'eval_steps_per_second': 0.899, 'epoch': 12.0}\n",
      "{'loss': 2.2109, 'grad_norm': 1.4846117496490479, 'learning_rate': 7.421383647798742e-06, 'epoch': 12.58}\n"
     ]
    },
    {
     "data": {
      "application/vnd.jupyter.widget-view+json": {
       "model_id": "3a364320cd18496daa90f97c18e27cb0",
       "version_major": 2,
       "version_minor": 0
      },
      "text/plain": [
       "  0%|          | 0/114 [00:00<?, ?it/s]"
      ]
     },
     "metadata": {},
     "output_type": "display_data"
    },
    {
     "name": "stdout",
     "output_type": "stream",
     "text": [
      "{'eval_loss': 2.098891019821167, 'eval_runtime': 165.5875, 'eval_samples_per_second': 2.742, 'eval_steps_per_second': 0.688, 'epoch': 13.0}\n",
      "{'loss': 2.2536, 'grad_norm': 2.436431884765625, 'learning_rate': 6.792452830188679e-06, 'epoch': 13.21}\n",
      "{'loss': 2.2216, 'grad_norm': 1.6230992078781128, 'learning_rate': 6.163522012578617e-06, 'epoch': 13.84}\n"
     ]
    },
    {
     "data": {
      "application/vnd.jupyter.widget-view+json": {
       "model_id": "13126f74de854fdb90c2b1d2a5e4f3dc",
       "version_major": 2,
       "version_minor": 0
      },
      "text/plain": [
       "  0%|          | 0/114 [00:00<?, ?it/s]"
      ]
     },
     "metadata": {},
     "output_type": "display_data"
    },
    {
     "name": "stdout",
     "output_type": "stream",
     "text": [
      "{'eval_loss': 2.0919079780578613, 'eval_runtime': 169.7264, 'eval_samples_per_second': 2.675, 'eval_steps_per_second': 0.672, 'epoch': 14.0}\n",
      "{'loss': 2.2003, 'grad_norm': 1.4866026639938354, 'learning_rate': 5.534591194968554e-06, 'epoch': 14.47}\n"
     ]
    },
    {
     "data": {
      "application/vnd.jupyter.widget-view+json": {
       "model_id": "29b617f09f40468a91f4ca9eba70b932",
       "version_major": 2,
       "version_minor": 0
      },
      "text/plain": [
       "  0%|          | 0/114 [00:00<?, ?it/s]"
      ]
     },
     "metadata": {},
     "output_type": "display_data"
    },
    {
     "name": "stdout",
     "output_type": "stream",
     "text": [
      "{'eval_loss': 2.0841257572174072, 'eval_runtime': 156.5032, 'eval_samples_per_second': 2.901, 'eval_steps_per_second': 0.728, 'epoch': 15.0}\n",
      "{'loss': 2.1967, 'grad_norm': 1.6793218851089478, 'learning_rate': 4.905660377358491e-06, 'epoch': 15.09}\n",
      "{'loss': 2.2068, 'grad_norm': 4.331669330596924, 'learning_rate': 4.276729559748428e-06, 'epoch': 15.72}\n"
     ]
    },
    {
     "data": {
      "application/vnd.jupyter.widget-view+json": {
       "model_id": "21765b3e139748a488d1c904e8ddfc6d",
       "version_major": 2,
       "version_minor": 0
      },
      "text/plain": [
       "  0%|          | 0/114 [00:00<?, ?it/s]"
      ]
     },
     "metadata": {},
     "output_type": "display_data"
    },
    {
     "name": "stdout",
     "output_type": "stream",
     "text": [
      "{'eval_loss': 2.0794570446014404, 'eval_runtime': 161.4407, 'eval_samples_per_second': 2.812, 'eval_steps_per_second': 0.706, 'epoch': 16.0}\n",
      "{'loss': 2.1898, 'grad_norm': 1.9927520751953125, 'learning_rate': 3.647798742138365e-06, 'epoch': 16.35}\n",
      "{'loss': 2.196, 'grad_norm': 1.654184103012085, 'learning_rate': 3.018867924528302e-06, 'epoch': 16.98}\n"
     ]
    },
    {
     "data": {
      "application/vnd.jupyter.widget-view+json": {
       "model_id": "caa851d9081049faaf8d219f7636649d",
       "version_major": 2,
       "version_minor": 0
      },
      "text/plain": [
       "  0%|          | 0/114 [00:00<?, ?it/s]"
      ]
     },
     "metadata": {},
     "output_type": "display_data"
    },
    {
     "name": "stdout",
     "output_type": "stream",
     "text": [
      "{'eval_loss': 2.0756473541259766, 'eval_runtime': 154.6192, 'eval_samples_per_second': 2.936, 'eval_steps_per_second': 0.737, 'epoch': 17.0}\n",
      "{'loss': 2.1843, 'grad_norm': 2.2224488258361816, 'learning_rate': 2.389937106918239e-06, 'epoch': 17.61}\n"
     ]
    },
    {
     "data": {
      "application/vnd.jupyter.widget-view+json": {
       "model_id": "855e00bc8e804e569c6d32b474df79c2",
       "version_major": 2,
       "version_minor": 0
      },
      "text/plain": [
       "  0%|          | 0/114 [00:00<?, ?it/s]"
      ]
     },
     "metadata": {},
     "output_type": "display_data"
    },
    {
     "name": "stdout",
     "output_type": "stream",
     "text": [
      "{'eval_loss': 2.0738484859466553, 'eval_runtime': 137.5903, 'eval_samples_per_second': 3.3, 'eval_steps_per_second': 0.829, 'epoch': 18.0}\n",
      "{'loss': 2.1747, 'grad_norm': 1.740705966949463, 'learning_rate': 1.7610062893081762e-06, 'epoch': 18.24}\n",
      "{'loss': 2.1976, 'grad_norm': 1.6129711866378784, 'learning_rate': 1.1320754716981133e-06, 'epoch': 18.87}\n"
     ]
    },
    {
     "data": {
      "application/vnd.jupyter.widget-view+json": {
       "model_id": "5c545d62293d48b98f46f9cd63f278db",
       "version_major": 2,
       "version_minor": 0
      },
      "text/plain": [
       "  0%|          | 0/114 [00:00<?, ?it/s]"
      ]
     },
     "metadata": {},
     "output_type": "display_data"
    },
    {
     "name": "stdout",
     "output_type": "stream",
     "text": [
      "{'eval_loss': 2.0723631381988525, 'eval_runtime': 125.7308, 'eval_samples_per_second': 3.611, 'eval_steps_per_second': 0.907, 'epoch': 19.0}\n",
      "{'loss': 2.1747, 'grad_norm': 1.871368408203125, 'learning_rate': 5.031446540880503e-07, 'epoch': 19.5}\n"
     ]
    },
    {
     "data": {
      "application/vnd.jupyter.widget-view+json": {
       "model_id": "8b857b9858a54a2288a3e0826ae9d073",
       "version_major": 2,
       "version_minor": 0
      },
      "text/plain": [
       "  0%|          | 0/114 [00:00<?, ?it/s]"
      ]
     },
     "metadata": {},
     "output_type": "display_data"
    },
    {
     "name": "stdout",
     "output_type": "stream",
     "text": [
      "{'eval_loss': 2.0718045234680176, 'eval_runtime': 125.2452, 'eval_samples_per_second': 3.625, 'eval_steps_per_second': 0.91, 'epoch': 20.0}\n",
      "{'train_runtime': 70374.9809, 'train_samples_per_second': 0.903, 'train_steps_per_second': 0.226, 'train_loss': 2.364407521373821, 'epoch': 20.0}\n"
     ]
    },
    {
     "data": {
      "text/plain": [
       "TrainOutput(global_step=15900, training_loss=2.364407521373821, metrics={'train_runtime': 70374.9809, 'train_samples_per_second': 0.903, 'train_steps_per_second': 0.226, 'total_flos': 8599618065530880.0, 'train_loss': 2.364407521373821, 'epoch': 20.0})"
      ]
     },
     "execution_count": 9,
     "metadata": {},
     "output_type": "execute_result"
    }
   ],
   "source": [
    "from transformers import Seq2SeqTrainingArguments, Seq2SeqTrainer\n",
    "\n",
    "training_args = Seq2SeqTrainingArguments(\n",
    "    output_dir=\"../models\",\n",
    "    evaluation_strategy=\"epoch\",\n",
    "    learning_rate=2e-5,\n",
    "    per_device_train_batch_size=4,\n",
    "    per_device_eval_batch_size=4,\n",
    "    weight_decay=0.01,\n",
    "    save_total_limit=20,\n",
    "    num_train_epochs=20,\n",
    "    predict_with_generate=True,\n",
    "    fp16=True\n",
    ")\n",
    "\n",
    "trainer = Seq2SeqTrainer(\n",
    "    model=model,\n",
    "    args=training_args,\n",
    "    train_dataset=tokenized_train_dataset,\n",
    "    eval_dataset=tokenized_val_dataset,\n",
    "    tokenizer=tokenizer\n",
    ")\n",
    "\n",
    "trainer.train()"
   ]
  },
  {
   "cell_type": "code",
   "execution_count": 54,
   "metadata": {},
   "outputs": [
    {
     "data": {
      "text/plain": [
       "('../models/lexsum_model\\\\tokenizer_config.json',\n",
       " '../models/lexsum_model\\\\special_tokens_map.json',\n",
       " '../models/lexsum_model\\\\tokenizer.json')"
      ]
     },
     "execution_count": 54,
     "metadata": {},
     "output_type": "execute_result"
    }
   ],
   "source": [
    "model.save_pretrained(\"../models/lexsum_model\")\n",
    "tokenizer.save_pretrained('../models/lexsum_model')"
   ]
  },
  {
   "cell_type": "code",
   "execution_count": 45,
   "metadata": {},
   "outputs": [
    {
     "data": {
      "image/png": "[encoded data removed]",
      "text/plain": [
       "<Figure size 1000x500 with 1 Axes>"
      ]
     },
     "metadata": {},
     "output_type": "display_data"
    }
   ],
   "source": [
    "import matplotlib.pyplot as plt\n",
    "\n",
    "training_logs = trainer.state.log_history\n",
    "\n",
    "tr_losses = []\n",
    "eval_losses = []\n",
    "epochs = []\n",
    "\n",
    "for log in training_logs:\n",
    "    if 'loss' in log:\n",
    "        tr_losses.append((log['epoch'], log['loss']))\n",
    "    if 'eval_loss' in log:\n",
    "        eval_losses.append(log['eval_loss'])\n",
    "        epochs.append(log['epoch'])   \n",
    "      \n",
    "epoch_losses = {}\n",
    "for epoch, loss in tr_losses:\n",
    "    rounded_epoch = round(epoch)\n",
    "    if rounded_epoch not in epoch_losses:\n",
    "        epoch_losses[rounded_epoch] = []\n",
    "    epoch_losses[rounded_epoch].append(loss)\n",
    "\n",
    "smoothed_epoch_losses = {}\n",
    "for k,v in epoch_losses.items():\n",
    "    smoothed_epoch_losses[k] = np.mean(v)\n",
    "\n",
    "final_epoch = [x for x in training_logs if 'train_loss' in x][0]\n",
    "smoothed_epoch_losses[final_epoch['epoch']] = final_epoch['train_loss']\n",
    "\n",
    "plt.figure(figsize=(10, 5))\n",
    "plt.plot(epochs, smoothed_epoch_losses.values(), label='Training Loss')\n",
    "plt.plot(epochs, eval_losses, label='Validation Loss')\n",
    "plt.xlabel('Epochs')\n",
    "plt.ylabel('Loss')\n",
    "plt.legend()\n",
    "plt.title('Training and Validation Loss over Epochs')\n",
    "plt.show()"
   ]
  },
  {
   "cell_type": "code",
   "execution_count": 49,
   "metadata": {},
   "outputs": [],
   "source": [
    "tokenizer = AutoTokenizer.from_pretrained(\"../models/lexsum_model\", low_cpu_mem_usage=True, device_map=\"auto\")\n",
    "model = AutoModelForSeq2SeqLM.from_pretrained(\"../models/lexsum_model\", low_cpu_mem_usage=True, device_map=\"auto\")"
   ]
  },
  {
   "cell_type": "code",
   "execution_count": 51,
   "metadata": {},
   "outputs": [
    {
     "data": {
      "application/vnd.jupyter.widget-view+json": {
       "model_id": "270bcbf1e47a4a3bb40200c3ed560096",
       "version_major": 2,
       "version_minor": 0
      },
      "text/plain": [
       "  0%|          | 0/227 [00:00<?, ?it/s]"
      ]
     },
     "metadata": {},
     "output_type": "display_data"
    }
   ],
   "source": [
    "trainer = Seq2SeqTrainer(\n",
    "    model=model,\n",
    "    args=training_args,\n",
    "    eval_dataset=tokenized_test_dataset,\n",
    "    tokenizer=tokenizer\n",
    ")\n",
    "predictions = trainer.predict(test_dataset=tokenized_test_dataset)"
   ]
  },
  {
   "cell_type": "code",
   "execution_count": 53,
   "metadata": {},
   "outputs": [
    {
     "name": "stdout",
     "output_type": "stream",
     "text": [
      "rouge1: 0.1960\n",
      "rouge2: 0.1055\n",
      "rougeL: 0.1643\n",
      "rougeLsum: 0.1644\n"
     ]
    }
   ],
   "source": [
    "rouge_metric = load_metric(\"rouge\")\n",
    "\n",
    "def decode(preds, labels):\n",
    "    pred_str = tokenizer.batch_decode(preds, skip_special_tokens=True)\n",
    "    labels = np.where(labels != -100, labels, tokenizer.pad_token_id)\n",
    "    label_str = tokenizer.batch_decode(labels, skip_special_tokens=True)\n",
    "    return pred_str, label_str\n",
    "\n",
    "preds = predictions.predictions\n",
    "labels = predictions.label_ids\n",
    "pred_str, label_str = decode(preds, labels)\n",
    "\n",
    "rouge_results = rouge_metric.compute(predictions=pred_str, references=label_str)\n",
    "for key in rouge_results:\n",
    "    print(f\"{key}: {rouge_results[key].mid.fmeasure:.4f}\")"
   ]
  }
 ],
 "metadata": {
  "kernelspec": {
   "display_name": "Python 3",
   "language": "python",
   "name": "python3"
  },
  "language_info": {
   "codemirror_mode": {
    "name": "ipython",
    "version": 3
   },
   "file_extension": ".py",
   "mimetype": "text/x-python",
   "name": "python",
   "nbconvert_exporter": "python",
   "pygments_lexer": "ipython3",
   "version": "3.12.3"
  }
 },
 "nbformat": 4,
 "nbformat_minor": 2
}
